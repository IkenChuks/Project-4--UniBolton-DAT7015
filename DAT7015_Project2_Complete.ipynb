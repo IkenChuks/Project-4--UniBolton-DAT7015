{
 "cells": [
  {
   "cell_type": "markdown",
   "id": "0a135a3a",
   "metadata": {},
   "source": [
    "# Global Fashion Brands: An Exploratory Analysis\n",
    "## by Ikenna Chukwudum\n",
    "\n",
    "## Introduction\n",
    "> For the analysis of the fashion brands, we used 2 datasets: \"fashion_brand_details.xlsx\" with 1020 entries and 2 fields; and \"fashion_dataset.csv\" with 14329 entries and 9 columns. The analysis was started by merging these 2 datasets after importing them as dataframes into the notebook.\n",
    "\n",
    "> The new dataframe, after cleaning with python and merging with SQL, was explored to answer the questions on if poorly rated products should be discarded and whether black clothes are more highly rated and pricier than clothes of other colours. Also, attributes of the different products were examined and predictive analysis was carried out on the price of the commodities using machine learning.\n",
    "  \n",
    "> Further analysis and filtering was done with Spark, including map reduce. Thereafter, visualization to show the correlation between price and average rating was carried out with both seaborn and Power BI.\n",
    "\n",
    "\n",
    "## Preliminary Wrangling"
   ]
  },
  {
   "cell_type": "code",
   "execution_count": 1,
   "id": "acb0fcaa",
   "metadata": {},
   "outputs": [],
   "source": [
    "# Imported numpy and pandas packages for cleaning \n",
    "\n",
    "import numpy as np\n",
    "import pandas as pd\n"
   ]
  },
  {
   "cell_type": "markdown",
   "id": "8ceaabbb",
   "metadata": {},
   "source": [
    "> The analysis was started by reading the datasets \"fashion_dataset.csv\" and \"fashion_brand_details.xlsx\" to the dataframes design1_df and design2_df respectively, and thereafter investigating them"
   ]
  },
  {
   "cell_type": "code",
   "execution_count": 2,
   "id": "dcc709b3",
   "metadata": {},
   "outputs": [
    {
     "data": {
      "text/plain": [
       "['.ipynb_checkpoints',\n",
       " 'ALX PROJECTS',\n",
       " 'bigdata digram.pbix',\n",
       " 'bigdataassignment_2.ipynb',\n",
       " 'bigdataassignment_2.pdf',\n",
       " 'blackaprdts.csv',\n",
       " 'blackbprdts.csv',\n",
       " 'blackcprdts.csv',\n",
       " 'blackcprdtsattr.csv',\n",
       " 'blackprdts.csv',\n",
       " 'blackxprdts.csv',\n",
       " 'cars.csv',\n",
       " 'cars.csv.1',\n",
       " 'cars.csv.2',\n",
       " 'cars.csv.3',\n",
       " 'classwork 02-12.ipynb',\n",
       " 'copy1.ipynb',\n",
       " 'Data_Analysis_Lecture_DAT (1).ipynb',\n",
       " 'Decision Tree classification.ipynb',\n",
       " 'done_assign_2.ipynb',\n",
       " 'fashion1_master.csv',\n",
       " 'fashionbrands_sql.db',\n",
       " 'fashionbrandx_sql.db',\n",
       " 'fashionbrandy_sql.db',\n",
       " 'fashionbrandz_sql.db',\n",
       " 'fashionbrand_sql.db',\n",
       " 'fashionbrnd_sql.db',\n",
       " 'fashion_brand_details.xlsx',\n",
       " 'fashion_dataset.csv',\n",
       " 'fashion_master.csv',\n",
       " 'fashion_sql.db',\n",
       " 'filteredblackprdts.csv',\n",
       " 'i-Copy1.ipynb',\n",
       " 'i.ipynb',\n",
       " 'jupyter_sql.db',\n",
       " 'LowertRatedMovieSpark.txt',\n",
       " 'Multiple Regression-2 Complete.ipynb',\n",
       " 'PySpark (1).ipynb',\n",
       " 'real_estate.csv',\n",
       " 'review prdts visual.pbix',\n",
       " 'review prdts visual.pdf',\n",
       " 'reviewprdts.csv',\n",
       " 'spark-3.1.1-bin-hadoop3.2',\n",
       " 'spark-3.1.1-bin-hadoop3.2.tgz',\n",
       " 'spark-3.1.1-bin-hadoop3.2.tgz.1',\n",
       " 'spark-3.1.1-bin-hadoop3.2.tgz.2',\n",
       " 'Untitled.ipynb',\n",
       " 'Untitled1.ipynb',\n",
       " 'upfilteredblackprdts.csv']"
      ]
     },
     "execution_count": 2,
     "metadata": {},
     "output_type": "execute_result"
    }
   ],
   "source": [
    "# The os library was imported to ensure datasets could be located in the directory\n",
    "import os\n",
    "wd = os.getcwd()  \n",
    "files = os.listdir(wd)  # Get all the files in that directory\n",
    "list(files)"
   ]
  },
  {
   "cell_type": "markdown",
   "id": "e4fc497e",
   "metadata": {},
   "source": [
    "> The first data frame design1_df"
   ]
  },
  {
   "cell_type": "code",
   "execution_count": 3,
   "id": "4928577e",
   "metadata": {},
   "outputs": [],
   "source": [
    "design1_df = pd.read_csv(\"fashion_dataset.csv\")"
   ]
  },
  {
   "cell_type": "code",
   "execution_count": 4,
   "id": "32695edf",
   "metadata": {
    "scrolled": true
   },
   "outputs": [
    {
     "data": {
      "text/html": [
       "<div>\n",
       "<style scoped>\n",
       "    .dataframe tbody tr th:only-of-type {\n",
       "        vertical-align: middle;\n",
       "    }\n",
       "\n",
       "    .dataframe tbody tr th {\n",
       "        vertical-align: top;\n",
       "    }\n",
       "\n",
       "    .dataframe thead th {\n",
       "        text-align: right;\n",
       "    }\n",
       "</style>\n",
       "<table border=\"1\" class=\"dataframe\">\n",
       "  <thead>\n",
       "    <tr style=\"text-align: right;\">\n",
       "      <th></th>\n",
       "      <th>p_id</th>\n",
       "      <th>name</th>\n",
       "      <th>price</th>\n",
       "      <th>colour</th>\n",
       "      <th>brand</th>\n",
       "      <th>ratingCount</th>\n",
       "      <th>avg_rating</th>\n",
       "      <th>description</th>\n",
       "      <th>p_attributes</th>\n",
       "    </tr>\n",
       "  </thead>\n",
       "  <tbody>\n",
       "    <tr>\n",
       "      <th>0</th>\n",
       "      <td>1518329.0</td>\n",
       "      <td>Dupatta Bazaar White Embroidered Chiffon Dupatta</td>\n",
       "      <td>899.0</td>\n",
       "      <td>White</td>\n",
       "      <td>Dupatta Bazaar</td>\n",
       "      <td>1321.0</td>\n",
       "      <td>4.548827</td>\n",
       "      <td>White embroidered&amp;nbsp;dupattaChiffon&lt;br&gt;Hand-...</td>\n",
       "      <td>{'Occasion': 'Daily', 'Pattern': 'Embroidered'...</td>\n",
       "    </tr>\n",
       "    <tr>\n",
       "      <th>1</th>\n",
       "      <td>5829334.0</td>\n",
       "      <td>Roadster Women Mustard Yellow Solid Hooded Swe...</td>\n",
       "      <td>1199.0</td>\n",
       "      <td>Mustard</td>\n",
       "      <td>Roadster</td>\n",
       "      <td>5462.0</td>\n",
       "      <td>4.313255</td>\n",
       "      <td>Mustard yellow solid sweatshirt, has a hood, t...</td>\n",
       "      <td>{'Body Shape ID': '443,424,324', 'Body or Garm...</td>\n",
       "    </tr>\n",
       "    <tr>\n",
       "      <th>2</th>\n",
       "      <td>10340119.0</td>\n",
       "      <td>Inddus Peach-Coloured &amp; Beige Unstitched Dress...</td>\n",
       "      <td>5799.0</td>\n",
       "      <td>Peach</td>\n",
       "      <td>Inddus</td>\n",
       "      <td>145.0</td>\n",
       "      <td>4.068966</td>\n",
       "      <td>Peach-Coloured and beige woven design unstitch...</td>\n",
       "      <td>{'Bottom Fabric': 'Cotton Blend', 'Bottom Patt...</td>\n",
       "    </tr>\n",
       "  </tbody>\n",
       "</table>\n",
       "</div>"
      ],
      "text/plain": [
       "         p_id                                               name   price  \\\n",
       "0   1518329.0   Dupatta Bazaar White Embroidered Chiffon Dupatta   899.0   \n",
       "1   5829334.0  Roadster Women Mustard Yellow Solid Hooded Swe...  1199.0   \n",
       "2  10340119.0  Inddus Peach-Coloured & Beige Unstitched Dress...  5799.0   \n",
       "\n",
       "    colour           brand  ratingCount  avg_rating  \\\n",
       "0    White  Dupatta Bazaar       1321.0    4.548827   \n",
       "1  Mustard        Roadster       5462.0    4.313255   \n",
       "2    Peach          Inddus        145.0    4.068966   \n",
       "\n",
       "                                         description  \\\n",
       "0  White embroidered&nbsp;dupattaChiffon<br>Hand-...   \n",
       "1  Mustard yellow solid sweatshirt, has a hood, t...   \n",
       "2  Peach-Coloured and beige woven design unstitch...   \n",
       "\n",
       "                                        p_attributes  \n",
       "0  {'Occasion': 'Daily', 'Pattern': 'Embroidered'...  \n",
       "1  {'Body Shape ID': '443,424,324', 'Body or Garm...  \n",
       "2  {'Bottom Fabric': 'Cotton Blend', 'Bottom Patt...  "
      ]
     },
     "execution_count": 4,
     "metadata": {},
     "output_type": "execute_result"
    }
   ],
   "source": [
    "design1_df.head(3)"
   ]
  },
  {
   "cell_type": "code",
   "execution_count": 5,
   "id": "2c12e68f",
   "metadata": {
    "collapsed": true
   },
   "outputs": [
    {
     "name": "stdout",
     "output_type": "stream",
     "text": [
      "<class 'pandas.core.frame.DataFrame'>\n",
      "RangeIndex: 14329 entries, 0 to 14328\n",
      "Data columns (total 9 columns):\n",
      " #   Column        Non-Null Count  Dtype  \n",
      "---  ------        --------------  -----  \n",
      " 0   p_id          14311 non-null  float64\n",
      " 1   name          14310 non-null  object \n",
      " 2   price         14310 non-null  float64\n",
      " 3   colour        14307 non-null  object \n",
      " 4   brand         14305 non-null  object \n",
      " 5   ratingCount   6581 non-null   float64\n",
      " 6   avg_rating    6581 non-null   float64\n",
      " 7   description   14310 non-null  object \n",
      " 8   p_attributes  14310 non-null  object \n",
      "dtypes: float64(4), object(5)\n",
      "memory usage: 1007.6+ KB\n"
     ]
    }
   ],
   "source": [
    "design1_df.info()"
   ]
  },
  {
   "cell_type": "code",
   "execution_count": 6,
   "id": "7aab07c4",
   "metadata": {},
   "outputs": [],
   "source": [
    "# The .info() method showed a number of empty entries especially in ratingCount and avg_rating columns\n",
    "# There were also missing entries in every other column\n",
    "# The missing values in product ID column were filled with zeros; the price, rating count and average rating\n",
    "#columns were filled with their means and all missing string values were filled with 'NA'\n",
    "\n",
    "design1_df['p_id'] = design1_df['p_id'].fillna(0).astype(int) "
   ]
  },
  {
   "cell_type": "code",
   "execution_count": 7,
   "id": "ef11e83b",
   "metadata": {},
   "outputs": [],
   "source": [
    "# These float data type columns filled with the mean of the entries\n",
    "\n",
    "design1_df['avg_rating'].fillna(design1_df['avg_rating'].mean(), inplace=True)\n",
    "design1_df['ratingCount'].fillna(design1_df['ratingCount'].mean(), inplace=True)\n",
    "design1_df['price'].fillna(design1_df['price'].mean(), inplace=True)"
   ]
  },
  {
   "cell_type": "code",
   "execution_count": 8,
   "id": "11a17d1f",
   "metadata": {},
   "outputs": [],
   "source": [
    "# String columns filled with 'NA'\n",
    "\n",
    "design1_df[['name','colour','brand','description','p_attributes']] = design1_df[['name','colour','brand','description','p_attributes']].fillna('NA') "
   ]
  },
  {
   "cell_type": "code",
   "execution_count": 9,
   "id": "eee8991d",
   "metadata": {},
   "outputs": [
    {
     "data": {
      "text/html": [
       "<div>\n",
       "<style scoped>\n",
       "    .dataframe tbody tr th:only-of-type {\n",
       "        vertical-align: middle;\n",
       "    }\n",
       "\n",
       "    .dataframe tbody tr th {\n",
       "        vertical-align: top;\n",
       "    }\n",
       "\n",
       "    .dataframe thead th {\n",
       "        text-align: right;\n",
       "    }\n",
       "</style>\n",
       "<table border=\"1\" class=\"dataframe\">\n",
       "  <thead>\n",
       "    <tr style=\"text-align: right;\">\n",
       "      <th></th>\n",
       "      <th>p_id</th>\n",
       "      <th>name</th>\n",
       "      <th>price</th>\n",
       "      <th>colour</th>\n",
       "      <th>brand</th>\n",
       "      <th>ratingCount</th>\n",
       "      <th>avg_rating</th>\n",
       "      <th>description</th>\n",
       "      <th>p_attributes</th>\n",
       "    </tr>\n",
       "  </thead>\n",
       "  <tbody>\n",
       "    <tr>\n",
       "      <th>0</th>\n",
       "      <td>1518329</td>\n",
       "      <td>Dupatta Bazaar White Embroidered Chiffon Dupatta</td>\n",
       "      <td>899.0</td>\n",
       "      <td>White</td>\n",
       "      <td>Dupatta Bazaar</td>\n",
       "      <td>1321.0</td>\n",
       "      <td>4.548827</td>\n",
       "      <td>White embroidered&amp;nbsp;dupattaChiffon&lt;br&gt;Hand-...</td>\n",
       "      <td>{'Occasion': 'Daily', 'Pattern': 'Embroidered'...</td>\n",
       "    </tr>\n",
       "    <tr>\n",
       "      <th>1</th>\n",
       "      <td>5829334</td>\n",
       "      <td>Roadster Women Mustard Yellow Solid Hooded Swe...</td>\n",
       "      <td>1199.0</td>\n",
       "      <td>Mustard</td>\n",
       "      <td>Roadster</td>\n",
       "      <td>5462.0</td>\n",
       "      <td>4.313255</td>\n",
       "      <td>Mustard yellow solid sweatshirt, has a hood, t...</td>\n",
       "      <td>{'Body Shape ID': '443,424,324', 'Body or Garm...</td>\n",
       "    </tr>\n",
       "    <tr>\n",
       "      <th>2</th>\n",
       "      <td>10340119</td>\n",
       "      <td>Inddus Peach-Coloured &amp; Beige Unstitched Dress...</td>\n",
       "      <td>5799.0</td>\n",
       "      <td>Peach</td>\n",
       "      <td>Inddus</td>\n",
       "      <td>145.0</td>\n",
       "      <td>4.068966</td>\n",
       "      <td>Peach-Coloured and beige woven design unstitch...</td>\n",
       "      <td>{'Bottom Fabric': 'Cotton Blend', 'Bottom Patt...</td>\n",
       "    </tr>\n",
       "    <tr>\n",
       "      <th>3</th>\n",
       "      <td>10856380</td>\n",
       "      <td>SASSAFRAS Women Black Parallel Trousers</td>\n",
       "      <td>1499.0</td>\n",
       "      <td>Black</td>\n",
       "      <td>SASSAFRAS</td>\n",
       "      <td>9124.0</td>\n",
       "      <td>4.147523</td>\n",
       "      <td>Black solid woven high-rise parallel trousers,...</td>\n",
       "      <td>{'Add-Ons': 'NA', 'Body Shape ID': '424', 'Bod...</td>\n",
       "    </tr>\n",
       "    <tr>\n",
       "      <th>4</th>\n",
       "      <td>12384822</td>\n",
       "      <td>Kotty Women Black Wide Leg High-Rise Clean Loo...</td>\n",
       "      <td>1999.0</td>\n",
       "      <td>Black</td>\n",
       "      <td>Kotty</td>\n",
       "      <td>12260.0</td>\n",
       "      <td>4.078467</td>\n",
       "      <td>Black dark wash 4-pocket high-rise jeans, clea...</td>\n",
       "      <td>{'Add-Ons': 'NA', 'Brand Fit Name': 'NA', 'Clo...</td>\n",
       "    </tr>\n",
       "  </tbody>\n",
       "</table>\n",
       "</div>"
      ],
      "text/plain": [
       "       p_id                                               name   price  \\\n",
       "0   1518329   Dupatta Bazaar White Embroidered Chiffon Dupatta   899.0   \n",
       "1   5829334  Roadster Women Mustard Yellow Solid Hooded Swe...  1199.0   \n",
       "2  10340119  Inddus Peach-Coloured & Beige Unstitched Dress...  5799.0   \n",
       "3  10856380            SASSAFRAS Women Black Parallel Trousers  1499.0   \n",
       "4  12384822  Kotty Women Black Wide Leg High-Rise Clean Loo...  1999.0   \n",
       "\n",
       "    colour           brand  ratingCount  avg_rating  \\\n",
       "0    White  Dupatta Bazaar       1321.0    4.548827   \n",
       "1  Mustard        Roadster       5462.0    4.313255   \n",
       "2    Peach          Inddus        145.0    4.068966   \n",
       "3    Black       SASSAFRAS       9124.0    4.147523   \n",
       "4    Black           Kotty      12260.0    4.078467   \n",
       "\n",
       "                                         description  \\\n",
       "0  White embroidered&nbsp;dupattaChiffon<br>Hand-...   \n",
       "1  Mustard yellow solid sweatshirt, has a hood, t...   \n",
       "2  Peach-Coloured and beige woven design unstitch...   \n",
       "3  Black solid woven high-rise parallel trousers,...   \n",
       "4  Black dark wash 4-pocket high-rise jeans, clea...   \n",
       "\n",
       "                                        p_attributes  \n",
       "0  {'Occasion': 'Daily', 'Pattern': 'Embroidered'...  \n",
       "1  {'Body Shape ID': '443,424,324', 'Body or Garm...  \n",
       "2  {'Bottom Fabric': 'Cotton Blend', 'Bottom Patt...  \n",
       "3  {'Add-Ons': 'NA', 'Body Shape ID': '424', 'Bod...  \n",
       "4  {'Add-Ons': 'NA', 'Brand Fit Name': 'NA', 'Clo...  "
      ]
     },
     "execution_count": 9,
     "metadata": {},
     "output_type": "execute_result"
    }
   ],
   "source": [
    "# Results of initial wrangling investigated\n",
    "\n",
    "design1_df.head()"
   ]
  },
  {
   "cell_type": "code",
   "execution_count": 10,
   "id": "cb516a09",
   "metadata": {
    "collapsed": true
   },
   "outputs": [
    {
     "name": "stdout",
     "output_type": "stream",
     "text": [
      "<class 'pandas.core.frame.DataFrame'>\n",
      "RangeIndex: 14329 entries, 0 to 14328\n",
      "Data columns (total 9 columns):\n",
      " #   Column        Non-Null Count  Dtype  \n",
      "---  ------        --------------  -----  \n",
      " 0   p_id          14329 non-null  int32  \n",
      " 1   name          14329 non-null  object \n",
      " 2   price         14329 non-null  float64\n",
      " 3   colour        14329 non-null  object \n",
      " 4   brand         14329 non-null  object \n",
      " 5   ratingCount   14329 non-null  float64\n",
      " 6   avg_rating    14329 non-null  float64\n",
      " 7   description   14329 non-null  object \n",
      " 8   p_attributes  14329 non-null  object \n",
      "dtypes: float64(3), int32(1), object(5)\n",
      "memory usage: 951.7+ KB\n"
     ]
    }
   ],
   "source": [
    "design1_df.info()"
   ]
  },
  {
   "cell_type": "code",
   "execution_count": 11,
   "id": "3b47556c",
   "metadata": {},
   "outputs": [],
   "source": [
    "# Avg_rating and price columns were rounded up to 2 decimal places and rating count changed to an integer for convenience\n",
    "# Since p_id is immutable, it is set as string data type\n",
    "\n",
    "design1_df[['avg_rating','price']] = round(design1_df[['avg_rating','price']], 2)\n",
    "design1_df['ratingCount'] = design1_df['ratingCount'].astype(int)\n",
    "design1_df['p_id'] = design1_df['p_id'].astype(str)"
   ]
  },
  {
   "cell_type": "code",
   "execution_count": 12,
   "id": "f334b0ea",
   "metadata": {
    "collapsed": true
   },
   "outputs": [
    {
     "data": {
      "text/html": [
       "<div>\n",
       "<style scoped>\n",
       "    .dataframe tbody tr th:only-of-type {\n",
       "        vertical-align: middle;\n",
       "    }\n",
       "\n",
       "    .dataframe tbody tr th {\n",
       "        vertical-align: top;\n",
       "    }\n",
       "\n",
       "    .dataframe thead th {\n",
       "        text-align: right;\n",
       "    }\n",
       "</style>\n",
       "<table border=\"1\" class=\"dataframe\">\n",
       "  <thead>\n",
       "    <tr style=\"text-align: right;\">\n",
       "      <th></th>\n",
       "      <th>p_id</th>\n",
       "      <th>name</th>\n",
       "      <th>price</th>\n",
       "      <th>colour</th>\n",
       "      <th>brand</th>\n",
       "      <th>ratingCount</th>\n",
       "      <th>avg_rating</th>\n",
       "      <th>description</th>\n",
       "      <th>p_attributes</th>\n",
       "    </tr>\n",
       "  </thead>\n",
       "  <tbody>\n",
       "    <tr>\n",
       "      <th>14324</th>\n",
       "      <td>17029604</td>\n",
       "      <td>The Chennai Silks Pink &amp; Silver-Toned Floral Z...</td>\n",
       "      <td>3999.0</td>\n",
       "      <td>Pink</td>\n",
       "      <td>The Chennai Silks</td>\n",
       "      <td>184</td>\n",
       "      <td>4.1</td>\n",
       "      <td>&lt;b&gt;Design Details &lt;/b&gt;&lt;ul&gt;&lt;li&gt;Pink and silver-...</td>\n",
       "      <td>{'Better Cotton Initiative': 'Regular', 'Blous...</td>\n",
       "    </tr>\n",
       "    <tr>\n",
       "      <th>14325</th>\n",
       "      <td>17600212</td>\n",
       "      <td>Kinder Kids Girls Blue &amp; Green Printed Foil Pr...</td>\n",
       "      <td>2050.0</td>\n",
       "      <td>Blue</td>\n",
       "      <td>Kinder Kids</td>\n",
       "      <td>184</td>\n",
       "      <td>4.1</td>\n",
       "      <td>Blue and green printed lehenga choli,  has foi...</td>\n",
       "      <td>{'Blouse Closure': 'NA', 'Blouse Fabric': 'Cot...</td>\n",
       "    </tr>\n",
       "    <tr>\n",
       "      <th>14326</th>\n",
       "      <td>18159266</td>\n",
       "      <td>KLOTTHE Women Green &amp; Black Floral Printed Pal...</td>\n",
       "      <td>1659.0</td>\n",
       "      <td>Green</td>\n",
       "      <td>KLOTTHE</td>\n",
       "      <td>184</td>\n",
       "      <td>4.1</td>\n",
       "      <td>&lt;ul&gt; &lt;li&gt; Green and black woven palazzos &lt;/li&gt;...</td>\n",
       "      <td>{'Body or Garment Size': 'To-Fit Denotes Body ...</td>\n",
       "    </tr>\n",
       "    <tr>\n",
       "      <th>14327</th>\n",
       "      <td>18921114</td>\n",
       "      <td>InWeave Women Red Printed A-Line Skirt</td>\n",
       "      <td>2399.0</td>\n",
       "      <td>Red</td>\n",
       "      <td>InWeave</td>\n",
       "      <td>184</td>\n",
       "      <td>4.1</td>\n",
       "      <td>&lt;p&gt;Red printed A-line skirt, has drawstring cl...</td>\n",
       "      <td>{'Add-Ons': 'NA', 'Body Shape ID': '324,333,42...</td>\n",
       "    </tr>\n",
       "    <tr>\n",
       "      <th>14328</th>\n",
       "      <td>19361058</td>\n",
       "      <td>BoStreet Women Navy Blue Tapered Fit Trousers</td>\n",
       "      <td>2599.0</td>\n",
       "      <td>Navy Blue</td>\n",
       "      <td>BoStreet</td>\n",
       "      <td>184</td>\n",
       "      <td>4.1</td>\n",
       "      <td>&lt;ul&gt; &lt;li&gt; Navy blue knitted trousers &lt;/li&gt; &lt;li...</td>\n",
       "      <td>{'Add-Ons': 'NA', 'Body Shape ID': '443,333,42...</td>\n",
       "    </tr>\n",
       "  </tbody>\n",
       "</table>\n",
       "</div>"
      ],
      "text/plain": [
       "           p_id                                               name   price  \\\n",
       "14324  17029604  The Chennai Silks Pink & Silver-Toned Floral Z...  3999.0   \n",
       "14325  17600212  Kinder Kids Girls Blue & Green Printed Foil Pr...  2050.0   \n",
       "14326  18159266  KLOTTHE Women Green & Black Floral Printed Pal...  1659.0   \n",
       "14327  18921114             InWeave Women Red Printed A-Line Skirt  2399.0   \n",
       "14328  19361058      BoStreet Women Navy Blue Tapered Fit Trousers  2599.0   \n",
       "\n",
       "          colour              brand  ratingCount  avg_rating  \\\n",
       "14324       Pink  The Chennai Silks          184         4.1   \n",
       "14325       Blue        Kinder Kids          184         4.1   \n",
       "14326      Green            KLOTTHE          184         4.1   \n",
       "14327        Red            InWeave          184         4.1   \n",
       "14328  Navy Blue           BoStreet          184         4.1   \n",
       "\n",
       "                                             description  \\\n",
       "14324  <b>Design Details </b><ul><li>Pink and silver-...   \n",
       "14325  Blue and green printed lehenga choli,  has foi...   \n",
       "14326  <ul> <li> Green and black woven palazzos </li>...   \n",
       "14327  <p>Red printed A-line skirt, has drawstring cl...   \n",
       "14328  <ul> <li> Navy blue knitted trousers </li> <li...   \n",
       "\n",
       "                                            p_attributes  \n",
       "14324  {'Better Cotton Initiative': 'Regular', 'Blous...  \n",
       "14325  {'Blouse Closure': 'NA', 'Blouse Fabric': 'Cot...  \n",
       "14326  {'Body or Garment Size': 'To-Fit Denotes Body ...  \n",
       "14327  {'Add-Ons': 'NA', 'Body Shape ID': '324,333,42...  \n",
       "14328  {'Add-Ons': 'NA', 'Body Shape ID': '443,333,42...  "
      ]
     },
     "execution_count": 12,
     "metadata": {},
     "output_type": "execute_result"
    }
   ],
   "source": [
    "design1_df.tail()"
   ]
  },
  {
   "cell_type": "code",
   "execution_count": 13,
   "id": "5829166c",
   "metadata": {},
   "outputs": [
    {
     "data": {
      "text/plain": [
       "106"
      ]
     },
     "execution_count": 13,
     "metadata": {},
     "output_type": "execute_result"
    }
   ],
   "source": [
    "# Checked for duplicates\n",
    "\n",
    "design1_df['p_id'].duplicated().sum()"
   ]
  },
  {
   "cell_type": "code",
   "execution_count": 14,
   "id": "9f86597f",
   "metadata": {},
   "outputs": [],
   "source": [
    "# Dropped duplicates\n",
    "\n",
    "design1_df.drop_duplicates(['p_id'], inplace=True)"
   ]
  },
  {
   "cell_type": "code",
   "execution_count": 15,
   "id": "fb9faadf",
   "metadata": {},
   "outputs": [],
   "source": [
    "# Product id 'p_id' set as index\n",
    "\n",
    "design1_df.set_index('p_id', inplace=True)"
   ]
  },
  {
   "cell_type": "code",
   "execution_count": 16,
   "id": "51e58c57",
   "metadata": {},
   "outputs": [
    {
     "data": {
      "text/html": [
       "<div>\n",
       "<style scoped>\n",
       "    .dataframe tbody tr th:only-of-type {\n",
       "        vertical-align: middle;\n",
       "    }\n",
       "\n",
       "    .dataframe tbody tr th {\n",
       "        vertical-align: top;\n",
       "    }\n",
       "\n",
       "    .dataframe thead th {\n",
       "        text-align: right;\n",
       "    }\n",
       "</style>\n",
       "<table border=\"1\" class=\"dataframe\">\n",
       "  <thead>\n",
       "    <tr style=\"text-align: right;\">\n",
       "      <th></th>\n",
       "      <th>name</th>\n",
       "      <th>price</th>\n",
       "      <th>colour</th>\n",
       "      <th>brand</th>\n",
       "      <th>ratingCount</th>\n",
       "      <th>avg_rating</th>\n",
       "      <th>description</th>\n",
       "      <th>p_attributes</th>\n",
       "    </tr>\n",
       "    <tr>\n",
       "      <th>p_id</th>\n",
       "      <th></th>\n",
       "      <th></th>\n",
       "      <th></th>\n",
       "      <th></th>\n",
       "      <th></th>\n",
       "      <th></th>\n",
       "      <th></th>\n",
       "      <th></th>\n",
       "    </tr>\n",
       "  </thead>\n",
       "  <tbody>\n",
       "    <tr>\n",
       "      <th>1518329</th>\n",
       "      <td>Dupatta Bazaar White Embroidered Chiffon Dupatta</td>\n",
       "      <td>899.0</td>\n",
       "      <td>White</td>\n",
       "      <td>Dupatta Bazaar</td>\n",
       "      <td>1321</td>\n",
       "      <td>4.55</td>\n",
       "      <td>White embroidered&amp;nbsp;dupattaChiffon&lt;br&gt;Hand-...</td>\n",
       "      <td>{'Occasion': 'Daily', 'Pattern': 'Embroidered'...</td>\n",
       "    </tr>\n",
       "    <tr>\n",
       "      <th>5829334</th>\n",
       "      <td>Roadster Women Mustard Yellow Solid Hooded Swe...</td>\n",
       "      <td>1199.0</td>\n",
       "      <td>Mustard</td>\n",
       "      <td>Roadster</td>\n",
       "      <td>5462</td>\n",
       "      <td>4.31</td>\n",
       "      <td>Mustard yellow solid sweatshirt, has a hood, t...</td>\n",
       "      <td>{'Body Shape ID': '443,424,324', 'Body or Garm...</td>\n",
       "    </tr>\n",
       "    <tr>\n",
       "      <th>10340119</th>\n",
       "      <td>Inddus Peach-Coloured &amp; Beige Unstitched Dress...</td>\n",
       "      <td>5799.0</td>\n",
       "      <td>Peach</td>\n",
       "      <td>Inddus</td>\n",
       "      <td>145</td>\n",
       "      <td>4.07</td>\n",
       "      <td>Peach-Coloured and beige woven design unstitch...</td>\n",
       "      <td>{'Bottom Fabric': 'Cotton Blend', 'Bottom Patt...</td>\n",
       "    </tr>\n",
       "  </tbody>\n",
       "</table>\n",
       "</div>"
      ],
      "text/plain": [
       "                                                       name   price   colour  \\\n",
       "p_id                                                                           \n",
       "1518329    Dupatta Bazaar White Embroidered Chiffon Dupatta   899.0    White   \n",
       "5829334   Roadster Women Mustard Yellow Solid Hooded Swe...  1199.0  Mustard   \n",
       "10340119  Inddus Peach-Coloured & Beige Unstitched Dress...  5799.0    Peach   \n",
       "\n",
       "                   brand  ratingCount  avg_rating  \\\n",
       "p_id                                                \n",
       "1518329   Dupatta Bazaar         1321        4.55   \n",
       "5829334         Roadster         5462        4.31   \n",
       "10340119          Inddus          145        4.07   \n",
       "\n",
       "                                                description  \\\n",
       "p_id                                                          \n",
       "1518329   White embroidered&nbsp;dupattaChiffon<br>Hand-...   \n",
       "5829334   Mustard yellow solid sweatshirt, has a hood, t...   \n",
       "10340119  Peach-Coloured and beige woven design unstitch...   \n",
       "\n",
       "                                               p_attributes  \n",
       "p_id                                                         \n",
       "1518329   {'Occasion': 'Daily', 'Pattern': 'Embroidered'...  \n",
       "5829334   {'Body Shape ID': '443,424,324', 'Body or Garm...  \n",
       "10340119  {'Bottom Fabric': 'Cotton Blend', 'Bottom Patt...  "
      ]
     },
     "execution_count": 16,
     "metadata": {},
     "output_type": "execute_result"
    }
   ],
   "source": [
    "# Cleaned data frame\n",
    "\n",
    "design1_df.head(3)"
   ]
  },
  {
   "cell_type": "code",
   "execution_count": 17,
   "id": "397d5b1c",
   "metadata": {
    "scrolled": true
   },
   "outputs": [
    {
     "name": "stdout",
     "output_type": "stream",
     "text": [
      "<class 'pandas.core.frame.DataFrame'>\n",
      "Index: 14223 entries, 1518329 to 19361058\n",
      "Data columns (total 8 columns):\n",
      " #   Column        Non-Null Count  Dtype  \n",
      "---  ------        --------------  -----  \n",
      " 0   name          14223 non-null  object \n",
      " 1   price         14223 non-null  float64\n",
      " 2   colour        14223 non-null  object \n",
      " 3   brand         14223 non-null  object \n",
      " 4   ratingCount   14223 non-null  int32  \n",
      " 5   avg_rating    14223 non-null  float64\n",
      " 6   description   14223 non-null  object \n",
      " 7   p_attributes  14223 non-null  object \n",
      "dtypes: float64(2), int32(1), object(5)\n",
      "memory usage: 944.5+ KB\n"
     ]
    }
   ],
   "source": [
    "design1_df.info()"
   ]
  },
  {
   "cell_type": "markdown",
   "id": "ed4ee2a3",
   "metadata": {},
   "source": [
    "> The second data frame design2_df"
   ]
  },
  {
   "cell_type": "code",
   "execution_count": 18,
   "id": "f452f19d",
   "metadata": {
    "scrolled": true
   },
   "outputs": [],
   "source": [
    "design2_df = pd.read_excel(\"fashion_brand_details.xlsx\")\n"
   ]
  },
  {
   "cell_type": "code",
   "execution_count": 19,
   "id": "38864b2a",
   "metadata": {},
   "outputs": [
    {
     "data": {
      "text/html": [
       "<div>\n",
       "<style scoped>\n",
       "    .dataframe tbody tr th:only-of-type {\n",
       "        vertical-align: middle;\n",
       "    }\n",
       "\n",
       "    .dataframe tbody tr th {\n",
       "        vertical-align: top;\n",
       "    }\n",
       "\n",
       "    .dataframe thead th {\n",
       "        text-align: right;\n",
       "    }\n",
       "</style>\n",
       "<table border=\"1\" class=\"dataframe\">\n",
       "  <thead>\n",
       "    <tr style=\"text-align: right;\">\n",
       "      <th></th>\n",
       "      <th>brand_id</th>\n",
       "      <th>brand_name</th>\n",
       "    </tr>\n",
       "  </thead>\n",
       "  <tbody>\n",
       "    <tr>\n",
       "      <th>0</th>\n",
       "      <td>1</td>\n",
       "      <td>513</td>\n",
       "    </tr>\n",
       "    <tr>\n",
       "      <th>1</th>\n",
       "      <td>2</td>\n",
       "      <td>109F</td>\n",
       "    </tr>\n",
       "    <tr>\n",
       "      <th>2</th>\n",
       "      <td>3</td>\n",
       "      <td>20Dresses</td>\n",
       "    </tr>\n",
       "    <tr>\n",
       "      <th>3</th>\n",
       "      <td>4</td>\n",
       "      <td>250 Designs</td>\n",
       "    </tr>\n",
       "    <tr>\n",
       "      <th>4</th>\n",
       "      <td>5</td>\n",
       "      <td>3Pin</td>\n",
       "    </tr>\n",
       "  </tbody>\n",
       "</table>\n",
       "</div>"
      ],
      "text/plain": [
       "   brand_id   brand_name\n",
       "0         1          513\n",
       "1         2         109F\n",
       "2         3    20Dresses\n",
       "3         4  250 Designs\n",
       "4         5         3Pin"
      ]
     },
     "execution_count": 19,
     "metadata": {},
     "output_type": "execute_result"
    }
   ],
   "source": [
    "# The second data frame was investigated using .describe(), .info(), .isnull() as well as duplicates checked\n",
    "\n",
    "design2_df.head()"
   ]
  },
  {
   "cell_type": "code",
   "execution_count": 20,
   "id": "2bbd8244",
   "metadata": {
    "scrolled": true
   },
   "outputs": [
    {
     "data": {
      "text/html": [
       "<div>\n",
       "<style scoped>\n",
       "    .dataframe tbody tr th:only-of-type {\n",
       "        vertical-align: middle;\n",
       "    }\n",
       "\n",
       "    .dataframe tbody tr th {\n",
       "        vertical-align: top;\n",
       "    }\n",
       "\n",
       "    .dataframe thead th {\n",
       "        text-align: right;\n",
       "    }\n",
       "</style>\n",
       "<table border=\"1\" class=\"dataframe\">\n",
       "  <thead>\n",
       "    <tr style=\"text-align: right;\">\n",
       "      <th></th>\n",
       "      <th>brand_id</th>\n",
       "    </tr>\n",
       "  </thead>\n",
       "  <tbody>\n",
       "    <tr>\n",
       "      <th>count</th>\n",
       "      <td>1020.000000</td>\n",
       "    </tr>\n",
       "    <tr>\n",
       "      <th>mean</th>\n",
       "      <td>510.500000</td>\n",
       "    </tr>\n",
       "    <tr>\n",
       "      <th>std</th>\n",
       "      <td>294.592939</td>\n",
       "    </tr>\n",
       "    <tr>\n",
       "      <th>min</th>\n",
       "      <td>1.000000</td>\n",
       "    </tr>\n",
       "    <tr>\n",
       "      <th>25%</th>\n",
       "      <td>255.750000</td>\n",
       "    </tr>\n",
       "    <tr>\n",
       "      <th>50%</th>\n",
       "      <td>510.500000</td>\n",
       "    </tr>\n",
       "    <tr>\n",
       "      <th>75%</th>\n",
       "      <td>765.250000</td>\n",
       "    </tr>\n",
       "    <tr>\n",
       "      <th>max</th>\n",
       "      <td>1020.000000</td>\n",
       "    </tr>\n",
       "  </tbody>\n",
       "</table>\n",
       "</div>"
      ],
      "text/plain": [
       "          brand_id\n",
       "count  1020.000000\n",
       "mean    510.500000\n",
       "std     294.592939\n",
       "min       1.000000\n",
       "25%     255.750000\n",
       "50%     510.500000\n",
       "75%     765.250000\n",
       "max    1020.000000"
      ]
     },
     "execution_count": 20,
     "metadata": {},
     "output_type": "execute_result"
    }
   ],
   "source": [
    "design2_df.describe()"
   ]
  },
  {
   "cell_type": "code",
   "execution_count": 21,
   "id": "9508d3dc",
   "metadata": {
    "scrolled": true
   },
   "outputs": [
    {
     "name": "stdout",
     "output_type": "stream",
     "text": [
      "<class 'pandas.core.frame.DataFrame'>\n",
      "RangeIndex: 1020 entries, 0 to 1019\n",
      "Data columns (total 2 columns):\n",
      " #   Column      Non-Null Count  Dtype \n",
      "---  ------      --------------  ----- \n",
      " 0   brand_id    1020 non-null   int64 \n",
      " 1   brand_name  1020 non-null   object\n",
      "dtypes: int64(1), object(1)\n",
      "memory usage: 16.1+ KB\n"
     ]
    }
   ],
   "source": [
    "design2_df.info()"
   ]
  },
  {
   "cell_type": "code",
   "execution_count": 22,
   "id": "f019d562",
   "metadata": {},
   "outputs": [
    {
     "data": {
      "text/plain": [
       "brand_id      0\n",
       "brand_name    0\n",
       "dtype: int64"
      ]
     },
     "execution_count": 22,
     "metadata": {},
     "output_type": "execute_result"
    }
   ],
   "source": [
    "design2_df.isnull().sum()"
   ]
  },
  {
   "cell_type": "code",
   "execution_count": 23,
   "id": "358e922b",
   "metadata": {},
   "outputs": [
    {
     "data": {
      "text/plain": [
       "0"
      ]
     },
     "execution_count": 23,
     "metadata": {},
     "output_type": "execute_result"
    }
   ],
   "source": [
    "design2_df.duplicated().sum()"
   ]
  },
  {
   "cell_type": "code",
   "execution_count": 24,
   "id": "3aa07284",
   "metadata": {},
   "outputs": [],
   "source": [
    "# Index was set as brand_id as there were similarities between brand_id and the newly created index\n",
    "\n",
    "design2_df.set_index('brand_id', inplace=True)"
   ]
  },
  {
   "cell_type": "code",
   "execution_count": 25,
   "id": "a126c9b8",
   "metadata": {
    "scrolled": true
   },
   "outputs": [
    {
     "data": {
      "text/html": [
       "<div>\n",
       "<style scoped>\n",
       "    .dataframe tbody tr th:only-of-type {\n",
       "        vertical-align: middle;\n",
       "    }\n",
       "\n",
       "    .dataframe tbody tr th {\n",
       "        vertical-align: top;\n",
       "    }\n",
       "\n",
       "    .dataframe thead th {\n",
       "        text-align: right;\n",
       "    }\n",
       "</style>\n",
       "<table border=\"1\" class=\"dataframe\">\n",
       "  <thead>\n",
       "    <tr style=\"text-align: right;\">\n",
       "      <th></th>\n",
       "      <th>brand_name</th>\n",
       "    </tr>\n",
       "    <tr>\n",
       "      <th>brand_id</th>\n",
       "      <th></th>\n",
       "    </tr>\n",
       "  </thead>\n",
       "  <tbody>\n",
       "    <tr>\n",
       "      <th>1</th>\n",
       "      <td>513</td>\n",
       "    </tr>\n",
       "    <tr>\n",
       "      <th>2</th>\n",
       "      <td>109F</td>\n",
       "    </tr>\n",
       "    <tr>\n",
       "      <th>3</th>\n",
       "      <td>20Dresses</td>\n",
       "    </tr>\n",
       "    <tr>\n",
       "      <th>4</th>\n",
       "      <td>250 Designs</td>\n",
       "    </tr>\n",
       "    <tr>\n",
       "      <th>5</th>\n",
       "      <td>3Pin</td>\n",
       "    </tr>\n",
       "  </tbody>\n",
       "</table>\n",
       "</div>"
      ],
      "text/plain": [
       "           brand_name\n",
       "brand_id             \n",
       "1                 513\n",
       "2                109F\n",
       "3           20Dresses\n",
       "4         250 Designs\n",
       "5                3Pin"
      ]
     },
     "execution_count": 25,
     "metadata": {},
     "output_type": "execute_result"
    }
   ],
   "source": [
    "design2_df.head()"
   ]
  },
  {
   "cell_type": "code",
   "execution_count": null,
   "id": "ce657c64",
   "metadata": {},
   "outputs": [],
   "source": []
  },
  {
   "cell_type": "markdown",
   "id": "b073bec6",
   "metadata": {},
   "source": [
    "## Merging the data frames with SQL"
   ]
  },
  {
   "cell_type": "code",
   "execution_count": 26,
   "id": "aca487d2",
   "metadata": {},
   "outputs": [],
   "source": [
    "# In order to merge the 2 dataframes using SQL's INNER JOIN on dataframes design1_df and design2_df, sqlite3 was imported\n",
    "#and ipython-sql was installed\n",
    "\n",
    "import sqlite3"
   ]
  },
  {
   "cell_type": "code",
   "execution_count": 27,
   "id": "f338ba2e",
   "metadata": {
    "collapsed": true
   },
   "outputs": [
    {
     "name": "stdout",
     "output_type": "stream",
     "text": [
      "Requirement already satisfied: ipython-sql in c:\\users\\ikenna\\anaconda3\\lib\\site-packages (0.4.1)\n",
      "Requirement already satisfied: ipython>=1.0 in c:\\users\\ikenna\\anaconda3\\lib\\site-packages (from ipython-sql) (8.4.0)\n",
      "Requirement already satisfied: six in c:\\users\\ikenna\\anaconda3\\lib\\site-packages (from ipython-sql) (1.16.0)\n",
      "Requirement already satisfied: ipython-genutils>=0.1.0 in c:\\users\\ikenna\\anaconda3\\lib\\site-packages (from ipython-sql) (0.2.0)\n",
      "Requirement already satisfied: prettytable<1 in c:\\users\\ikenna\\anaconda3\\lib\\site-packages (from ipython-sql) (0.7.2)\n",
      "Requirement already satisfied: sqlalchemy>=0.6.7 in c:\\users\\ikenna\\anaconda3\\lib\\site-packages (from ipython-sql) (1.4.39)\n",
      "Requirement already satisfied: sqlparse in c:\\users\\ikenna\\anaconda3\\lib\\site-packages (from ipython-sql) (0.4.3)\n",
      "Requirement already satisfied: colorama in c:\\users\\ikenna\\anaconda3\\lib\\site-packages (from ipython>=1.0->ipython-sql) (0.4.5)\n",
      "Requirement already satisfied: pygments>=2.4.0 in c:\\users\\ikenna\\anaconda3\\lib\\site-packages (from ipython>=1.0->ipython-sql) (2.11.2)\n",
      "Requirement already satisfied: prompt-toolkit!=3.0.0,!=3.0.1,<3.1.0,>=2.0.0 in c:\\users\\ikenna\\anaconda3\\lib\\site-packages (from ipython>=1.0->ipython-sql) (3.0.20)\n",
      "Requirement already satisfied: decorator in c:\\users\\ikenna\\anaconda3\\lib\\site-packages (from ipython>=1.0->ipython-sql) (5.1.1)\n",
      "Requirement already satisfied: stack-data in c:\\users\\ikenna\\anaconda3\\lib\\site-packages (from ipython>=1.0->ipython-sql) (0.2.0)\n",
      "Requirement already satisfied: matplotlib-inline in c:\\users\\ikenna\\anaconda3\\lib\\site-packages (from ipython>=1.0->ipython-sql) (0.1.6)\n",
      "Requirement already satisfied: traitlets>=5 in c:\\users\\ikenna\\anaconda3\\lib\\site-packages (from ipython>=1.0->ipython-sql) (5.1.1)\n",
      "Requirement already satisfied: pickleshare in c:\\users\\ikenna\\anaconda3\\lib\\site-packages (from ipython>=1.0->ipython-sql) (0.7.5)\n",
      "Requirement already satisfied: backcall in c:\\users\\ikenna\\anaconda3\\lib\\site-packages (from ipython>=1.0->ipython-sql) (0.2.0)\n",
      "Requirement already satisfied: jedi>=0.16 in c:\\users\\ikenna\\anaconda3\\lib\\site-packages (from ipython>=1.0->ipython-sql) (0.18.1)\n",
      "Requirement already satisfied: setuptools>=18.5 in c:\\users\\ikenna\\anaconda3\\lib\\site-packages (from ipython>=1.0->ipython-sql) (63.4.1)\n",
      "Requirement already satisfied: greenlet!=0.4.17 in c:\\users\\ikenna\\anaconda3\\lib\\site-packages (from sqlalchemy>=0.6.7->ipython-sql) (1.1.1)\n",
      "Requirement already satisfied: parso<0.9.0,>=0.8.0 in c:\\users\\ikenna\\anaconda3\\lib\\site-packages (from jedi>=0.16->ipython>=1.0->ipython-sql) (0.8.3)\n",
      "Requirement already satisfied: wcwidth in c:\\users\\ikenna\\anaconda3\\lib\\site-packages (from prompt-toolkit!=3.0.0,!=3.0.1,<3.1.0,>=2.0.0->ipython>=1.0->ipython-sql) (0.2.5)\n",
      "Requirement already satisfied: asttokens in c:\\users\\ikenna\\anaconda3\\lib\\site-packages (from stack-data->ipython>=1.0->ipython-sql) (2.0.5)\n",
      "Requirement already satisfied: executing in c:\\users\\ikenna\\anaconda3\\lib\\site-packages (from stack-data->ipython>=1.0->ipython-sql) (0.8.3)\n",
      "Requirement already satisfied: pure-eval in c:\\users\\ikenna\\anaconda3\\lib\\site-packages (from stack-data->ipython>=1.0->ipython-sql) (0.2.2)\n"
     ]
    }
   ],
   "source": [
    "!pip install ipython-sql"
   ]
  },
  {
   "cell_type": "code",
   "execution_count": 28,
   "id": "2b83ca84",
   "metadata": {},
   "outputs": [],
   "source": [
    "# A database was created\n",
    "\n",
    "cnn = sqlite3.connect('fashionbrands_sql.db') "
   ]
  },
  {
   "cell_type": "code",
   "execution_count": 29,
   "id": "ec819043",
   "metadata": {
    "scrolled": false
   },
   "outputs": [
    {
     "data": {
      "text/plain": [
       "14223"
      ]
     },
     "execution_count": 29,
     "metadata": {},
     "output_type": "execute_result"
    }
   ],
   "source": [
    "# design1_df was loaded to the database\n",
    "\n",
    "design1_df.to_sql('fashiondataQ', cnn)"
   ]
  },
  {
   "cell_type": "code",
   "execution_count": 30,
   "id": "4754089b",
   "metadata": {},
   "outputs": [
    {
     "data": {
      "text/plain": [
       "1020"
      ]
     },
     "execution_count": 30,
     "metadata": {},
     "output_type": "execute_result"
    }
   ],
   "source": [
    "#design2_df was loaded to the database\n",
    "\n",
    "design2_df.to_sql('fashiondataR', cnn)"
   ]
  },
  {
   "cell_type": "code",
   "execution_count": 31,
   "id": "d1459911",
   "metadata": {
    "scrolled": true
   },
   "outputs": [
    {
     "name": "stdout",
     "output_type": "stream",
     "text": [
      "The sql extension is already loaded. To reload it, use:\n",
      "  %reload_ext sql\n"
     ]
    }
   ],
   "source": [
    "%load_ext sql  "
   ]
  },
  {
   "cell_type": "code",
   "execution_count": 32,
   "id": "217e71e0",
   "metadata": {},
   "outputs": [],
   "source": [
    "%sql sqlite:///fashionbrands_sql.db"
   ]
  },
  {
   "cell_type": "code",
   "execution_count": 33,
   "id": "acd61e4d",
   "metadata": {},
   "outputs": [],
   "source": [
    "#created the master fashion data frame from SQL's INNER JOIN merge\n",
    "\n",
    "fashion_master_df = pd.read_sql(\"\"\"\n",
    "                    SELECT *\n",
    "                    FROM fashiondataQ as a\n",
    "                    INNER JOIN fashiondataR as b\n",
    "                    ON a.brand=b.brand_name\n",
    "                    \"\"\", con = cnn)"
   ]
  },
  {
   "cell_type": "code",
   "execution_count": 34,
   "id": "1c99c611",
   "metadata": {
    "scrolled": true
   },
   "outputs": [
    {
     "data": {
      "text/html": [
       "<div>\n",
       "<style scoped>\n",
       "    .dataframe tbody tr th:only-of-type {\n",
       "        vertical-align: middle;\n",
       "    }\n",
       "\n",
       "    .dataframe tbody tr th {\n",
       "        vertical-align: top;\n",
       "    }\n",
       "\n",
       "    .dataframe thead th {\n",
       "        text-align: right;\n",
       "    }\n",
       "</style>\n",
       "<table border=\"1\" class=\"dataframe\">\n",
       "  <thead>\n",
       "    <tr style=\"text-align: right;\">\n",
       "      <th></th>\n",
       "      <th>p_id</th>\n",
       "      <th>name</th>\n",
       "      <th>price</th>\n",
       "      <th>colour</th>\n",
       "      <th>brand</th>\n",
       "      <th>ratingCount</th>\n",
       "      <th>avg_rating</th>\n",
       "      <th>description</th>\n",
       "      <th>p_attributes</th>\n",
       "      <th>brand_id</th>\n",
       "      <th>brand_name</th>\n",
       "    </tr>\n",
       "  </thead>\n",
       "  <tbody>\n",
       "    <tr>\n",
       "      <th>0</th>\n",
       "      <td>1518329</td>\n",
       "      <td>Dupatta Bazaar White Embroidered Chiffon Dupatta</td>\n",
       "      <td>899.0</td>\n",
       "      <td>White</td>\n",
       "      <td>Dupatta Bazaar</td>\n",
       "      <td>1321</td>\n",
       "      <td>4.55</td>\n",
       "      <td>White embroidered&amp;nbsp;dupattaChiffon&lt;br&gt;Hand-...</td>\n",
       "      <td>{'Occasion': 'Daily', 'Pattern': 'Embroidered'...</td>\n",
       "      <td>242</td>\n",
       "      <td>Dupatta Bazaar</td>\n",
       "    </tr>\n",
       "    <tr>\n",
       "      <th>1</th>\n",
       "      <td>5829334</td>\n",
       "      <td>Roadster Women Mustard Yellow Solid Hooded Swe...</td>\n",
       "      <td>1199.0</td>\n",
       "      <td>Mustard</td>\n",
       "      <td>Roadster</td>\n",
       "      <td>5462</td>\n",
       "      <td>4.31</td>\n",
       "      <td>Mustard yellow solid sweatshirt, has a hood, t...</td>\n",
       "      <td>{'Body Shape ID': '443,424,324', 'Body or Garm...</td>\n",
       "      <td>750</td>\n",
       "      <td>Roadster</td>\n",
       "    </tr>\n",
       "    <tr>\n",
       "      <th>2</th>\n",
       "      <td>10340119</td>\n",
       "      <td>Inddus Peach-Coloured &amp; Beige Unstitched Dress...</td>\n",
       "      <td>5799.0</td>\n",
       "      <td>Peach</td>\n",
       "      <td>Inddus</td>\n",
       "      <td>145</td>\n",
       "      <td>4.07</td>\n",
       "      <td>Peach-Coloured and beige woven design unstitch...</td>\n",
       "      <td>{'Bottom Fabric': 'Cotton Blend', 'Bottom Patt...</td>\n",
       "      <td>389</td>\n",
       "      <td>Inddus</td>\n",
       "    </tr>\n",
       "    <tr>\n",
       "      <th>3</th>\n",
       "      <td>12384822</td>\n",
       "      <td>Kotty Women Black Wide Leg High-Rise Clean Loo...</td>\n",
       "      <td>1999.0</td>\n",
       "      <td>Black</td>\n",
       "      <td>Kotty</td>\n",
       "      <td>12260</td>\n",
       "      <td>4.08</td>\n",
       "      <td>Black dark wash 4-pocket high-rise jeans, clea...</td>\n",
       "      <td>{'Add-Ons': 'NA', 'Brand Fit Name': 'NA', 'Clo...</td>\n",
       "      <td>482</td>\n",
       "      <td>Kotty</td>\n",
       "    </tr>\n",
       "    <tr>\n",
       "      <th>4</th>\n",
       "      <td>14021452</td>\n",
       "      <td>Sera Women Multicoloured  Printed Tie-Up Shrug</td>\n",
       "      <td>1494.0</td>\n",
       "      <td>Multi</td>\n",
       "      <td>Sera</td>\n",
       "      <td>750</td>\n",
       "      <td>4.29</td>\n",
       "      <td>Brown and blue printed tie-up longline shrug, ...</td>\n",
       "      <td>{'Body or Garment Size': 'To-Fit Denotes Body ...</td>\n",
       "      <td>793</td>\n",
       "      <td>Sera</td>\n",
       "    </tr>\n",
       "  </tbody>\n",
       "</table>\n",
       "</div>"
      ],
      "text/plain": [
       "       p_id                                               name   price  \\\n",
       "0   1518329   Dupatta Bazaar White Embroidered Chiffon Dupatta   899.0   \n",
       "1   5829334  Roadster Women Mustard Yellow Solid Hooded Swe...  1199.0   \n",
       "2  10340119  Inddus Peach-Coloured & Beige Unstitched Dress...  5799.0   \n",
       "3  12384822  Kotty Women Black Wide Leg High-Rise Clean Loo...  1999.0   \n",
       "4  14021452     Sera Women Multicoloured  Printed Tie-Up Shrug  1494.0   \n",
       "\n",
       "    colour           brand  ratingCount  avg_rating  \\\n",
       "0    White  Dupatta Bazaar         1321        4.55   \n",
       "1  Mustard        Roadster         5462        4.31   \n",
       "2    Peach          Inddus          145        4.07   \n",
       "3    Black           Kotty        12260        4.08   \n",
       "4    Multi            Sera          750        4.29   \n",
       "\n",
       "                                         description  \\\n",
       "0  White embroidered&nbsp;dupattaChiffon<br>Hand-...   \n",
       "1  Mustard yellow solid sweatshirt, has a hood, t...   \n",
       "2  Peach-Coloured and beige woven design unstitch...   \n",
       "3  Black dark wash 4-pocket high-rise jeans, clea...   \n",
       "4  Brown and blue printed tie-up longline shrug, ...   \n",
       "\n",
       "                                        p_attributes  brand_id      brand_name  \n",
       "0  {'Occasion': 'Daily', 'Pattern': 'Embroidered'...       242  Dupatta Bazaar  \n",
       "1  {'Body Shape ID': '443,424,324', 'Body or Garm...       750        Roadster  \n",
       "2  {'Bottom Fabric': 'Cotton Blend', 'Bottom Patt...       389          Inddus  \n",
       "3  {'Add-Ons': 'NA', 'Brand Fit Name': 'NA', 'Clo...       482           Kotty  \n",
       "4  {'Body or Garment Size': 'To-Fit Denotes Body ...       793            Sera  "
      ]
     },
     "execution_count": 34,
     "metadata": {},
     "output_type": "execute_result"
    }
   ],
   "source": [
    "fashion_master_df.head()"
   ]
  },
  {
   "cell_type": "code",
   "execution_count": 35,
   "id": "27a647e5",
   "metadata": {
    "scrolled": true
   },
   "outputs": [
    {
     "name": "stdout",
     "output_type": "stream",
     "text": [
      "<class 'pandas.core.frame.DataFrame'>\n",
      "RangeIndex: 8052 entries, 0 to 8051\n",
      "Data columns (total 11 columns):\n",
      " #   Column        Non-Null Count  Dtype  \n",
      "---  ------        --------------  -----  \n",
      " 0   p_id          8052 non-null   object \n",
      " 1   name          8052 non-null   object \n",
      " 2   price         8052 non-null   float64\n",
      " 3   colour        8052 non-null   object \n",
      " 4   brand         8052 non-null   object \n",
      " 5   ratingCount   8052 non-null   int64  \n",
      " 6   avg_rating    8052 non-null   float64\n",
      " 7   description   8052 non-null   object \n",
      " 8   p_attributes  8052 non-null   object \n",
      " 9   brand_id      8052 non-null   int64  \n",
      " 10  brand_name    8052 non-null   object \n",
      "dtypes: float64(2), int64(2), object(7)\n",
      "memory usage: 692.1+ KB\n"
     ]
    }
   ],
   "source": [
    "fashion_master_df.info()"
   ]
  },
  {
   "cell_type": "code",
   "execution_count": 36,
   "id": "0f482738",
   "metadata": {},
   "outputs": [],
   "source": [
    "# Dataframe moved to csv file\n",
    "\n",
    "fashion_master_df.to_csv('fashion1_master.csv', index=False)"
   ]
  },
  {
   "cell_type": "code",
   "execution_count": null,
   "id": "11b0da1d",
   "metadata": {},
   "outputs": [],
   "source": []
  },
  {
   "cell_type": "markdown",
   "id": "76672622",
   "metadata": {},
   "source": [
    "## Questions"
   ]
  },
  {
   "cell_type": "markdown",
   "id": "7815b951",
   "metadata": {},
   "source": [
    ">Q1: What were the products with an average rating of 3.0 and below? Information on this would determine whether product will be discarded or improved."
   ]
  },
  {
   "cell_type": "code",
   "execution_count": 37,
   "id": "4ecba0bb",
   "metadata": {},
   "outputs": [],
   "source": [
    "# Data frame was created to review products of rating 3.0 and lower\n",
    "\n",
    "review_prdts_df = fashion_master_df[fashion_master_df['avg_rating'] <= 3].sort_values('price', ascending=True)"
   ]
  },
  {
   "cell_type": "code",
   "execution_count": 38,
   "id": "8a72a6ae",
   "metadata": {},
   "outputs": [],
   "source": [
    "review_prdts_df.reset_index(drop=True, inplace=True)"
   ]
  },
  {
   "cell_type": "code",
   "execution_count": 39,
   "id": "cf477822",
   "metadata": {
    "scrolled": true
   },
   "outputs": [
    {
     "data": {
      "text/html": [
       "<div>\n",
       "<style scoped>\n",
       "    .dataframe tbody tr th:only-of-type {\n",
       "        vertical-align: middle;\n",
       "    }\n",
       "\n",
       "    .dataframe tbody tr th {\n",
       "        vertical-align: top;\n",
       "    }\n",
       "\n",
       "    .dataframe thead th {\n",
       "        text-align: right;\n",
       "    }\n",
       "</style>\n",
       "<table border=\"1\" class=\"dataframe\">\n",
       "  <thead>\n",
       "    <tr style=\"text-align: right;\">\n",
       "      <th></th>\n",
       "      <th>p_id</th>\n",
       "      <th>name</th>\n",
       "      <th>price</th>\n",
       "      <th>colour</th>\n",
       "      <th>brand</th>\n",
       "      <th>ratingCount</th>\n",
       "      <th>avg_rating</th>\n",
       "      <th>description</th>\n",
       "      <th>p_attributes</th>\n",
       "      <th>brand_id</th>\n",
       "      <th>brand_name</th>\n",
       "    </tr>\n",
       "  </thead>\n",
       "  <tbody>\n",
       "    <tr>\n",
       "      <th>0</th>\n",
       "      <td>1411010</td>\n",
       "      <td>Dupatta Bazaar Beige Striped Chanderi Cotton S...</td>\n",
       "      <td>449.0</td>\n",
       "      <td>Beige</td>\n",
       "      <td>Dupatta Bazaar</td>\n",
       "      <td>6</td>\n",
       "      <td>2.83</td>\n",
       "      <td>Beige striped dupatta,&amp;nbsp;has a zari border ...</td>\n",
       "      <td>{'Ornamentation': 'Zari', 'Print or Pattern Ty...</td>\n",
       "      <td>242</td>\n",
       "      <td>Dupatta Bazaar</td>\n",
       "    </tr>\n",
       "    <tr>\n",
       "      <th>1</th>\n",
       "      <td>14745736</td>\n",
       "      <td>Baby Lakshmi Girls Orange &amp; Off White Ready to...</td>\n",
       "      <td>698.0</td>\n",
       "      <td>Orange</td>\n",
       "      <td>Baby Lakshmi</td>\n",
       "      <td>1</td>\n",
       "      <td>2.00</td>\n",
       "      <td>Orange and off white solid lehenga choli,&lt;br&gt;O...</td>\n",
       "      <td>{'Blouse Closure': 'Button', 'Blouse Fabric': ...</td>\n",
       "      <td>108</td>\n",
       "      <td>Baby Lakshmi</td>\n",
       "    </tr>\n",
       "    <tr>\n",
       "      <th>2</th>\n",
       "      <td>13278842</td>\n",
       "      <td>Bronz Women Off-White Printed Tunic</td>\n",
       "      <td>699.0</td>\n",
       "      <td>Off White</td>\n",
       "      <td>Bronz</td>\n",
       "      <td>12</td>\n",
       "      <td>2.83</td>\n",
       "      <td>Off-White printed Tunic, has a round neck, and...</td>\n",
       "      <td>{'Body or Garment Size': 'To-Fit Denotes Body ...</td>\n",
       "      <td>152</td>\n",
       "      <td>Bronz</td>\n",
       "    </tr>\n",
       "    <tr>\n",
       "      <th>3</th>\n",
       "      <td>18290008</td>\n",
       "      <td>Go Colors Women Black Tapered Fit Trousers</td>\n",
       "      <td>799.0</td>\n",
       "      <td>Black</td>\n",
       "      <td>Go Colors</td>\n",
       "      <td>2</td>\n",
       "      <td>3.00</td>\n",
       "      <td>&lt;ul&gt; &lt;li&gt; Black woven trousers &lt;/li&gt; &lt;li&gt; Tape...</td>\n",
       "      <td>{'Add-Ons': 'NA', 'Body Shape ID': '443,333,42...</td>\n",
       "      <td>338</td>\n",
       "      <td>Go Colors</td>\n",
       "    </tr>\n",
       "    <tr>\n",
       "      <th>4</th>\n",
       "      <td>11524932</td>\n",
       "      <td>Vishudh Women's Mustard &amp; Pink Striped Tunic</td>\n",
       "      <td>849.0</td>\n",
       "      <td>Mustard</td>\n",
       "      <td>Vishudh</td>\n",
       "      <td>13</td>\n",
       "      <td>2.31</td>\n",
       "      <td>Mustard and Pink striped Tunic, has a mandarin...</td>\n",
       "      <td>{'Body or Garment Size': 'Garment Measurements...</td>\n",
       "      <td>962</td>\n",
       "      <td>Vishudh</td>\n",
       "    </tr>\n",
       "    <tr>\n",
       "      <th>...</th>\n",
       "      <td>...</td>\n",
       "      <td>...</td>\n",
       "      <td>...</td>\n",
       "      <td>...</td>\n",
       "      <td>...</td>\n",
       "      <td>...</td>\n",
       "      <td>...</td>\n",
       "      <td>...</td>\n",
       "      <td>...</td>\n",
       "      <td>...</td>\n",
       "      <td>...</td>\n",
       "    </tr>\n",
       "    <tr>\n",
       "      <th>129</th>\n",
       "      <td>12418562</td>\n",
       "      <td>Geroo Jaipur Hand Dyed Bandhani Sea Green Silk...</td>\n",
       "      <td>8999.0</td>\n",
       "      <td>Sea Green</td>\n",
       "      <td>Geroo Jaipur</td>\n",
       "      <td>5</td>\n",
       "      <td>2.60</td>\n",
       "      <td>Sea Green lehenga choli&lt;br&gt;Pink and Golden wov...</td>\n",
       "      <td>{'Blouse Closure': 'NA', 'Blouse Fabric': 'Art...</td>\n",
       "      <td>327</td>\n",
       "      <td>Geroo Jaipur</td>\n",
       "    </tr>\n",
       "    <tr>\n",
       "      <th>130</th>\n",
       "      <td>16877276</td>\n",
       "      <td>Mitera Women Purple &amp; Silver Embroidered Lehen...</td>\n",
       "      <td>9600.0</td>\n",
       "      <td>Purple</td>\n",
       "      <td>Mitera</td>\n",
       "      <td>3</td>\n",
       "      <td>3.00</td>\n",
       "      <td>Purple and silver embroidered lehenga choli wi...</td>\n",
       "      <td>{'Blouse Closure': 'Zip', 'Blouse Fabric': 'Po...</td>\n",
       "      <td>583</td>\n",
       "      <td>Mitera</td>\n",
       "    </tr>\n",
       "    <tr>\n",
       "      <th>131</th>\n",
       "      <td>15344604</td>\n",
       "      <td>Chhabra 555 Teal Green Embroidered Zardozi Mad...</td>\n",
       "      <td>9900.0</td>\n",
       "      <td>Teal</td>\n",
       "      <td>Chhabra 555</td>\n",
       "      <td>2</td>\n",
       "      <td>3.00</td>\n",
       "      <td>Bring your dream look to life with this fashio...</td>\n",
       "      <td>{'Blouse Closure': 'NA', 'Blouse Fabric': 'Pol...</td>\n",
       "      <td>173</td>\n",
       "      <td>Chhabra 555</td>\n",
       "    </tr>\n",
       "    <tr>\n",
       "      <th>132</th>\n",
       "      <td>14539442</td>\n",
       "      <td>Chhabra 555 Sea Green &amp; Gold-Toned Embellished...</td>\n",
       "      <td>11900.0</td>\n",
       "      <td>Sea Green</td>\n",
       "      <td>Chhabra 555</td>\n",
       "      <td>3</td>\n",
       "      <td>2.67</td>\n",
       "      <td>Sea green and gold-toned embellished lehenga c...</td>\n",
       "      <td>{'Blouse Closure': 'NA', 'Blouse Fabric': 'Net...</td>\n",
       "      <td>173</td>\n",
       "      <td>Chhabra 555</td>\n",
       "    </tr>\n",
       "    <tr>\n",
       "      <th>133</th>\n",
       "      <td>15552632</td>\n",
       "      <td>Chhabra 555 Pretty Pink Made To Measure Leheng...</td>\n",
       "      <td>12400.0</td>\n",
       "      <td>Pink</td>\n",
       "      <td>Chhabra 555</td>\n",
       "      <td>3</td>\n",
       "      <td>2.33</td>\n",
       "      <td>Own the party by wearing this stylishly design...</td>\n",
       "      <td>{'Blouse Closure': 'Zip', 'Blouse Fabric': 'Po...</td>\n",
       "      <td>173</td>\n",
       "      <td>Chhabra 555</td>\n",
       "    </tr>\n",
       "  </tbody>\n",
       "</table>\n",
       "<p>134 rows × 11 columns</p>\n",
       "</div>"
      ],
      "text/plain": [
       "         p_id                                               name    price  \\\n",
       "0     1411010  Dupatta Bazaar Beige Striped Chanderi Cotton S...    449.0   \n",
       "1    14745736  Baby Lakshmi Girls Orange & Off White Ready to...    698.0   \n",
       "2    13278842                Bronz Women Off-White Printed Tunic    699.0   \n",
       "3    18290008         Go Colors Women Black Tapered Fit Trousers    799.0   \n",
       "4    11524932       Vishudh Women's Mustard & Pink Striped Tunic    849.0   \n",
       "..        ...                                                ...      ...   \n",
       "129  12418562  Geroo Jaipur Hand Dyed Bandhani Sea Green Silk...   8999.0   \n",
       "130  16877276  Mitera Women Purple & Silver Embroidered Lehen...   9600.0   \n",
       "131  15344604  Chhabra 555 Teal Green Embroidered Zardozi Mad...   9900.0   \n",
       "132  14539442  Chhabra 555 Sea Green & Gold-Toned Embellished...  11900.0   \n",
       "133  15552632  Chhabra 555 Pretty Pink Made To Measure Leheng...  12400.0   \n",
       "\n",
       "        colour           brand  ratingCount  avg_rating  \\\n",
       "0        Beige  Dupatta Bazaar            6        2.83   \n",
       "1       Orange    Baby Lakshmi            1        2.00   \n",
       "2    Off White           Bronz           12        2.83   \n",
       "3        Black       Go Colors            2        3.00   \n",
       "4      Mustard         Vishudh           13        2.31   \n",
       "..         ...             ...          ...         ...   \n",
       "129  Sea Green    Geroo Jaipur            5        2.60   \n",
       "130     Purple          Mitera            3        3.00   \n",
       "131       Teal     Chhabra 555            2        3.00   \n",
       "132  Sea Green     Chhabra 555            3        2.67   \n",
       "133       Pink     Chhabra 555            3        2.33   \n",
       "\n",
       "                                           description  \\\n",
       "0    Beige striped dupatta,&nbsp;has a zari border ...   \n",
       "1    Orange and off white solid lehenga choli,<br>O...   \n",
       "2    Off-White printed Tunic, has a round neck, and...   \n",
       "3    <ul> <li> Black woven trousers </li> <li> Tape...   \n",
       "4    Mustard and Pink striped Tunic, has a mandarin...   \n",
       "..                                                 ...   \n",
       "129  Sea Green lehenga choli<br>Pink and Golden wov...   \n",
       "130  Purple and silver embroidered lehenga choli wi...   \n",
       "131  Bring your dream look to life with this fashio...   \n",
       "132  Sea green and gold-toned embellished lehenga c...   \n",
       "133  Own the party by wearing this stylishly design...   \n",
       "\n",
       "                                          p_attributes  brand_id  \\\n",
       "0    {'Ornamentation': 'Zari', 'Print or Pattern Ty...       242   \n",
       "1    {'Blouse Closure': 'Button', 'Blouse Fabric': ...       108   \n",
       "2    {'Body or Garment Size': 'To-Fit Denotes Body ...       152   \n",
       "3    {'Add-Ons': 'NA', 'Body Shape ID': '443,333,42...       338   \n",
       "4    {'Body or Garment Size': 'Garment Measurements...       962   \n",
       "..                                                 ...       ...   \n",
       "129  {'Blouse Closure': 'NA', 'Blouse Fabric': 'Art...       327   \n",
       "130  {'Blouse Closure': 'Zip', 'Blouse Fabric': 'Po...       583   \n",
       "131  {'Blouse Closure': 'NA', 'Blouse Fabric': 'Pol...       173   \n",
       "132  {'Blouse Closure': 'NA', 'Blouse Fabric': 'Net...       173   \n",
       "133  {'Blouse Closure': 'Zip', 'Blouse Fabric': 'Po...       173   \n",
       "\n",
       "         brand_name  \n",
       "0    Dupatta Bazaar  \n",
       "1      Baby Lakshmi  \n",
       "2             Bronz  \n",
       "3         Go Colors  \n",
       "4           Vishudh  \n",
       "..              ...  \n",
       "129    Geroo Jaipur  \n",
       "130          Mitera  \n",
       "131     Chhabra 555  \n",
       "132     Chhabra 555  \n",
       "133     Chhabra 555  \n",
       "\n",
       "[134 rows x 11 columns]"
      ]
     },
     "execution_count": 39,
     "metadata": {},
     "output_type": "execute_result"
    }
   ],
   "source": [
    "review_prdts_df"
   ]
  },
  {
   "cell_type": "code",
   "execution_count": 40,
   "id": "8267a1e2",
   "metadata": {},
   "outputs": [
    {
     "data": {
      "text/plain": [
       "295.0"
      ]
     },
     "execution_count": 40,
     "metadata": {},
     "output_type": "execute_result"
    }
   ],
   "source": [
    "# The least price in the master dataset\n",
    "\n",
    "fashion_master_df['price'].min()"
   ]
  },
  {
   "cell_type": "markdown",
   "id": "9b4bbcca",
   "metadata": {},
   "source": [
    "> Answer 1: The fashion retail companies are advised to not discard the average rated products but rather improve them. This is because these products still generate revenue from per unit sale well above the least sale price of 295 dollars. Hence, products being discarded could reduce profit margins"
   ]
  },
  {
   "cell_type": "code",
   "execution_count": null,
   "id": "e210a768",
   "metadata": {},
   "outputs": [],
   "source": []
  },
  {
   "cell_type": "markdown",
   "id": "02b33645",
   "metadata": {},
   "source": [
    ">Q2: This question explored brand name, description, average rating and price of products that were of colour black. How much did fashion companies actually make from black products?"
   ]
  },
  {
   "cell_type": "code",
   "execution_count": 41,
   "id": "2db6b67d",
   "metadata": {},
   "outputs": [],
   "source": [
    "# Creating the black products dataframe\n",
    "\n",
    "black_prdts_df = fashion_master_df[fashion_master_df['colour'] == 'Black'].sort_values('price', ascending=False)"
   ]
  },
  {
   "cell_type": "code",
   "execution_count": 42,
   "id": "4ca57f10",
   "metadata": {},
   "outputs": [],
   "source": [
    "# Dropping any new index created\n",
    "\n",
    "black_prdts_df.reset_index(drop=True, inplace=True)"
   ]
  },
  {
   "cell_type": "code",
   "execution_count": 43,
   "id": "76d0310a",
   "metadata": {
    "collapsed": true
   },
   "outputs": [
    {
     "data": {
      "text/html": [
       "<div>\n",
       "<style scoped>\n",
       "    .dataframe tbody tr th:only-of-type {\n",
       "        vertical-align: middle;\n",
       "    }\n",
       "\n",
       "    .dataframe tbody tr th {\n",
       "        vertical-align: top;\n",
       "    }\n",
       "\n",
       "    .dataframe thead th {\n",
       "        text-align: right;\n",
       "    }\n",
       "</style>\n",
       "<table border=\"1\" class=\"dataframe\">\n",
       "  <thead>\n",
       "    <tr style=\"text-align: right;\">\n",
       "      <th></th>\n",
       "      <th>p_id</th>\n",
       "      <th>name</th>\n",
       "      <th>price</th>\n",
       "      <th>colour</th>\n",
       "      <th>brand</th>\n",
       "      <th>ratingCount</th>\n",
       "      <th>avg_rating</th>\n",
       "      <th>description</th>\n",
       "      <th>p_attributes</th>\n",
       "      <th>brand_id</th>\n",
       "      <th>brand_name</th>\n",
       "    </tr>\n",
       "  </thead>\n",
       "  <tbody>\n",
       "    <tr>\n",
       "      <th>0</th>\n",
       "      <td>16920516</td>\n",
       "      <td>Masaba Woman Black Tulip Cape Set</td>\n",
       "      <td>30000.0</td>\n",
       "      <td>Black</td>\n",
       "      <td>Masaba</td>\n",
       "      <td>184</td>\n",
       "      <td>4.10</td>\n",
       "      <td>V-neckline&amp;nbsp;&lt;br&gt;Full sleeves&amp;nbsp;&lt;br&gt;Embr...</td>\n",
       "      <td>{'Add-Ons': 'NA', 'Better Cotton Initiative': ...</td>\n",
       "      <td>553</td>\n",
       "      <td>Masaba</td>\n",
       "    </tr>\n",
       "    <tr>\n",
       "      <th>1</th>\n",
       "      <td>18585472</td>\n",
       "      <td>Mitera Black &amp; Pink Floral Pure Linen Saree</td>\n",
       "      <td>22300.0</td>\n",
       "      <td>Black</td>\n",
       "      <td>Mitera</td>\n",
       "      <td>184</td>\n",
       "      <td>4.10</td>\n",
       "      <td>&lt;b&gt; Design Details &lt;/b&gt; &lt;ul&gt; &lt;li&gt; Black and pi...</td>\n",
       "      <td>{'Blouse': 'Blouse Piece', 'Blouse Fabric': 'P...</td>\n",
       "      <td>583</td>\n",
       "      <td>Mitera</td>\n",
       "    </tr>\n",
       "    <tr>\n",
       "      <th>2</th>\n",
       "      <td>13168738</td>\n",
       "      <td>Justanned Plus Women Plus Size Black Solid Lea...</td>\n",
       "      <td>19999.0</td>\n",
       "      <td>Black</td>\n",
       "      <td>Justanned</td>\n",
       "      <td>184</td>\n",
       "      <td>4.10</td>\n",
       "      <td>Black solid jacket, has a spread collar, 6 poc...</td>\n",
       "      <td>{'Add-Ons': 'NA', 'Body Shape ID': '424', 'Bod...</td>\n",
       "      <td>442</td>\n",
       "      <td>Justanned</td>\n",
       "    </tr>\n",
       "    <tr>\n",
       "      <th>3</th>\n",
       "      <td>17981980</td>\n",
       "      <td>Justanned Women Black Leather Lightweight Crop...</td>\n",
       "      <td>19998.0</td>\n",
       "      <td>Black</td>\n",
       "      <td>Justanned</td>\n",
       "      <td>184</td>\n",
       "      <td>4.10</td>\n",
       "      <td>Black solid lightweight biker jacket  with zip...</td>\n",
       "      <td>{'Add-Ons': 'NA', 'Body Shape ID': '333,424', ...</td>\n",
       "      <td>442</td>\n",
       "      <td>Justanned</td>\n",
       "    </tr>\n",
       "    <tr>\n",
       "      <th>4</th>\n",
       "      <td>15880878</td>\n",
       "      <td>Justanned Women Black Striped Leather Crop Out...</td>\n",
       "      <td>15998.0</td>\n",
       "      <td>Black</td>\n",
       "      <td>Justanned</td>\n",
       "      <td>6</td>\n",
       "      <td>4.67</td>\n",
       "      <td>Black solid striped biker jacket  with zip det...</td>\n",
       "      <td>{'Add-Ons': 'NA', 'Body Shape ID': '333,424', ...</td>\n",
       "      <td>442</td>\n",
       "      <td>Justanned</td>\n",
       "    </tr>\n",
       "  </tbody>\n",
       "</table>\n",
       "</div>"
      ],
      "text/plain": [
       "       p_id                                               name    price  \\\n",
       "0  16920516                  Masaba Woman Black Tulip Cape Set  30000.0   \n",
       "1  18585472        Mitera Black & Pink Floral Pure Linen Saree  22300.0   \n",
       "2  13168738  Justanned Plus Women Plus Size Black Solid Lea...  19999.0   \n",
       "3  17981980  Justanned Women Black Leather Lightweight Crop...  19998.0   \n",
       "4  15880878  Justanned Women Black Striped Leather Crop Out...  15998.0   \n",
       "\n",
       "  colour      brand  ratingCount  avg_rating  \\\n",
       "0  Black     Masaba          184        4.10   \n",
       "1  Black     Mitera          184        4.10   \n",
       "2  Black  Justanned          184        4.10   \n",
       "3  Black  Justanned          184        4.10   \n",
       "4  Black  Justanned            6        4.67   \n",
       "\n",
       "                                         description  \\\n",
       "0  V-neckline&nbsp;<br>Full sleeves&nbsp;<br>Embr...   \n",
       "1  <b> Design Details </b> <ul> <li> Black and pi...   \n",
       "2  Black solid jacket, has a spread collar, 6 poc...   \n",
       "3  Black solid lightweight biker jacket  with zip...   \n",
       "4  Black solid striped biker jacket  with zip det...   \n",
       "\n",
       "                                        p_attributes  brand_id brand_name  \n",
       "0  {'Add-Ons': 'NA', 'Better Cotton Initiative': ...       553     Masaba  \n",
       "1  {'Blouse': 'Blouse Piece', 'Blouse Fabric': 'P...       583     Mitera  \n",
       "2  {'Add-Ons': 'NA', 'Body Shape ID': '424', 'Bod...       442  Justanned  \n",
       "3  {'Add-Ons': 'NA', 'Body Shape ID': '333,424', ...       442  Justanned  \n",
       "4  {'Add-Ons': 'NA', 'Body Shape ID': '333,424', ...       442  Justanned  "
      ]
     },
     "execution_count": 43,
     "metadata": {},
     "output_type": "execute_result"
    }
   ],
   "source": [
    "black_prdts_df.head()"
   ]
  },
  {
   "cell_type": "code",
   "execution_count": 44,
   "id": "7cd20cb3",
   "metadata": {},
   "outputs": [],
   "source": [
    "# Selecting required fields\n",
    "\n",
    "filtered_black_prdts_df = black_prdts_df.loc[:,['brand_name','avg_rating','price', 'description']]"
   ]
  },
  {
   "cell_type": "code",
   "execution_count": 45,
   "id": "cfedb246",
   "metadata": {
    "scrolled": false
   },
   "outputs": [
    {
     "data": {
      "text/html": [
       "<div>\n",
       "<style scoped>\n",
       "    .dataframe tbody tr th:only-of-type {\n",
       "        vertical-align: middle;\n",
       "    }\n",
       "\n",
       "    .dataframe tbody tr th {\n",
       "        vertical-align: top;\n",
       "    }\n",
       "\n",
       "    .dataframe thead th {\n",
       "        text-align: right;\n",
       "    }\n",
       "</style>\n",
       "<table border=\"1\" class=\"dataframe\">\n",
       "  <thead>\n",
       "    <tr style=\"text-align: right;\">\n",
       "      <th></th>\n",
       "      <th>brand_name</th>\n",
       "      <th>avg_rating</th>\n",
       "      <th>price</th>\n",
       "      <th>description</th>\n",
       "    </tr>\n",
       "  </thead>\n",
       "  <tbody>\n",
       "    <tr>\n",
       "      <th>0</th>\n",
       "      <td>Masaba</td>\n",
       "      <td>4.10</td>\n",
       "      <td>30000.0</td>\n",
       "      <td>V-neckline&amp;nbsp;&lt;br&gt;Full sleeves&amp;nbsp;&lt;br&gt;Embr...</td>\n",
       "    </tr>\n",
       "    <tr>\n",
       "      <th>1</th>\n",
       "      <td>Mitera</td>\n",
       "      <td>4.10</td>\n",
       "      <td>22300.0</td>\n",
       "      <td>&lt;b&gt; Design Details &lt;/b&gt; &lt;ul&gt; &lt;li&gt; Black and pi...</td>\n",
       "    </tr>\n",
       "    <tr>\n",
       "      <th>2</th>\n",
       "      <td>Justanned</td>\n",
       "      <td>4.10</td>\n",
       "      <td>19999.0</td>\n",
       "      <td>Black solid jacket, has a spread collar, 6 poc...</td>\n",
       "    </tr>\n",
       "    <tr>\n",
       "      <th>3</th>\n",
       "      <td>Justanned</td>\n",
       "      <td>4.10</td>\n",
       "      <td>19998.0</td>\n",
       "      <td>Black solid lightweight biker jacket  with zip...</td>\n",
       "    </tr>\n",
       "    <tr>\n",
       "      <th>4</th>\n",
       "      <td>Justanned</td>\n",
       "      <td>4.67</td>\n",
       "      <td>15998.0</td>\n",
       "      <td>Black solid striped biker jacket  with zip det...</td>\n",
       "    </tr>\n",
       "  </tbody>\n",
       "</table>\n",
       "</div>"
      ],
      "text/plain": [
       "  brand_name  avg_rating    price  \\\n",
       "0     Masaba        4.10  30000.0   \n",
       "1     Mitera        4.10  22300.0   \n",
       "2  Justanned        4.10  19999.0   \n",
       "3  Justanned        4.10  19998.0   \n",
       "4  Justanned        4.67  15998.0   \n",
       "\n",
       "                                         description  \n",
       "0  V-neckline&nbsp;<br>Full sleeves&nbsp;<br>Embr...  \n",
       "1  <b> Design Details </b> <ul> <li> Black and pi...  \n",
       "2  Black solid jacket, has a spread collar, 6 poc...  \n",
       "3  Black solid lightweight biker jacket  with zip...  \n",
       "4  Black solid striped biker jacket  with zip det...  "
      ]
     },
     "execution_count": 45,
     "metadata": {},
     "output_type": "execute_result"
    }
   ],
   "source": [
    "filtered_black_prdts_df.head()"
   ]
  },
  {
   "cell_type": "code",
   "execution_count": 46,
   "id": "5598c027",
   "metadata": {},
   "outputs": [
    {
     "name": "stdout",
     "output_type": "stream",
     "text": [
      "<class 'pandas.core.frame.DataFrame'>\n",
      "RangeIndex: 1049 entries, 0 to 1048\n",
      "Data columns (total 4 columns):\n",
      " #   Column       Non-Null Count  Dtype  \n",
      "---  ------       --------------  -----  \n",
      " 0   brand_name   1049 non-null   object \n",
      " 1   avg_rating   1049 non-null   float64\n",
      " 2   price        1049 non-null   float64\n",
      " 3   description  1049 non-null   object \n",
      "dtypes: float64(2), object(2)\n",
      "memory usage: 32.9+ KB\n"
     ]
    }
   ],
   "source": [
    "filtered_black_prdts_df.info()"
   ]
  },
  {
   "cell_type": "code",
   "execution_count": 47,
   "id": "b98e1802",
   "metadata": {},
   "outputs": [
    {
     "data": {
      "text/html": [
       "<div>\n",
       "<style scoped>\n",
       "    .dataframe tbody tr th:only-of-type {\n",
       "        vertical-align: middle;\n",
       "    }\n",
       "\n",
       "    .dataframe tbody tr th {\n",
       "        vertical-align: top;\n",
       "    }\n",
       "\n",
       "    .dataframe thead th {\n",
       "        text-align: right;\n",
       "    }\n",
       "</style>\n",
       "<table border=\"1\" class=\"dataframe\">\n",
       "  <thead>\n",
       "    <tr style=\"text-align: right;\">\n",
       "      <th></th>\n",
       "      <th>avg_rating</th>\n",
       "      <th>price</th>\n",
       "    </tr>\n",
       "  </thead>\n",
       "  <tbody>\n",
       "    <tr>\n",
       "      <th>count</th>\n",
       "      <td>1049.000000</td>\n",
       "      <td>1049.000000</td>\n",
       "    </tr>\n",
       "    <tr>\n",
       "      <th>mean</th>\n",
       "      <td>4.103365</td>\n",
       "      <td>2623.678742</td>\n",
       "    </tr>\n",
       "    <tr>\n",
       "      <th>std</th>\n",
       "      <td>0.327403</td>\n",
       "      <td>2208.596538</td>\n",
       "    </tr>\n",
       "    <tr>\n",
       "      <th>min</th>\n",
       "      <td>1.670000</td>\n",
       "      <td>295.000000</td>\n",
       "    </tr>\n",
       "    <tr>\n",
       "      <th>25%</th>\n",
       "      <td>4.100000</td>\n",
       "      <td>1499.000000</td>\n",
       "    </tr>\n",
       "    <tr>\n",
       "      <th>50%</th>\n",
       "      <td>4.100000</td>\n",
       "      <td>1999.000000</td>\n",
       "    </tr>\n",
       "    <tr>\n",
       "      <th>75%</th>\n",
       "      <td>4.210000</td>\n",
       "      <td>2990.000000</td>\n",
       "    </tr>\n",
       "    <tr>\n",
       "      <th>max</th>\n",
       "      <td>5.000000</td>\n",
       "      <td>30000.000000</td>\n",
       "    </tr>\n",
       "  </tbody>\n",
       "</table>\n",
       "</div>"
      ],
      "text/plain": [
       "        avg_rating         price\n",
       "count  1049.000000   1049.000000\n",
       "mean      4.103365   2623.678742\n",
       "std       0.327403   2208.596538\n",
       "min       1.670000    295.000000\n",
       "25%       4.100000   1499.000000\n",
       "50%       4.100000   1999.000000\n",
       "75%       4.210000   2990.000000\n",
       "max       5.000000  30000.000000"
      ]
     },
     "execution_count": 47,
     "metadata": {},
     "output_type": "execute_result"
    }
   ],
   "source": [
    "# There are 1,049 black clothes\n",
    "\n",
    "filtered_black_prdts_df.describe()"
   ]
  },
  {
   "cell_type": "code",
   "execution_count": 48,
   "id": "86040ae0",
   "metadata": {
    "scrolled": true
   },
   "outputs": [
    {
     "data": {
      "text/plain": [
       "268"
      ]
     },
     "execution_count": 48,
     "metadata": {},
     "output_type": "execute_result"
    }
   ],
   "source": [
    "# 268 brands made black clothes\n",
    "\n",
    "len(filtered_black_prdts_df['brand_name'].unique())"
   ]
  },
  {
   "cell_type": "code",
   "execution_count": 49,
   "id": "c9cf28c0",
   "metadata": {
    "scrolled": true
   },
   "outputs": [
    {
     "data": {
      "text/plain": [
       "13.02781917536016"
      ]
     },
     "execution_count": 49,
     "metadata": {},
     "output_type": "execute_result"
    }
   ],
   "source": [
    "# Percentage of black products was approximately 13%\n",
    "\n",
    "per_blck = (len(black_prdts_df)/len(fashion_master_df))*100\n",
    "per_blck"
   ]
  },
  {
   "cell_type": "code",
   "execution_count": 50,
   "id": "5e15b819",
   "metadata": {},
   "outputs": [],
   "source": [
    "# Dataframe moved to csv file\n",
    "\n",
    "filtered_black_prdts_df.to_csv('upfilteredblackprdts.csv', index=False)"
   ]
  },
  {
   "cell_type": "code",
   "execution_count": 51,
   "id": "63b341a3",
   "metadata": {},
   "outputs": [
    {
     "data": {
      "text/plain": [
       "2623.6787416587226"
      ]
     },
     "execution_count": 51,
     "metadata": {},
     "output_type": "execute_result"
    }
   ],
   "source": [
    "# Average price of black clothes\n",
    "\n",
    "filtered_black_prdts_df['price'].mean()"
   ]
  },
  {
   "cell_type": "code",
   "execution_count": 52,
   "id": "fd2488bc",
   "metadata": {},
   "outputs": [
    {
     "data": {
      "text/plain": [
       "2876.9600099354197"
      ]
     },
     "execution_count": 52,
     "metadata": {},
     "output_type": "execute_result"
    }
   ],
   "source": [
    "# Average price of all clothes\n",
    "\n",
    "fashion_master_df['price'].mean()"
   ]
  },
  {
   "cell_type": "code",
   "execution_count": 53,
   "id": "9ccb2a8b",
   "metadata": {},
   "outputs": [
    {
     "data": {
      "text/plain": [
       "4.103365109628194"
      ]
     },
     "execution_count": 53,
     "metadata": {},
     "output_type": "execute_result"
    }
   ],
   "source": [
    "# Mean of average rating\n",
    "\n",
    "filtered_black_prdts_df['avg_rating'].mean()"
   ]
  },
  {
   "cell_type": "markdown",
   "id": "cf7f4dda",
   "metadata": {},
   "source": [
    "> Answer 2: The findings showed that the average pricing of black clothes was £2623.68. This was lower than the general average of £2876.96 but close enough to it. The average rating though remained high with a mean of over 4.10. Hence, black clothes generally had above average rating despite their average sale price."
   ]
  },
  {
   "cell_type": "code",
   "execution_count": null,
   "id": "7c83e353",
   "metadata": {},
   "outputs": [],
   "source": []
  },
  {
   "cell_type": "markdown",
   "id": "b708defb",
   "metadata": {},
   "source": [
    "## MongoDB application to product attributes field, p_attributes"
   ]
  },
  {
   "cell_type": "markdown",
   "id": "5dcb6baf",
   "metadata": {},
   "source": [
    "> Looking further into black coloured products and their attributes breakdown using MongoDB"
   ]
  },
  {
   "cell_type": "code",
   "execution_count": 54,
   "id": "f7fcf093",
   "metadata": {
    "scrolled": true
   },
   "outputs": [],
   "source": [
    "# Filtered for product attributes and brand name\n",
    "\n",
    "mongofiltered_black_prdts_df = black_prdts_df[['brand_name','p_attributes']]"
   ]
  },
  {
   "cell_type": "code",
   "execution_count": 55,
   "id": "d8d55313",
   "metadata": {
    "scrolled": false
   },
   "outputs": [
    {
     "data": {
      "text/html": [
       "<div>\n",
       "<style scoped>\n",
       "    .dataframe tbody tr th:only-of-type {\n",
       "        vertical-align: middle;\n",
       "    }\n",
       "\n",
       "    .dataframe tbody tr th {\n",
       "        vertical-align: top;\n",
       "    }\n",
       "\n",
       "    .dataframe thead th {\n",
       "        text-align: right;\n",
       "    }\n",
       "</style>\n",
       "<table border=\"1\" class=\"dataframe\">\n",
       "  <thead>\n",
       "    <tr style=\"text-align: right;\">\n",
       "      <th></th>\n",
       "      <th>brand_name</th>\n",
       "      <th>p_attributes</th>\n",
       "    </tr>\n",
       "  </thead>\n",
       "  <tbody>\n",
       "    <tr>\n",
       "      <th>0</th>\n",
       "      <td>Masaba</td>\n",
       "      <td>{'Add-Ons': 'NA', 'Better Cotton Initiative': ...</td>\n",
       "    </tr>\n",
       "    <tr>\n",
       "      <th>1</th>\n",
       "      <td>Mitera</td>\n",
       "      <td>{'Blouse': 'Blouse Piece', 'Blouse Fabric': 'P...</td>\n",
       "    </tr>\n",
       "    <tr>\n",
       "      <th>2</th>\n",
       "      <td>Justanned</td>\n",
       "      <td>{'Add-Ons': 'NA', 'Body Shape ID': '424', 'Bod...</td>\n",
       "    </tr>\n",
       "    <tr>\n",
       "      <th>3</th>\n",
       "      <td>Justanned</td>\n",
       "      <td>{'Add-Ons': 'NA', 'Body Shape ID': '333,424', ...</td>\n",
       "    </tr>\n",
       "    <tr>\n",
       "      <th>4</th>\n",
       "      <td>Justanned</td>\n",
       "      <td>{'Add-Ons': 'NA', 'Body Shape ID': '333,424', ...</td>\n",
       "    </tr>\n",
       "    <tr>\n",
       "      <th>...</th>\n",
       "      <td>...</td>\n",
       "      <td>...</td>\n",
       "    </tr>\n",
       "    <tr>\n",
       "      <th>1044</th>\n",
       "      <td>Soch</td>\n",
       "      <td>{'Border': 'Woven Design', 'Fabric': 'Art Silk...</td>\n",
       "    </tr>\n",
       "    <tr>\n",
       "      <th>1045</th>\n",
       "      <td>Zivame</td>\n",
       "      <td>{'Add-Ons': 'NA', 'Body Shape ID': '443,324,42...</td>\n",
       "    </tr>\n",
       "    <tr>\n",
       "      <th>1046</th>\n",
       "      <td>Friskers</td>\n",
       "      <td>{'Body Shape ID': '333,424', 'Body or Garment ...</td>\n",
       "    </tr>\n",
       "    <tr>\n",
       "      <th>1047</th>\n",
       "      <td>Bewakoof</td>\n",
       "      <td>{'Body or Garment Size': 'To-Fit Denotes Body ...</td>\n",
       "    </tr>\n",
       "    <tr>\n",
       "      <th>1048</th>\n",
       "      <td>Jockey</td>\n",
       "      <td>{'Body Shape ID': '333,424', 'Body or Garment ...</td>\n",
       "    </tr>\n",
       "  </tbody>\n",
       "</table>\n",
       "<p>1049 rows × 2 columns</p>\n",
       "</div>"
      ],
      "text/plain": [
       "     brand_name                                       p_attributes\n",
       "0        Masaba  {'Add-Ons': 'NA', 'Better Cotton Initiative': ...\n",
       "1        Mitera  {'Blouse': 'Blouse Piece', 'Blouse Fabric': 'P...\n",
       "2     Justanned  {'Add-Ons': 'NA', 'Body Shape ID': '424', 'Bod...\n",
       "3     Justanned  {'Add-Ons': 'NA', 'Body Shape ID': '333,424', ...\n",
       "4     Justanned  {'Add-Ons': 'NA', 'Body Shape ID': '333,424', ...\n",
       "...         ...                                                ...\n",
       "1044       Soch  {'Border': 'Woven Design', 'Fabric': 'Art Silk...\n",
       "1045     Zivame  {'Add-Ons': 'NA', 'Body Shape ID': '443,324,42...\n",
       "1046   Friskers  {'Body Shape ID': '333,424', 'Body or Garment ...\n",
       "1047   Bewakoof  {'Body or Garment Size': 'To-Fit Denotes Body ...\n",
       "1048     Jockey  {'Body Shape ID': '333,424', 'Body or Garment ...\n",
       "\n",
       "[1049 rows x 2 columns]"
      ]
     },
     "execution_count": 55,
     "metadata": {},
     "output_type": "execute_result"
    }
   ],
   "source": [
    "mongofiltered_black_prdts_df"
   ]
  },
  {
   "cell_type": "code",
   "execution_count": 56,
   "id": "142ff363",
   "metadata": {},
   "outputs": [
    {
     "name": "stdout",
     "output_type": "stream",
     "text": [
      "<class 'pandas.core.frame.DataFrame'>\n",
      "RangeIndex: 1049 entries, 0 to 1048\n",
      "Data columns (total 2 columns):\n",
      " #   Column        Non-Null Count  Dtype \n",
      "---  ------        --------------  ----- \n",
      " 0   brand_name    1049 non-null   object\n",
      " 1   p_attributes  1049 non-null   object\n",
      "dtypes: object(2)\n",
      "memory usage: 16.5+ KB\n"
     ]
    }
   ],
   "source": [
    "mongofiltered_black_prdts_df.info()"
   ]
  },
  {
   "cell_type": "code",
   "execution_count": 57,
   "id": "f3584bea",
   "metadata": {
    "scrolled": false
   },
   "outputs": [
    {
     "data": {
      "text/plain": [
       "0       {'Add-Ons': 'NA', 'Better Cotton Initiative': ...\n",
       "1       {'Blouse': 'Blouse Piece', 'Blouse Fabric': 'P...\n",
       "2       {'Add-Ons': 'NA', 'Body Shape ID': '424', 'Bod...\n",
       "3       {'Add-Ons': 'NA', 'Body Shape ID': '333,424', ...\n",
       "4       {'Add-Ons': 'NA', 'Body Shape ID': '333,424', ...\n",
       "                              ...                        \n",
       "1044    {'Border': 'Woven Design', 'Fabric': 'Art Silk...\n",
       "1045    {'Add-Ons': 'NA', 'Body Shape ID': '443,324,42...\n",
       "1046    {'Body Shape ID': '333,424', 'Body or Garment ...\n",
       "1047    {'Body or Garment Size': 'To-Fit Denotes Body ...\n",
       "1048    {'Body Shape ID': '333,424', 'Body or Garment ...\n",
       "Name: p_attributes, Length: 1049, dtype: object"
      ]
     },
     "execution_count": 57,
     "metadata": {},
     "output_type": "execute_result"
    }
   ],
   "source": [
    "# Exploring the attributes\n",
    "\n",
    "mongofiltered_black_prdts_df['p_attributes']"
   ]
  },
  {
   "cell_type": "code",
   "execution_count": 58,
   "id": "4ac71c31",
   "metadata": {},
   "outputs": [],
   "source": [
    "# ast library imported to change the attributes data type from string to dictionary\n",
    "\n",
    "from ast import literal_eval"
   ]
  },
  {
   "cell_type": "code",
   "execution_count": 59,
   "id": "6f0ad247",
   "metadata": {
    "collapsed": true
   },
   "outputs": [
    {
     "name": "stderr",
     "output_type": "stream",
     "text": [
      "C:\\Users\\IKENNA\\AppData\\Local\\Temp\\ipykernel_41756\\297140986.py:1: SettingWithCopyWarning: \n",
      "A value is trying to be set on a copy of a slice from a DataFrame.\n",
      "Try using .loc[row_indexer,col_indexer] = value instead\n",
      "\n",
      "See the caveats in the documentation: https://pandas.pydata.org/pandas-docs/stable/user_guide/indexing.html#returning-a-view-versus-a-copy\n",
      "  mongofiltered_black_prdts_df['Attributes'] = mongofiltered_black_prdts_df['p_attributes'].apply(lambda x: literal_eval(x))\n"
     ]
    }
   ],
   "source": [
    "mongofiltered_black_prdts_df['Attributes'] = mongofiltered_black_prdts_df['p_attributes'].apply(lambda x: literal_eval(x))"
   ]
  },
  {
   "cell_type": "code",
   "execution_count": 60,
   "id": "ffde9df9",
   "metadata": {},
   "outputs": [
    {
     "data": {
      "text/html": [
       "<div>\n",
       "<style scoped>\n",
       "    .dataframe tbody tr th:only-of-type {\n",
       "        vertical-align: middle;\n",
       "    }\n",
       "\n",
       "    .dataframe tbody tr th {\n",
       "        vertical-align: top;\n",
       "    }\n",
       "\n",
       "    .dataframe thead th {\n",
       "        text-align: right;\n",
       "    }\n",
       "</style>\n",
       "<table border=\"1\" class=\"dataframe\">\n",
       "  <thead>\n",
       "    <tr style=\"text-align: right;\">\n",
       "      <th></th>\n",
       "      <th>brand_name</th>\n",
       "      <th>p_attributes</th>\n",
       "      <th>Attributes</th>\n",
       "    </tr>\n",
       "  </thead>\n",
       "  <tbody>\n",
       "    <tr>\n",
       "      <th>0</th>\n",
       "      <td>Masaba</td>\n",
       "      <td>{'Add-Ons': 'NA', 'Better Cotton Initiative': ...</td>\n",
       "      <td>{'Add-Ons': 'NA', 'Better Cotton Initiative': ...</td>\n",
       "    </tr>\n",
       "    <tr>\n",
       "      <th>1</th>\n",
       "      <td>Mitera</td>\n",
       "      <td>{'Blouse': 'Blouse Piece', 'Blouse Fabric': 'P...</td>\n",
       "      <td>{'Blouse': 'Blouse Piece', 'Blouse Fabric': 'P...</td>\n",
       "    </tr>\n",
       "    <tr>\n",
       "      <th>2</th>\n",
       "      <td>Justanned</td>\n",
       "      <td>{'Add-Ons': 'NA', 'Body Shape ID': '424', 'Bod...</td>\n",
       "      <td>{'Add-Ons': 'NA', 'Body Shape ID': '424', 'Bod...</td>\n",
       "    </tr>\n",
       "    <tr>\n",
       "      <th>3</th>\n",
       "      <td>Justanned</td>\n",
       "      <td>{'Add-Ons': 'NA', 'Body Shape ID': '333,424', ...</td>\n",
       "      <td>{'Add-Ons': 'NA', 'Body Shape ID': '333,424', ...</td>\n",
       "    </tr>\n",
       "    <tr>\n",
       "      <th>4</th>\n",
       "      <td>Justanned</td>\n",
       "      <td>{'Add-Ons': 'NA', 'Body Shape ID': '333,424', ...</td>\n",
       "      <td>{'Add-Ons': 'NA', 'Body Shape ID': '333,424', ...</td>\n",
       "    </tr>\n",
       "  </tbody>\n",
       "</table>\n",
       "</div>"
      ],
      "text/plain": [
       "  brand_name                                       p_attributes  \\\n",
       "0     Masaba  {'Add-Ons': 'NA', 'Better Cotton Initiative': ...   \n",
       "1     Mitera  {'Blouse': 'Blouse Piece', 'Blouse Fabric': 'P...   \n",
       "2  Justanned  {'Add-Ons': 'NA', 'Body Shape ID': '424', 'Bod...   \n",
       "3  Justanned  {'Add-Ons': 'NA', 'Body Shape ID': '333,424', ...   \n",
       "4  Justanned  {'Add-Ons': 'NA', 'Body Shape ID': '333,424', ...   \n",
       "\n",
       "                                          Attributes  \n",
       "0  {'Add-Ons': 'NA', 'Better Cotton Initiative': ...  \n",
       "1  {'Blouse': 'Blouse Piece', 'Blouse Fabric': 'P...  \n",
       "2  {'Add-Ons': 'NA', 'Body Shape ID': '424', 'Bod...  \n",
       "3  {'Add-Ons': 'NA', 'Body Shape ID': '333,424', ...  \n",
       "4  {'Add-Ons': 'NA', 'Body Shape ID': '333,424', ...  "
      ]
     },
     "execution_count": 60,
     "metadata": {},
     "output_type": "execute_result"
    }
   ],
   "source": [
    "mongofiltered_black_prdts_df.head()"
   ]
  },
  {
   "cell_type": "code",
   "execution_count": 61,
   "id": "27367be2",
   "metadata": {},
   "outputs": [
    {
     "data": {
      "text/plain": [
       "dict"
      ]
     },
     "execution_count": 61,
     "metadata": {},
     "output_type": "execute_result"
    }
   ],
   "source": [
    "type(mongofiltered_black_prdts_df['Attributes'][0])"
   ]
  },
  {
   "cell_type": "code",
   "execution_count": 62,
   "id": "7fc016f0",
   "metadata": {
    "collapsed": true
   },
   "outputs": [
    {
     "name": "stderr",
     "output_type": "stream",
     "text": [
      "C:\\Users\\IKENNA\\AppData\\Local\\Temp\\ipykernel_41756\\1633810029.py:1: SettingWithCopyWarning: \n",
      "A value is trying to be set on a copy of a slice from a DataFrame\n",
      "\n",
      "See the caveats in the documentation: https://pandas.pydata.org/pandas-docs/stable/user_guide/indexing.html#returning-a-view-versus-a-copy\n",
      "  mongofiltered_black_prdts_df.drop('p_attributes', axis=1, inplace=True)\n"
     ]
    }
   ],
   "source": [
    "mongofiltered_black_prdts_df.drop('p_attributes', axis=1, inplace=True)"
   ]
  },
  {
   "cell_type": "code",
   "execution_count": 63,
   "id": "a88a209b",
   "metadata": {},
   "outputs": [
    {
     "data": {
      "text/html": [
       "<div>\n",
       "<style scoped>\n",
       "    .dataframe tbody tr th:only-of-type {\n",
       "        vertical-align: middle;\n",
       "    }\n",
       "\n",
       "    .dataframe tbody tr th {\n",
       "        vertical-align: top;\n",
       "    }\n",
       "\n",
       "    .dataframe thead th {\n",
       "        text-align: right;\n",
       "    }\n",
       "</style>\n",
       "<table border=\"1\" class=\"dataframe\">\n",
       "  <thead>\n",
       "    <tr style=\"text-align: right;\">\n",
       "      <th></th>\n",
       "      <th>brand_name</th>\n",
       "      <th>Attributes</th>\n",
       "    </tr>\n",
       "  </thead>\n",
       "  <tbody>\n",
       "    <tr>\n",
       "      <th>0</th>\n",
       "      <td>Masaba</td>\n",
       "      <td>{'Add-Ons': 'NA', 'Better Cotton Initiative': ...</td>\n",
       "    </tr>\n",
       "    <tr>\n",
       "      <th>1</th>\n",
       "      <td>Mitera</td>\n",
       "      <td>{'Blouse': 'Blouse Piece', 'Blouse Fabric': 'P...</td>\n",
       "    </tr>\n",
       "    <tr>\n",
       "      <th>2</th>\n",
       "      <td>Justanned</td>\n",
       "      <td>{'Add-Ons': 'NA', 'Body Shape ID': '424', 'Bod...</td>\n",
       "    </tr>\n",
       "    <tr>\n",
       "      <th>3</th>\n",
       "      <td>Justanned</td>\n",
       "      <td>{'Add-Ons': 'NA', 'Body Shape ID': '333,424', ...</td>\n",
       "    </tr>\n",
       "    <tr>\n",
       "      <th>4</th>\n",
       "      <td>Justanned</td>\n",
       "      <td>{'Add-Ons': 'NA', 'Body Shape ID': '333,424', ...</td>\n",
       "    </tr>\n",
       "  </tbody>\n",
       "</table>\n",
       "</div>"
      ],
      "text/plain": [
       "  brand_name                                         Attributes\n",
       "0     Masaba  {'Add-Ons': 'NA', 'Better Cotton Initiative': ...\n",
       "1     Mitera  {'Blouse': 'Blouse Piece', 'Blouse Fabric': 'P...\n",
       "2  Justanned  {'Add-Ons': 'NA', 'Body Shape ID': '424', 'Bod...\n",
       "3  Justanned  {'Add-Ons': 'NA', 'Body Shape ID': '333,424', ...\n",
       "4  Justanned  {'Add-Ons': 'NA', 'Body Shape ID': '333,424', ..."
      ]
     },
     "execution_count": 63,
     "metadata": {},
     "output_type": "execute_result"
    }
   ],
   "source": [
    "mongofiltered_black_prdts_df.head()"
   ]
  },
  {
   "cell_type": "code",
   "execution_count": 64,
   "id": "9a42618f",
   "metadata": {},
   "outputs": [],
   "source": [
    "# The filtered dataframe is moved to csv to be imported to mongoDB Compass for further analysis\n",
    "\n",
    "mongofiltered_black_prdts_df.to_csv('blackcprdts.csv', index=False)"
   ]
  },
  {
   "cell_type": "code",
   "execution_count": 65,
   "id": "ae2c3661",
   "metadata": {
    "scrolled": false
   },
   "outputs": [
    {
     "name": "stdout",
     "output_type": "stream",
     "text": [
      "Requirement already satisfied: pymongo in c:\\users\\ikenna\\anaconda3\\lib\\site-packages (4.3.3)\n",
      "Requirement already satisfied: dnspython<3.0.0,>=1.16.0 in c:\\users\\ikenna\\anaconda3\\lib\\site-packages (from pymongo) (2.2.1)\n"
     ]
    }
   ],
   "source": [
    "# To work in the notebook, pymongo is installed and imported\n",
    "\n",
    "!pip install pymongo"
   ]
  },
  {
   "cell_type": "code",
   "execution_count": 66,
   "id": "9023455c",
   "metadata": {},
   "outputs": [],
   "source": [
    "import pymongo"
   ]
  },
  {
   "cell_type": "code",
   "execution_count": 67,
   "id": "909f7699",
   "metadata": {},
   "outputs": [],
   "source": [
    "# Server is set at localhost:27017\n",
    "\n",
    "client = pymongo.MongoClient(\"localhost\", 27017)"
   ]
  },
  {
   "cell_type": "code",
   "execution_count": 68,
   "id": "dbebd3de",
   "metadata": {},
   "outputs": [],
   "source": [
    "# The database is created and named\n",
    "\n",
    "db = client.fashiondb"
   ]
  },
  {
   "cell_type": "code",
   "execution_count": 69,
   "id": "492675b5",
   "metadata": {},
   "outputs": [
    {
     "data": {
      "text/plain": [
       "'fashiondb'"
      ]
     },
     "execution_count": 69,
     "metadata": {},
     "output_type": "execute_result"
    }
   ],
   "source": [
    "db.name"
   ]
  },
  {
   "cell_type": "code",
   "execution_count": 70,
   "id": "a669a84e",
   "metadata": {},
   "outputs": [
    {
     "data": {
      "text/plain": [
       "['admin', 'config', 'fashiondb', 'local']"
      ]
     },
     "execution_count": 70,
     "metadata": {},
     "output_type": "execute_result"
    }
   ],
   "source": [
    "# The list of databases at localhost 27017\n",
    "\n",
    "client.list_database_names()"
   ]
  },
  {
   "cell_type": "code",
   "execution_count": 71,
   "id": "d9081c85",
   "metadata": {},
   "outputs": [],
   "source": [
    "# A collection is created\n",
    "\n",
    "coll = db.products_attributes"
   ]
  },
  {
   "cell_type": "code",
   "execution_count": 72,
   "id": "7134a734",
   "metadata": {},
   "outputs": [
    {
     "data": {
      "text/plain": [
       "Collection(Database(MongoClient(host=['localhost:27017'], document_class=dict, tz_aware=False, connect=True), 'fashiondb'), 'products_attributes')"
      ]
     },
     "execution_count": 72,
     "metadata": {},
     "output_type": "execute_result"
    }
   ],
   "source": [
    "# Details on the product attributes collection\n",
    "\n",
    "db.products_attributes"
   ]
  },
  {
   "cell_type": "code",
   "execution_count": 73,
   "id": "32e66970",
   "metadata": {},
   "outputs": [
    {
     "data": {
      "text/plain": [
       "['products_attributes']"
      ]
     },
     "execution_count": 73,
     "metadata": {},
     "output_type": "execute_result"
    }
   ],
   "source": [
    "db.list_collection_names()"
   ]
  },
  {
   "cell_type": "code",
   "execution_count": 74,
   "id": "884df7fb",
   "metadata": {},
   "outputs": [
    {
     "data": {
      "text/plain": [
       "1049"
      ]
     },
     "execution_count": 74,
     "metadata": {},
     "output_type": "execute_result"
    }
   ],
   "source": [
    "# Collection has 1049 documents\n",
    "\n",
    "coll.count_documents({})"
   ]
  },
  {
   "cell_type": "code",
   "execution_count": 75,
   "id": "b54eb97c",
   "metadata": {
    "scrolled": false
   },
   "outputs": [
    {
     "data": {
      "text/plain": [
       "{'_id': ObjectId('63872b29c557eb483de5b023'),\n",
       " 'brand_name': 'Masaba',\n",
       " 'p_attributes': \"{'Add-Ons': 'NA', 'Better Cotton Initiative': 'Regular', 'Bottom Closure': 'Zip', 'Bottom Fabric': 'Silk Blend', 'Bottom Pattern': 'Printed', 'Bottom Type': 'Trousers', 'Character': 'NA', 'Lining': 'NA', 'Neck': 'Round Neck', 'Number of Pockets': 'NA', 'Occasion': 'Casual', 'Sleeve Length': 'Long Sleeves', 'Sustainable': 'Regular', 'Top Fabric': 'Silk Blend', 'Top Pattern': 'Solid', 'Top Type': 'Top', 'Trends': 'NA', 'Wash Care': 'Dry Clean'}\"}"
      ]
     },
     "execution_count": 75,
     "metadata": {},
     "output_type": "execute_result"
    }
   ],
   "source": [
    "# Selected a document\n",
    "\n",
    "coll.find_one()"
   ]
  },
  {
   "cell_type": "code",
   "execution_count": 76,
   "id": "2b8eb596",
   "metadata": {
    "scrolled": true
   },
   "outputs": [
    {
     "name": "stdout",
     "output_type": "stream",
     "text": [
      "{'_id': ObjectId('63872b29c557eb483de5b029'), 'p_attributes': \"{'Add-Ons': 'NA', 'Body Shape ID': '424', 'Body or Garment Size': 'Garment Measurements in', 'Character': 'NA', 'Closure': 'Zip', 'Collar': 'Hooded', 'Fabric': 'Nylon', 'Features': 'Reflective Strip', 'Hemline': 'Straight', 'Length': 'Longline', 'Lining Fabric': 'Polyester', 'Main Trend': 'NA', 'Number of Pockets': '3', 'Occasion': 'Sports', 'Pattern': 'Solid', 'Print or Pattern Type': 'Solid', 'Sleeve Length': 'Long Sleeves', 'Sport': 'Outdoor', 'Surface Styling': 'NA', 'Sustainable': 'Regular', 'Technology': 'NA', 'Technology Present': 'Yes', 'Type': 'Padded Jacket', 'Wash Care': 'Machine Wash', 'Weave Type': 'Woven', 'Where-to-wear': ''}\"}\n",
      "{'_id': ObjectId('63872b29c557eb483de5b02d'), 'p_attributes': \"{'Add-Ons': 'NA', 'Body Shape ID': '333,424', 'Body or Garment Size': 'Garment Measurements in', 'Character': 'NA', 'Closure': 'Zip', 'Collar': 'Hooded', 'Contact Brand or Retailer for pre-sales product queries': 'chogori india retail ltd. , a-16, rear-side, mohan co-operative industrial estate, main mathura road, new delhi-110044', 'Fabric': 'Nylon', 'Features': 'Insulator', 'Hemline': 'Straight', 'Length': 'Regular', 'Lining Fabric': 'Nylon', 'Main Trend': 'NA', 'Number of Pockets': '2', 'Occasion': 'Casual', 'Pattern': 'Solid', 'Print or Pattern Type': 'Solid', 'Sleeve Length': 'Long Sleeves', 'Sport': 'NA', 'Surface Styling': 'Zip Detail', 'Sustainable': 'Regular', 'Technology': 'NA', 'Technology Present': 'No', 'Type': 'Padded Jacket', 'Wash Care': 'Machine Wash', 'Weave Type': 'Woven'}\"}\n",
      "{'_id': ObjectId('63872b29c557eb483de5b02e'), 'p_attributes': \"{'Add-Ons': 'NA', 'Body Shape ID': '333,424', 'Body or Garment Size': 'Garment Measurements in', 'Character': 'NA', 'Closure': 'Zip', 'Collar': 'Hooded', 'Fabric': 'Polyester', 'Features': 'Insulator', 'Hemline': 'Straight', 'Length': 'Regular', 'Lining Fabric': 'Polyester', 'Main Trend': 'NA', 'Number of Pockets': '2', 'Occasion': 'Sports', 'Pattern': 'Solid', 'Print or Pattern Type': 'Solid', 'Sleeve Length': 'Long Sleeves', 'Sport': 'Outdoor', 'Surface Styling': 'Zip Detail', 'Sustainable': 'Regular', 'Technology': 'NA', 'Technology Present': 'Yes', 'Type': 'Quilted Jacket', 'Wash Care': 'Machine Wash', 'Weave Type': 'Woven', 'Where-to-wear': ''}\"}\n",
      "{'_id': ObjectId('63872b29c557eb483de5b03d'), 'p_attributes': \"{'Add-Ons': 'NA', 'Body Shape ID': '333,424', 'Body or Garment Size': 'Garment Measurements in', 'Character': 'NA', 'Closure': 'Zip', 'Collar': 'Mock Collar', 'Fabric': 'Polyester', 'Features': 'Reflective Strip', 'Hemline': 'Straight', 'Length': 'Regular', 'Lining Fabric': 'Polyester', 'Main Trend': 'NA', 'Number of Pockets': '2', 'Occasion': 'Sports', 'Pattern': 'Solid', 'Print or Pattern Type': 'Solid', 'Sleeve Length': 'Sleeveless', 'Sport': 'Outdoor', 'Surface Styling': 'NA', 'Sustainable': 'Regular', 'Technology': 'NA', 'Technology Present': 'Yes', 'Type': 'Quilted Jacket', 'Wash Care': 'Machine Wash', 'Weave Type': 'Woven', 'Where-to-wear': 'hiking, ski, snow sports, casual lifestyle'}\"}\n",
      "{'_id': ObjectId('63872b29c557eb483de5b05d'), 'p_attributes': \"{'Add-Ons': 'NA', 'Body Shape ID': '443,424', 'Body or Garment Size': 'To-Fit Denotes Body Measurements in', 'Brand Fit Name': 'NA', 'Care for me': 'Follow the garment wash care label<br>\\\\r\\\\nCan be tumble dried in a cool setting if machine washed<br>\\\\r\\\\nPrevent static build-up by drying while damp<br>\\\\r\\\\nUse low heat to iron', 'Character': 'Mickey & Donald', 'Closure': 'Slip-On', 'Contact Brand or Retailer for pre-sales product queries': 'Chogori India Retail Ltd. , A-16, Rear-side, Mohan Co-operative Industrial Estate, Main Mathura Road, New Delhi-110044', 'Fabric': 'Polyester', 'Fabric 2': 'NA', 'Features': 'Plain', 'Fit': 'Slim Fit', 'Fly Type': 'No Fly', 'Length': 'Regular', 'Main Trend': 'New Basics', 'Multipack Set': 'NA', 'Number of Pockets': 'NA', 'Occasion': 'Casual', 'Pattern': 'Solid', 'Print or Pattern Type': 'Solid', 'Sustainable': 'Regular', 'Type': 'Regular Trousers', 'Type of Pleat': 'Flat-Front', 'Waist Rise': 'Mid-Rise', 'Wash Care': 'Machine Wash', 'Weave Type': 'Woven'}\"}\n",
      "{'_id': ObjectId('63872b29c557eb483de5b05e'), 'p_attributes': \"{'Add-Ons': 'NA', 'Body Shape ID': '443,324,333,424', 'Body or Garment Size': 'Garment Measurements in', 'Character': 'NA', 'Closure': 'Zip', 'Collar': 'Mock Collar', 'Fabric': 'Polyester', 'Features': 'NA', 'Hemline': 'Straight', 'Length': 'Regular', 'Lining Fabric': 'Polyester', 'Main Trend': 'NA', 'Number of Pockets': '2', 'Occasion': 'Sports', 'Pattern': 'Solid', 'Print or Pattern Type': 'Solid', 'Sleeve Length': 'Long Sleeves', 'Sport': 'Outdoor', 'Surface Styling': 'NA', 'Sustainable': 'Regular', 'Technology': 'NA', 'Technology Present': 'Yes', 'Type': 'Sporty Jacket', 'Wash Care': 'Machine Wash', 'Weave Type': 'Woven', 'Where-to-wear': ''}\"}\n",
      "{'_id': ObjectId('63872b29c557eb483de5b0e4'), 'p_attributes': \"{'Add-Ons': 'NA', 'Body Shape ID': '443,333,424', 'Body or Garment Size': 'To-Fit Denotes Body Measurements in', 'Brand Fit Name': 'NA', 'Character': 'NA', 'Closure': 'Slip-On', 'Fabric': 'Polyester', 'Fabric 2': 'Elastane', 'Features': 'Stain Resistant', 'Fit': 'Regular Fit', 'Fly Type': 'No Fly', 'Length': 'Regular', 'Main Trend': 'New Basics', 'Multipack Set': 'NA', 'Number of Pockets': '2', 'Occasion': 'Casual', 'Pattern': 'Solid', 'Print or Pattern Type': 'Solid', 'Sustainable': 'Regular', 'Type': 'Regular Trousers', 'Type of Pleat': 'Flat-Front', 'Waist Rise': 'Mid-Rise', 'Wash Care': 'Machine Wash', 'Weave Type': 'Knitted'}\"}\n"
     ]
    }
   ],
   "source": [
    "# Filtered and selected several documents\n",
    "\n",
    "cur = coll.find({'brand_name': \"Columbia\"}, {'p_attributes': 1, '_id': 1})\n",
    "for doc in cur:\n",
    "    print(doc)"
   ]
  },
  {
   "cell_type": "code",
   "execution_count": null,
   "id": "86f4e193",
   "metadata": {},
   "outputs": [],
   "source": []
  },
  {
   "cell_type": "code",
   "execution_count": null,
   "id": "80f04433",
   "metadata": {},
   "outputs": [],
   "source": []
  },
  {
   "cell_type": "markdown",
   "id": "f8d2ec4b",
   "metadata": {},
   "source": [
    "## Working with Spark(PySpark)"
   ]
  },
  {
   "cell_type": "code",
   "execution_count": 77,
   "id": "ee4fa148",
   "metadata": {},
   "outputs": [
    {
     "name": "stdout",
     "output_type": "stream",
     "text": [
      "Requirement already satisfied: pyspark in c:\\users\\ikenna\\anaconda3\\lib\\site-packages (3.3.1)\n",
      "Requirement already satisfied: py4j==0.10.9.5 in c:\\users\\ikenna\\anaconda3\\lib\\site-packages (from pyspark) (0.10.9.5)\n"
     ]
    }
   ],
   "source": [
    "# PySpark and sparksql were installed\n",
    "\n",
    "!pip install pyspark"
   ]
  },
  {
   "cell_type": "code",
   "execution_count": 78,
   "id": "81793e0e",
   "metadata": {
    "collapsed": true
   },
   "outputs": [
    {
     "name": "stdout",
     "output_type": "stream",
     "text": [
      "Requirement already satisfied: sparksql-magic in c:\\users\\ikenna\\anaconda3\\lib\\site-packages (0.0.3)\n",
      "Requirement already satisfied: pyspark>=2.3.0 in c:\\users\\ikenna\\anaconda3\\lib\\site-packages (from sparksql-magic) (3.3.1)\n",
      "Requirement already satisfied: ipython>=7.4.0 in c:\\users\\ikenna\\anaconda3\\lib\\site-packages (from sparksql-magic) (8.4.0)\n",
      "Requirement already satisfied: traitlets>=5 in c:\\users\\ikenna\\anaconda3\\lib\\site-packages (from ipython>=7.4.0->sparksql-magic) (5.1.1)\n",
      "Requirement already satisfied: jedi>=0.16 in c:\\users\\ikenna\\anaconda3\\lib\\site-packages (from ipython>=7.4.0->sparksql-magic) (0.18.1)\n",
      "Requirement already satisfied: prompt-toolkit!=3.0.0,!=3.0.1,<3.1.0,>=2.0.0 in c:\\users\\ikenna\\anaconda3\\lib\\site-packages (from ipython>=7.4.0->sparksql-magic) (3.0.20)\n",
      "Requirement already satisfied: decorator in c:\\users\\ikenna\\anaconda3\\lib\\site-packages (from ipython>=7.4.0->sparksql-magic) (5.1.1)\n",
      "Requirement already satisfied: matplotlib-inline in c:\\users\\ikenna\\anaconda3\\lib\\site-packages (from ipython>=7.4.0->sparksql-magic) (0.1.6)\n",
      "Requirement already satisfied: backcall in c:\\users\\ikenna\\anaconda3\\lib\\site-packages (from ipython>=7.4.0->sparksql-magic) (0.2.0)\n",
      "Requirement already satisfied: setuptools>=18.5 in c:\\users\\ikenna\\anaconda3\\lib\\site-packages (from ipython>=7.4.0->sparksql-magic) (63.4.1)\n",
      "Requirement already satisfied: colorama in c:\\users\\ikenna\\anaconda3\\lib\\site-packages (from ipython>=7.4.0->sparksql-magic) (0.4.5)\n",
      "Requirement already satisfied: pygments>=2.4.0 in c:\\users\\ikenna\\anaconda3\\lib\\site-packages (from ipython>=7.4.0->sparksql-magic) (2.11.2)\n",
      "Requirement already satisfied: stack-data in c:\\users\\ikenna\\anaconda3\\lib\\site-packages (from ipython>=7.4.0->sparksql-magic) (0.2.0)\n",
      "Requirement already satisfied: pickleshare in c:\\users\\ikenna\\anaconda3\\lib\\site-packages (from ipython>=7.4.0->sparksql-magic) (0.7.5)\n",
      "Requirement already satisfied: py4j==0.10.9.5 in c:\\users\\ikenna\\anaconda3\\lib\\site-packages (from pyspark>=2.3.0->sparksql-magic) (0.10.9.5)\n",
      "Requirement already satisfied: parso<0.9.0,>=0.8.0 in c:\\users\\ikenna\\anaconda3\\lib\\site-packages (from jedi>=0.16->ipython>=7.4.0->sparksql-magic) (0.8.3)\n",
      "Requirement already satisfied: wcwidth in c:\\users\\ikenna\\anaconda3\\lib\\site-packages (from prompt-toolkit!=3.0.0,!=3.0.1,<3.1.0,>=2.0.0->ipython>=7.4.0->sparksql-magic) (0.2.5)\n",
      "Requirement already satisfied: asttokens in c:\\users\\ikenna\\anaconda3\\lib\\site-packages (from stack-data->ipython>=7.4.0->sparksql-magic) (2.0.5)\n",
      "Requirement already satisfied: pure-eval in c:\\users\\ikenna\\anaconda3\\lib\\site-packages (from stack-data->ipython>=7.4.0->sparksql-magic) (0.2.2)\n",
      "Requirement already satisfied: executing in c:\\users\\ikenna\\anaconda3\\lib\\site-packages (from stack-data->ipython>=7.4.0->sparksql-magic) (0.8.3)\n",
      "Requirement already satisfied: six in c:\\users\\ikenna\\anaconda3\\lib\\site-packages (from asttokens->stack-data->ipython>=7.4.0->sparksql-magic) (1.16.0)\n"
     ]
    }
   ],
   "source": [
    "!pip install sparksql-magic"
   ]
  },
  {
   "cell_type": "code",
   "execution_count": 79,
   "id": "aa85cf90",
   "metadata": {
    "collapsed": true
   },
   "outputs": [
    {
     "name": "stdout",
     "output_type": "stream",
     "text": [
      " Volume in drive C is Windows\n",
      " Volume Serial Number is EA12-F56B\n",
      "\n",
      " Directory of C:\\Users\\IKENNA\\bigdatatechassignments\n",
      "\n",
      "01/01/2023  22:48    <DIR>          .\n",
      "14/12/2022  01:29    <DIR>          ..\n",
      "01/01/2023  06:58    <DIR>          .ipynb_checkpoints\n",
      "19/12/2022  06:40    <DIR>          ALX PROJECTS\n",
      "07/12/2022  19:47            36,803 bigdata digram.pbix\n",
      "27/12/2022  06:52           701,009 bigdataassignment_2.ipynb\n",
      "08/12/2022  18:53         3,265,308 bigdataassignment_2.pdf\n",
      "06/12/2022  17:38           652,203 blackaprdts.csv\n",
      "06/12/2022  17:44               478 blackbprdts.csv\n",
      "01/01/2023  22:47           607,034 blackcprdts.csv\n",
      "06/12/2022  16:36           596,797 blackcprdtsattr.csv\n",
      "30/11/2022  09:44           607,036 blackprdts.csv\n",
      "06/12/2022  14:41           607,036 blackxprdts.csv\n",
      "12/10/2022  19:59            22,608 cars.csv\n",
      "12/10/2022  19:59            22,608 cars.csv.1\n",
      "13/12/2022  21:21            22,608 cars.csv.2\n",
      "13/12/2022  21:21            22,608 cars.csv.3\n",
      "07/12/2022  19:47           569,338 classwork 02-12.ipynb\n",
      "09/12/2022  11:31           733,827 copy1.ipynb\n",
      "01/12/2022  23:44           619,814 Data_Analysis_Lecture_DAT (1).ipynb\n",
      "08/12/2022  21:13            91,288 Decision Tree classification.ipynb\n",
      "01/01/2023  22:48           934,362 done_assign_2.ipynb\n",
      "01/01/2023  22:41         7,911,318 fashion1_master.csv\n",
      "01/01/2023  22:35        49,352,704 fashionbrands_sql.db\n",
      "06/12/2022  05:54        16,289,792 fashionbrandx_sql.db\n",
      "07/12/2022  15:48        16,289,792 fashionbrandy_sql.db\n",
      "08/12/2022  18:21        16,289,792 fashionbrandz_sql.db\n",
      "29/11/2022  13:33        16,289,792 fashionbrand_sql.db\n",
      "06/12/2022  05:50        16,289,792 fashionbrnd_sql.db\n",
      "27/11/2022  22:49            36,780 fashion_brand_details.xlsx\n",
      "27/11/2022  22:49        13,963,294 fashion_dataset.csv\n",
      "27/12/2022  06:46         7,903,092 fashion_master.csv\n",
      "29/11/2022  13:28        16,314,368 fashion_sql.db\n",
      "01/12/2022  17:14           309,925 filteredblackprdts.csv\n",
      "09/12/2022  11:31           733,827 i-Copy1.ipynb\n",
      "27/12/2022  05:37            37,163 i.ipynb\n",
      "28/11/2022  04:15        32,587,776 jupyter_sql.db\n",
      "01/12/2022  23:45             1,888 LowertRatedMovieSpark.txt\n",
      "07/12/2022  19:44            86,061 Multiple Regression-2 Complete.ipynb\n",
      "01/01/2023  08:43           176,355 PySpark (1).ipynb\n",
      "11/11/2022  00:12            21,968 real_estate.csv\n",
      "01/01/2023  15:26            32,769 review prdts visual.pbix\n",
      "01/01/2023  15:28            85,963 review prdts visual.pdf\n",
      "01/01/2023  14:10           125,141 reviewprdts.csv\n",
      "01/01/2023  06:36    <DIR>          spark-3.1.1-bin-hadoop3.2\n",
      "22/02/2021  02:45       228,721,937 spark-3.1.1-bin-hadoop3.2.tgz\n",
      "22/02/2021  02:45       228,721,937 spark-3.1.1-bin-hadoop3.2.tgz.1\n",
      "22/02/2021  02:45       228,721,937 spark-3.1.1-bin-hadoop3.2.tgz.2\n",
      "08/12/2022  21:16               589 Untitled.ipynb\n",
      "01/01/2023  06:55             2,332 Untitled1.ipynb\n",
      "01/01/2023  22:46           309,925 upfilteredblackprdts.csv\n",
      "              46 File(s)    907,720,774 bytes\n",
      "               5 Dir(s)  74,766,614,528 bytes free\n"
     ]
    }
   ],
   "source": [
    "# Checked the directory and initiated a spark session\n",
    "\n",
    "!dir"
   ]
  },
  {
   "cell_type": "code",
   "execution_count": 80,
   "id": "04812a2a",
   "metadata": {},
   "outputs": [
    {
     "data": {
      "text/plain": [
       "'C:\\\\Users\\\\IKENNA\\\\bigdatatechassignments'"
      ]
     },
     "execution_count": 80,
     "metadata": {},
     "output_type": "execute_result"
    }
   ],
   "source": [
    "pwd"
   ]
  },
  {
   "cell_type": "code",
   "execution_count": 81,
   "id": "63a98050",
   "metadata": {},
   "outputs": [
    {
     "data": {
      "text/html": [
       "\n",
       "            <div>\n",
       "                <p><b>SparkSession - in-memory</b></p>\n",
       "                \n",
       "        <div>\n",
       "            <p><b>SparkContext</b></p>\n",
       "\n",
       "            <p><a href=\"http://DESKTOP-JJTCJ8J.lan:4040\">Spark UI</a></p>\n",
       "\n",
       "            <dl>\n",
       "              <dt>Version</dt>\n",
       "                <dd><code>v3.2.2</code></dd>\n",
       "              <dt>Master</dt>\n",
       "                <dd><code>local[*]</code></dd>\n",
       "              <dt>AppName</dt>\n",
       "                <dd><code>pyspark-shell</code></dd>\n",
       "            </dl>\n",
       "        </div>\n",
       "        \n",
       "            </div>\n",
       "        "
      ],
      "text/plain": [
       "<pyspark.sql.session.SparkSession at 0x252b9465d30>"
      ]
     },
     "execution_count": 81,
     "metadata": {},
     "output_type": "execute_result"
    }
   ],
   "source": [
    "import findspark\n",
    "findspark.init()\n",
    "from pyspark.sql import SparkSession\n",
    "spark = SparkSession.builder.master(\"local[*]\").getOrCreate()\n",
    "spark.conf.set(\"spark.sql.repl.eagerEval.enabled\", True) # Property used to format output tables better\n",
    "spark"
   ]
  },
  {
   "cell_type": "code",
   "execution_count": 82,
   "id": "74201385",
   "metadata": {
    "scrolled": true
   },
   "outputs": [
    {
     "name": "stdout",
     "output_type": "stream",
     "text": [
      "+--------+--------------------+------+-------+--------------+-----------+----------+--------------------+--------------------+--------+--------------+\n",
      "|    p_id|                name| price| colour|         brand|ratingCount|avg_rating|         description|        p_attributes|brand_id|    brand_name|\n",
      "+--------+--------------------+------+-------+--------------+-----------+----------+--------------------+--------------------+--------+--------------+\n",
      "| 1518329|Dupatta Bazaar Wh...| 899.0|  White|Dupatta Bazaar|       1321|      4.55|White embroidered...|{'Occasion': 'Dai...|     242|Dupatta Bazaar|\n",
      "| 5829334|Roadster Women Mu...|1199.0|Mustard|      Roadster|       5462|      4.31|\"Mustard yellow s...|{'Body Shape ID':...|     750|      Roadster|\n",
      "|10340119|Inddus Peach-Colo...|5799.0|  Peach|        Inddus|        145|      4.07|Peach-Coloured an...|{'Bottom Fabric':...|     389|        Inddus|\n",
      "|12384822|Kotty Women Black...|1999.0|  Black|         Kotty|      12260|      4.08|\"Black dark wash ...|{'Add-Ons': 'NA',...|     482|         Kotty|\n",
      "|14021452|Sera Women Multic...|1494.0|  Multi|          Sera|        750|      4.29|Brown and blue pr...|{'Body or Garment...|     793|          Sera|\n",
      "+--------+--------------------+------+-------+--------------+-----------+----------+--------------------+--------------------+--------+--------------+\n",
      "only showing top 5 rows\n",
      "\n"
     ]
    }
   ],
   "source": [
    "# Loaded the master data from csv to a dataframe using spark\n",
    "\n",
    "fashionspark_df = spark.read.csv('fashion1_master.csv', header=True, sep=\",\")\n",
    "fashionspark_df.show(5, truncate=True)"
   ]
  },
  {
   "cell_type": "code",
   "execution_count": 83,
   "id": "61ef2f78",
   "metadata": {
    "collapsed": true
   },
   "outputs": [
    {
     "data": {
      "text/plain": [
       "['p_id',\n",
       " 'name',\n",
       " 'price',\n",
       " 'colour',\n",
       " 'brand',\n",
       " 'ratingCount',\n",
       " 'avg_rating',\n",
       " 'description',\n",
       " 'p_attributes',\n",
       " 'brand_id',\n",
       " 'brand_name']"
      ]
     },
     "execution_count": 83,
     "metadata": {},
     "output_type": "execute_result"
    }
   ],
   "source": [
    "# Explored the columns\n",
    "\n",
    "fashionspark_df.columns"
   ]
  },
  {
   "cell_type": "code",
   "execution_count": 84,
   "id": "388663c1",
   "metadata": {
    "collapsed": true
   },
   "outputs": [
    {
     "name": "stdout",
     "output_type": "stream",
     "text": [
      "root\n",
      " |-- p_id: string (nullable = true)\n",
      " |-- name: string (nullable = true)\n",
      " |-- price: string (nullable = true)\n",
      " |-- colour: string (nullable = true)\n",
      " |-- brand: string (nullable = true)\n",
      " |-- ratingCount: string (nullable = true)\n",
      " |-- avg_rating: string (nullable = true)\n",
      " |-- description: string (nullable = true)\n",
      " |-- p_attributes: string (nullable = true)\n",
      " |-- brand_id: string (nullable = true)\n",
      " |-- brand_name: string (nullable = true)\n",
      "\n"
     ]
    }
   ],
   "source": [
    "# Explored the schema to see column data types\n",
    "\n",
    "fashionspark_df.printSchema()"
   ]
  },
  {
   "cell_type": "code",
   "execution_count": 85,
   "id": "ec873a44",
   "metadata": {},
   "outputs": [],
   "source": [
    "from pyspark.sql.types import *"
   ]
  },
  {
   "cell_type": "code",
   "execution_count": 86,
   "id": "e3f8b675",
   "metadata": {},
   "outputs": [],
   "source": [
    "# Created a list of the schema in the format column, data type\n",
    "labels = [\n",
    "     ('p_id',StringType()),\n",
    "     ('name',StringType()),\n",
    "     ('price',DoubleType()),\n",
    "     ('colour',StringType()),\n",
    "     ('brand',StringType()),\n",
    "     ('ratingCount',IntegerType()),\n",
    "     ('avg_rating',DoubleType()),\n",
    "     ('description',StringType()),\n",
    "     ('p_attributes',StringType()),\n",
    "     ('brand_id',IntegerType()),\n",
    "     ('brand_name',StringType())\n",
    "]\n"
   ]
  },
  {
   "cell_type": "code",
   "execution_count": 87,
   "id": "89698776",
   "metadata": {
    "scrolled": false
   },
   "outputs": [
    {
     "data": {
      "text/plain": [
       "StructType(List(StructField(p_id,StringType,true),StructField(name,StringType,true),StructField(price,DoubleType,true),StructField(colour,StringType,true),StructField(brand,StringType,true),StructField(ratingCount,IntegerType,true),StructField(avg_rating,DoubleType,true),StructField(description,StringType,true),StructField(p_attributes,StringType,true),StructField(brand_id,IntegerType,true),StructField(brand_name,StringType,true)))"
      ]
     },
     "execution_count": 87,
     "metadata": {},
     "output_type": "execute_result"
    }
   ],
   "source": [
    "# Used StructType method to examine the schema\n",
    "\n",
    "schema = StructType([StructField (x[0], x[1], True) for x in labels])\n",
    "schema"
   ]
  },
  {
   "cell_type": "code",
   "execution_count": 88,
   "id": "d74b17de",
   "metadata": {},
   "outputs": [
    {
     "name": "stdout",
     "output_type": "stream",
     "text": [
      "root\n",
      " |-- p_id: string (nullable = true)\n",
      " |-- name: string (nullable = true)\n",
      " |-- price: double (nullable = true)\n",
      " |-- colour: string (nullable = true)\n",
      " |-- brand: string (nullable = true)\n",
      " |-- ratingCount: integer (nullable = true)\n",
      " |-- avg_rating: double (nullable = true)\n",
      " |-- description: string (nullable = true)\n",
      " |-- p_attributes: string (nullable = true)\n",
      " |-- brand_id: integer (nullable = true)\n",
      " |-- brand_name: string (nullable = true)\n",
      "\n"
     ]
    }
   ],
   "source": [
    "# Updated column data types\n",
    "\n",
    "fashionspark_df = spark.read.csv('fashion1_master.csv', header=True, sep=\",\", schema=schema)\n",
    "fashionspark_df.printSchema()"
   ]
  },
  {
   "cell_type": "code",
   "execution_count": 89,
   "id": "6ac6ee48",
   "metadata": {
    "scrolled": true
   },
   "outputs": [
    {
     "name": "stdout",
     "output_type": "stream",
     "text": [
      "+--------------------+--------+------+-------+----------+\n",
      "|          brand_name|    p_id| price| colour|avg_rating|\n",
      "+--------------------+--------+------+-------+----------+\n",
      "|      Dupatta Bazaar| 1518329| 899.0|  White|      4.55|\n",
      "|            Roadster| 5829334|1199.0|Mustard|      4.31|\n",
      "|              Inddus|10340119|5799.0|  Peach|      4.07|\n",
      "|               Kotty|12384822|1999.0|  Black|      4.08|\n",
      "|                Sera|14021452|1494.0|  Multi|      4.29|\n",
      "|       Tokyo Talkies|14063026| 699.0|  Black|      4.53|\n",
      "|               Anouk|14324806|4699.0|  Black|      3.81|\n",
      "|            Roadster|14955068|2599.0|  Mauve|      4.21|\n",
      "|       Tokyo Talkies|16827132|1399.0| Maroon|      3.91|\n",
      "|           Khushal K|17048614|5099.0|  Black|      4.42|\n",
      "|           Anubhutee|17413232|1739.0|   Pink|      4.25|\n",
      "|               Styli|18841352|1949.0|   Gold|       4.1|\n",
      "|                 171| 8317561|1699.0|   Blue|      4.31|\n",
      "|              Inddus| 8340727|6549.0|   Pink|      3.99|\n",
      "|       Tokyo Talkies|13401782|1699.0|  Black|      4.46|\n",
      "|              Athena|13719116|1299.0|Fuchsia|      4.53|\n",
      "|              Inddus|13843398|4399.0|   Teal|      4.45|\n",
      "|{'Body Shape ID':...|14024558|3799.0|   Grey|      4.55|\n",
      "|               Azira|14120438|1199.0|  Multi|      4.25|\n",
      "|               Anouk|16897384|3399.0|  Mauve|      4.32|\n",
      "+--------------------+--------+------+-------+----------+\n",
      "only showing top 20 rows\n",
      "\n"
     ]
    }
   ],
   "source": [
    "# Selected required columns\n",
    "\n",
    "fashionspark_df.select(fashionspark_df['brand_name'],fashionspark_df['p_id'],fashionspark_df['price'],fashionspark_df['colour'],\\\n",
    "                                         fashionspark_df['avg_rating']).show(truncate=True)"
   ]
  },
  {
   "cell_type": "code",
   "execution_count": 90,
   "id": "f815cbe5",
   "metadata": {},
   "outputs": [
    {
     "data": {
      "text/plain": [
       "['p_id',\n",
       " 'name',\n",
       " 'price',\n",
       " 'colour',\n",
       " 'brand',\n",
       " 'ratingCount',\n",
       " 'avg_rating',\n",
       " 'description',\n",
       " 'p_attributes',\n",
       " 'brand_id',\n",
       " 'brand_name']"
      ]
     },
     "execution_count": 90,
     "metadata": {},
     "output_type": "execute_result"
    }
   ],
   "source": [
    "fashionspark_df.columns"
   ]
  },
  {
   "cell_type": "code",
   "execution_count": 91,
   "id": "f6900525",
   "metadata": {
    "scrolled": true
   },
   "outputs": [
    {
     "name": "stdout",
     "output_type": "stream",
     "text": [
      "+----------+--------------------+------+-------+-----------------+------------+--------------+--------------------+--------------------+--------+--------------------+\n",
      "|product_id|                name| price| colour|            brand|rating_count|average_rating|         description|  product_attributes|brand_id|          brand_name|\n",
      "+----------+--------------------+------+-------+-----------------+------------+--------------+--------------------+--------------------+--------+--------------------+\n",
      "|   1518329|Dupatta Bazaar Wh...| 899.0|  White|   Dupatta Bazaar|        1321|          4.55|White embroidered...|{'Occasion': 'Dai...|     242|      Dupatta Bazaar|\n",
      "|   5829334|Roadster Women Mu...|1199.0|Mustard|         Roadster|        5462|          4.31|\"Mustard yellow s...|{'Body Shape ID':...|     750|            Roadster|\n",
      "|  10340119|Inddus Peach-Colo...|5799.0|  Peach|           Inddus|         145|          4.07|Peach-Coloured an...|{'Bottom Fabric':...|     389|              Inddus|\n",
      "|  12384822|Kotty Women Black...|1999.0|  Black|            Kotty|       12260|          4.08|\"Black dark wash ...|{'Add-Ons': 'NA',...|     482|               Kotty|\n",
      "|  14021452|Sera Women Multic...|1494.0|  Multi|             Sera|         750|          4.29|Brown and blue pr...|{'Body or Garment...|     793|                Sera|\n",
      "|  14063026|Tokyo Talkies Wom...| 699.0|  Black|    Tokyo Talkies|        1856|          4.53|\"Black solid mid-...|{'Body or Garment...|     903|       Tokyo Talkies|\n",
      "|  14324806|Anouk Stylish Bla...|4699.0|  Black|            Anouk|          84|          3.81|Stay fashionable ...|{'Blouse Closure'...|      75|               Anouk|\n",
      "|  14955068|Roadster Women El...|2599.0|  Mauve|         Roadster|         752|          4.21|Add a hint of dra...|{'Add-Ons': 'NA',...|     750|            Roadster|\n",
      "|  16827132|Tokyo Talkies Wom...|1399.0| Maroon|    Tokyo Talkies|         125|          3.91|<p>Maroon solid r...|{'Body Shape ID':...|     903|       Tokyo Talkies|\n",
      "|  17048614|Khushal K Women B...|5099.0|  Black|        Khushal K|        4522|          4.42|Black printed Kur...|{'Add-Ons': 'NA',...|     467|           Khushal K|\n",
      "|  17413232|Anubhutee Pink Et...|1739.0|   Pink|        Anubhutee|         273|          4.25|\"<ul> <li> Pink s...|{'Body or Garment...|      79|           Anubhutee|\n",
      "|  18841352|Styli Women Golde...|1949.0|   Gold|            Styli|         184|           4.1|\"<p>Golden sequin...|{'Add-Ons': 'NA',...|     848|               Styli|\n",
      "|   8317561|Chemistry Blue De...|1699.0|   Blue|        Chemistry|         900|          4.31|\"Blue&nbsp;solid ...| 2% elastane<br>M...|    null|                 171|\n",
      "|   8340727|Inddus Women Dust...|6549.0|   Pink|           Inddus|         636|          3.99|\"Dusty Pink semi-...|{'Blouse Closure'...|     389|              Inddus|\n",
      "|  13401782|Tokyo Talkies Wom...|1699.0|  Black|    Tokyo Talkies|         347|          4.46|\"Black solid jack...|{'Add-Ons': 'NA',...|     903|       Tokyo Talkies|\n",
      "|  13719116|Athena Chic Fuchs...|1299.0|Fuchsia|           Athena|       11553|          4.53|Jazz up your coll...|{'Body Shape ID':...|      95|              Athena|\n",
      "|  13843398|Inddus Teal Blue ...|4399.0|   Teal|           Inddus|         580|          4.45|<b>Design Details...|{'Blouse': 'Blous...|     389|              Inddus|\n",
      "|  14024558|Allen Solly Woman...|3799.0|   Grey|Allen Solly Woman|         133|          4.55|\"<p>Grey solid re...|         33% Viscose|    null|{'Body Shape ID':...|\n",
      "|  14120438|Azira Multicolour...|1199.0|  Multi|            Azira|        2300|          4.25|<ul><li>Multi-col...|{'Body Shape ID':...|     106|               Azira|\n",
      "|  16897384|Anouk Women Mauve...|3399.0|  Mauve|            Anouk|          75|          4.32|\"Mauve and white ...|{'Body or Garment...|      75|               Anouk|\n",
      "+----------+--------------------+------+-------+-----------------+------------+--------------+--------------------+--------------------+--------+--------------------+\n",
      "only showing top 20 rows\n",
      "\n"
     ]
    }
   ],
   "source": [
    "# Renamed the columns\n",
    "\n",
    "fashionspark_df = fashionspark_df.withColumnRenamed('p_id', 'product_id') \\\n",
    "        .withColumnRenamed('ratingCount', 'rating_count') \\\n",
    "        .withColumnRenamed('avg_rating', 'average_rating') \\\n",
    "        .withColumnRenamed('p_attributes', 'product_attributes')\n",
    "fashionspark_df.show(truncate=True)"
   ]
  },
  {
   "cell_type": "code",
   "execution_count": 92,
   "id": "061a8fd4",
   "metadata": {},
   "outputs": [
    {
     "name": "stdout",
     "output_type": "stream",
     "text": [
      "+--------------+------+-----+\n",
      "|    brand_name|colour|count|\n",
      "+--------------+------+-----+\n",
      "|      Roadster|  Blue|   83|\n",
      "| Tokyo Talkies|  Blue|   52|\n",
      "|           H&M| Black|   45|\n",
      "| Tokyo Talkies| Black|   42|\n",
      "| Tokyo Talkies| Green|   42|\n",
      "|      Roadster| Black|   36|\n",
      "|          null|Mitera|   33|\n",
      "|          null|   170|   29|\n",
      "|           H&M| Beige|   27|\n",
      "|Clora Creation| Black|   27|\n",
      "+--------------+------+-----+\n",
      "only showing top 10 rows\n",
      "\n"
     ]
    }
   ],
   "source": [
    "# Grouped dataframe by brand name and colour\n",
    "\n",
    "fashionspark_df.groupBy('brand_name', 'colour').count().orderBy('count', ascending=False).show(10)"
   ]
  },
  {
   "cell_type": "code",
   "execution_count": 93,
   "id": "6b4ceac6",
   "metadata": {
    "scrolled": true
   },
   "outputs": [
    {
     "name": "stdout",
     "output_type": "stream",
     "text": [
      "+----------+--------------------+------+-------+------------+--------------+--------------------+--------+--------------+\n",
      "|product_id|                name| price| colour|rating_count|average_rating|         description|brand_id|    brand_name|\n",
      "+----------+--------------------+------+-------+------------+--------------+--------------------+--------+--------------+\n",
      "|   1518329|Dupatta Bazaar Wh...| 899.0|  White|        1321|          4.55|White embroidered...|     242|Dupatta Bazaar|\n",
      "|   5829334|Roadster Women Mu...|1199.0|Mustard|        5462|          4.31|\"Mustard yellow s...|     750|      Roadster|\n",
      "|  10340119|Inddus Peach-Colo...|5799.0|  Peach|         145|          4.07|Peach-Coloured an...|     389|        Inddus|\n",
      "|  12384822|Kotty Women Black...|1999.0|  Black|       12260|          4.08|\"Black dark wash ...|     482|         Kotty|\n",
      "|  14021452|Sera Women Multic...|1494.0|  Multi|         750|          4.29|Brown and blue pr...|     793|          Sera|\n",
      "+----------+--------------------+------+-------+------------+--------------+--------------------+--------+--------------+\n",
      "only showing top 5 rows\n",
      "\n"
     ]
    }
   ],
   "source": [
    "# Dropped brand and product attributes columns\n",
    "\n",
    "fashionspark_df = fashionspark_df.drop('brand') \\\n",
    "       .drop('product_attributes')\n",
    "fashionspark_df.show(5,truncate=True)"
   ]
  },
  {
   "cell_type": "code",
   "execution_count": 94,
   "id": "ae66e0b3",
   "metadata": {},
   "outputs": [],
   "source": [
    "from pyspark.sql.functions import *"
   ]
  },
  {
   "cell_type": "code",
   "execution_count": 95,
   "id": "e0a9dd38",
   "metadata": {},
   "outputs": [
    {
     "name": "stdout",
     "output_type": "stream",
     "text": [
      "+----------+--------------------+------+------+------------+--------------+--------------------+--------+--------------+\n",
      "|product_id|                name| price|colour|rating_count|average_rating|         description|brand_id|    brand_name|\n",
      "+----------+--------------------+------+------+------------+--------------+--------------------+--------+--------------+\n",
      "|   1518329|Dupatta Bazaar Wh...| 899.0| White|        1321|          4.55|White embroidered...|     242|Dupatta Bazaar|\n",
      "|  11697268|Roadster Women Wh...| 499.0| White|        3106|           4.3|\"White printed de...|     750|      Roadster|\n",
      "|  10711448|Dupatta Bazaar Wo...| 599.0| White|        1531|          4.54|White solid dupat...|     242|Dupatta Bazaar|\n",
      "|  19147754|H&M Women White S...|1499.0| White|         184|           4.1|\"White solid a-li...|     353|           H&M|\n",
      "|  13736998|Athena White Tie-...|1699.0| White|        2200|          4.19|<ul><li>Colour: w...|      95|        Athena|\n",
      "|  10182385|Style Quotient Wo...|1599.0| White|        1559|          4.43|White self design...|     845|Style Quotient|\n",
      "|  11054006|Jaipur Kurti Wome...|1149.0| White|        6590|          4.06|\"White solid mid-...|     418|  Jaipur Kurti|\n",
      "|  17124538|H&M Women White R...|1499.0| White|          86|          4.66|\"<p>Cardigan in a...|     353|           H&M|\n",
      "|  17819832|Mast & Harbour Wh...|1599.0| White|         184|           4.1|<ul> <li> White a...|     554|Mast & Harbour|\n",
      "|  18437892|Vero Moda Women W...|2499.0| White|         184|           4.1|<p>White and blac...|     958|     Vero Moda|\n",
      "|  17449504|Sangria White & G...|2199.0| White|         184|           4.1|<b>ABOUT THE BRAN...|     776|       Sangria|\n",
      "|  11672988|Bhama Couture Wom...|1799.0| White|         315|          4.16|\"White, green and...|     131| Bhama Couture|\n",
      "|   5362057|Bhama Couture Whi...|1799.0| White|         344|          4.02|\"White and blue p...|     131| Bhama Couture|\n",
      "|  18363414|Forever New Women...|4400.0| White|         184|           4.1|White and green p...|     314|   Forever New|\n",
      "|  18376730|H&M Women White C...|1299.0| White|          30|           4.2|<p>Cropped zip-th...|     353|           H&M|\n",
      "|  17497950|Bewakoof Women Wh...|2549.0| White|           7|          4.86|This clothing set...|     130|      Bewakoof|\n",
      "|   9039205|Varanga White Shi...|1399.0| White|         712|          3.75|\"White solid wove...|     945|       Varanga|\n",
      "|  17988970|Flying Machine Wo...|1999.0| White|          24|          4.29|\"<ul> <li> Light ...|     309|Flying Machine|\n",
      "|  13769098|Style Quotient Wo...|1399.0| White|         105|           4.1|White self design...|     845|Style Quotient|\n",
      "|  17923962|La Aimee Women Wh...|2294.0| White|         184|           4.1|<ul> <li> White w...|     489|      La Aimee|\n",
      "+----------+--------------------+------+------+------------+--------------+--------------------+--------+--------------+\n",
      "only showing top 20 rows\n",
      "\n"
     ]
    }
   ],
   "source": [
    "# Filtered rows based on colour and avergae rating conditions\n",
    "\n",
    "fashionspark_df.filter((col('colour')=='White') & (col('average_rating')>=2.50)).show(truncate=True)"
   ]
  },
  {
   "cell_type": "code",
   "execution_count": 96,
   "id": "385cc186",
   "metadata": {},
   "outputs": [
    {
     "name": "stdout",
     "output_type": "stream",
     "text": [
      "+--------------+--------------------+\n",
      "|    brand_name|                name|\n",
      "+--------------+--------------------+\n",
      "|           750|Roadster Women Pe...|\n",
      "|      Roadster|Roadster Women Bl...|\n",
      "|          null|{'Better Cotton I...|\n",
      "|      Indo Era|Indo Era Women Bl...|\n",
      "|      Roadster|The Roadster Life...|\n",
      "|          Biba|Biba Red & Beige ...|\n",
      "|          null|Wuxi Orange & Gol...|\n",
      "|       Emprall|Emprall Multicolo...|\n",
      "| Tokyo Talkies|Tokyo Talkies Bla...|\n",
      "|          Biba|Biba Women Navy B...|\n",
      "| Tokyo Talkies|Tokyo Talkies Wom...|\n",
      "|         Libas|Libas Women Burgu...|\n",
      "|         Bronz|Bronz Women Green...|\n",
      "|   Belle Fille|Belle Fille Women...|\n",
      "|         Anouk|Anouk Women Rust ...|\n",
      "|          null| Do not bleach</p...|\n",
      "|     Indibelle|Indibelle Women Y...|\n",
      "|Clora Creation|Clora Creation Cr...|\n",
      "|         Styli|Styli Green Geome...|\n",
      "| Tokyo Talkies|Tokyo Talkies Wom...|\n",
      "+--------------+--------------------+\n",
      "only showing top 20 rows\n",
      "\n"
     ]
    }
   ],
   "source": [
    "# Showed unique brand names\n",
    "\n",
    "fashionspark_df.select('brand_name','name').distinct().show()"
   ]
  },
  {
   "cell_type": "code",
   "execution_count": 97,
   "id": "4628fee1",
   "metadata": {},
   "outputs": [
    {
     "name": "stdout",
     "output_type": "stream",
     "text": [
      "Black H&Ms: 45\n",
      "Blue Levis: 27\n",
      "Total Black H&M and Blue Levi CLothes: 72\n"
     ]
    }
   ],
   "source": [
    "# Multiple flitering and total count of H&M and Levis using 'union' method\n",
    "\n",
    "black_HnM_clothes = fashionspark_df.filter((col('brand_name')=='H&M') & (col('colour')=='Black'))\n",
    "blue_levis_clothes = fashionspark_df.filter((col('brand_name')=='Levis') & (col('colour')=='Blue'))\n",
    "print(\"Black H&Ms: \"+str(black_HnM_clothes.count()))\n",
    "print(\"Blue Levis: \"+str(blue_levis_clothes.count()))\n",
    "print(\"Total Black H&M and Blue Levi CLothes: \"+str(black_HnM_clothes.union(blue_levis_clothes).count()))"
   ]
  },
  {
   "cell_type": "code",
   "execution_count": 162,
   "id": "16fd9a6a",
   "metadata": {
    "scrolled": false
   },
   "outputs": [
    {
     "name": "stdout",
     "output_type": "stream",
     "text": [
      "brand_id,brand_name,p_id,name,price,colour,brand,ratingCount,avg_rating,description,p_attributes\n",
      "1,513,13158392,513 Women Black & Grey Woven-Design Kimono Shrug,1699.0,Black,513,136,4.57,\"Grey and black woven-design Kimono Shrug, has a solid border<p>Acrylic<br>Machine-wash</p>\",\"{'Better Cotton Initiative': 'Regular', 'Fabric': 'Acrylic', 'Front Styling': 'Open Front', 'Hemline': 'Asymmetric', 'Length': 'Longline', 'Main Trend': 'Monochrome', 'Occasion': 'Casual', 'Pattern': 'Checked', 'Sleeve Length': 'Long Sleeves', 'Surface Styling': 'NA', 'Sustainable': 'Regular', 'Wash Care': 'Machine Wash'}\"\n"
     ]
    }
   ],
   "source": [
    "# Applied RDD\n",
    "\n",
    "fashionsparkdf = spark.sparkContext.textFile('fashion_master.csv')\n",
    "print(fashionsparkdf.first())\n",
    "fashionsparkdf_header = fashionsparkdf.first()\n",
    "fashionsparkdf_rest = fashionsparkdf.filter(lambda line: line!=fashionsparkdf_header)\n",
    "print(fashionsparkdf_rest.first())"
   ]
  },
  {
   "cell_type": "code",
   "execution_count": 163,
   "id": "357b3c76",
   "metadata": {},
   "outputs": [
    {
     "data": {
      "text/plain": [
       "8302"
      ]
     },
     "execution_count": 163,
     "metadata": {},
     "output_type": "execute_result"
    }
   ],
   "source": [
    "# Using mapreduce, the number of products are counted\n",
    "\n",
    "fashionsparkdf_rest.map(lambda x: x.split(\";\")).count()"
   ]
  },
  {
   "cell_type": "markdown",
   "id": "be8e6137",
   "metadata": {},
   "source": [
    "## Machine Learning"
   ]
  },
  {
   "cell_type": "code",
   "execution_count": 100,
   "id": "eca7509a",
   "metadata": {},
   "outputs": [],
   "source": [
    "from sklearn.linear_model import LinearRegression\n",
    "from sklearn import metrics\n",
    "import numpy as np\n",
    "from sklearn.metrics import accuracy_score\n",
    "from sklearn.model_selection import train_test_split\n",
    "from sklearn import preprocessing\n",
    "from sklearn.metrics import mean_absolute_error, mean_squared_error"
   ]
  },
  {
   "cell_type": "code",
   "execution_count": 101,
   "id": "ff48ff7f",
   "metadata": {},
   "outputs": [
    {
     "data": {
      "text/html": [
       "<div>\n",
       "<style scoped>\n",
       "    .dataframe tbody tr th:only-of-type {\n",
       "        vertical-align: middle;\n",
       "    }\n",
       "\n",
       "    .dataframe tbody tr th {\n",
       "        vertical-align: top;\n",
       "    }\n",
       "\n",
       "    .dataframe thead th {\n",
       "        text-align: right;\n",
       "    }\n",
       "</style>\n",
       "<table border=\"1\" class=\"dataframe\">\n",
       "  <thead>\n",
       "    <tr style=\"text-align: right;\">\n",
       "      <th></th>\n",
       "      <th>p_id</th>\n",
       "      <th>name</th>\n",
       "      <th>price</th>\n",
       "      <th>colour</th>\n",
       "      <th>brand</th>\n",
       "      <th>ratingCount</th>\n",
       "      <th>avg_rating</th>\n",
       "      <th>description</th>\n",
       "      <th>p_attributes</th>\n",
       "      <th>brand_id</th>\n",
       "      <th>brand_name</th>\n",
       "    </tr>\n",
       "  </thead>\n",
       "  <tbody>\n",
       "    <tr>\n",
       "      <th>0</th>\n",
       "      <td>16920516</td>\n",
       "      <td>Masaba Woman Black Tulip Cape Set</td>\n",
       "      <td>30000.0</td>\n",
       "      <td>Black</td>\n",
       "      <td>Masaba</td>\n",
       "      <td>184</td>\n",
       "      <td>4.10</td>\n",
       "      <td>V-neckline&amp;nbsp;&lt;br&gt;Full sleeves&amp;nbsp;&lt;br&gt;Embr...</td>\n",
       "      <td>{'Add-Ons': 'NA', 'Better Cotton Initiative': ...</td>\n",
       "      <td>553</td>\n",
       "      <td>Masaba</td>\n",
       "    </tr>\n",
       "    <tr>\n",
       "      <th>1</th>\n",
       "      <td>18585472</td>\n",
       "      <td>Mitera Black &amp; Pink Floral Pure Linen Saree</td>\n",
       "      <td>22300.0</td>\n",
       "      <td>Black</td>\n",
       "      <td>Mitera</td>\n",
       "      <td>184</td>\n",
       "      <td>4.10</td>\n",
       "      <td>&lt;b&gt; Design Details &lt;/b&gt; &lt;ul&gt; &lt;li&gt; Black and pi...</td>\n",
       "      <td>{'Blouse': 'Blouse Piece', 'Blouse Fabric': 'P...</td>\n",
       "      <td>583</td>\n",
       "      <td>Mitera</td>\n",
       "    </tr>\n",
       "    <tr>\n",
       "      <th>2</th>\n",
       "      <td>13168738</td>\n",
       "      <td>Justanned Plus Women Plus Size Black Solid Lea...</td>\n",
       "      <td>19999.0</td>\n",
       "      <td>Black</td>\n",
       "      <td>Justanned</td>\n",
       "      <td>184</td>\n",
       "      <td>4.10</td>\n",
       "      <td>Black solid jacket, has a spread collar, 6 poc...</td>\n",
       "      <td>{'Add-Ons': 'NA', 'Body Shape ID': '424', 'Bod...</td>\n",
       "      <td>442</td>\n",
       "      <td>Justanned</td>\n",
       "    </tr>\n",
       "    <tr>\n",
       "      <th>3</th>\n",
       "      <td>17981980</td>\n",
       "      <td>Justanned Women Black Leather Lightweight Crop...</td>\n",
       "      <td>19998.0</td>\n",
       "      <td>Black</td>\n",
       "      <td>Justanned</td>\n",
       "      <td>184</td>\n",
       "      <td>4.10</td>\n",
       "      <td>Black solid lightweight biker jacket  with zip...</td>\n",
       "      <td>{'Add-Ons': 'NA', 'Body Shape ID': '333,424', ...</td>\n",
       "      <td>442</td>\n",
       "      <td>Justanned</td>\n",
       "    </tr>\n",
       "    <tr>\n",
       "      <th>4</th>\n",
       "      <td>15880878</td>\n",
       "      <td>Justanned Women Black Striped Leather Crop Out...</td>\n",
       "      <td>15998.0</td>\n",
       "      <td>Black</td>\n",
       "      <td>Justanned</td>\n",
       "      <td>6</td>\n",
       "      <td>4.67</td>\n",
       "      <td>Black solid striped biker jacket  with zip det...</td>\n",
       "      <td>{'Add-Ons': 'NA', 'Body Shape ID': '333,424', ...</td>\n",
       "      <td>442</td>\n",
       "      <td>Justanned</td>\n",
       "    </tr>\n",
       "  </tbody>\n",
       "</table>\n",
       "</div>"
      ],
      "text/plain": [
       "       p_id                                               name    price  \\\n",
       "0  16920516                  Masaba Woman Black Tulip Cape Set  30000.0   \n",
       "1  18585472        Mitera Black & Pink Floral Pure Linen Saree  22300.0   \n",
       "2  13168738  Justanned Plus Women Plus Size Black Solid Lea...  19999.0   \n",
       "3  17981980  Justanned Women Black Leather Lightweight Crop...  19998.0   \n",
       "4  15880878  Justanned Women Black Striped Leather Crop Out...  15998.0   \n",
       "\n",
       "  colour      brand  ratingCount  avg_rating  \\\n",
       "0  Black     Masaba          184        4.10   \n",
       "1  Black     Mitera          184        4.10   \n",
       "2  Black  Justanned          184        4.10   \n",
       "3  Black  Justanned          184        4.10   \n",
       "4  Black  Justanned            6        4.67   \n",
       "\n",
       "                                         description  \\\n",
       "0  V-neckline&nbsp;<br>Full sleeves&nbsp;<br>Embr...   \n",
       "1  <b> Design Details </b> <ul> <li> Black and pi...   \n",
       "2  Black solid jacket, has a spread collar, 6 poc...   \n",
       "3  Black solid lightweight biker jacket  with zip...   \n",
       "4  Black solid striped biker jacket  with zip det...   \n",
       "\n",
       "                                        p_attributes  brand_id brand_name  \n",
       "0  {'Add-Ons': 'NA', 'Better Cotton Initiative': ...       553     Masaba  \n",
       "1  {'Blouse': 'Blouse Piece', 'Blouse Fabric': 'P...       583     Mitera  \n",
       "2  {'Add-Ons': 'NA', 'Body Shape ID': '424', 'Bod...       442  Justanned  \n",
       "3  {'Add-Ons': 'NA', 'Body Shape ID': '333,424', ...       442  Justanned  \n",
       "4  {'Add-Ons': 'NA', 'Body Shape ID': '333,424', ...       442  Justanned  "
      ]
     },
     "execution_count": 101,
     "metadata": {},
     "output_type": "execute_result"
    }
   ],
   "source": [
    "# Used the black products dataframe\n",
    "\n",
    "black_prdts_df.head()"
   ]
  },
  {
   "cell_type": "code",
   "execution_count": 102,
   "id": "de96563e",
   "metadata": {},
   "outputs": [],
   "source": [
    "# Filtered further by dropping all rows with rating count equalling zero\n",
    "\n",
    "black_prdts_mldf = black_prdts_df[black_prdts_df['ratingCount'] != 0]"
   ]
  },
  {
   "cell_type": "code",
   "execution_count": 103,
   "id": "37242fc8",
   "metadata": {},
   "outputs": [
    {
     "name": "stdout",
     "output_type": "stream",
     "text": [
      "<class 'pandas.core.frame.DataFrame'>\n",
      "Int64Index: 1049 entries, 0 to 1048\n",
      "Data columns (total 11 columns):\n",
      " #   Column        Non-Null Count  Dtype  \n",
      "---  ------        --------------  -----  \n",
      " 0   p_id          1049 non-null   object \n",
      " 1   name          1049 non-null   object \n",
      " 2   price         1049 non-null   float64\n",
      " 3   colour        1049 non-null   object \n",
      " 4   brand         1049 non-null   object \n",
      " 5   ratingCount   1049 non-null   int64  \n",
      " 6   avg_rating    1049 non-null   float64\n",
      " 7   description   1049 non-null   object \n",
      " 8   p_attributes  1049 non-null   object \n",
      " 9   brand_id      1049 non-null   int64  \n",
      " 10  brand_name    1049 non-null   object \n",
      "dtypes: float64(2), int64(2), object(7)\n",
      "memory usage: 98.3+ KB\n"
     ]
    }
   ],
   "source": [
    "black_prdts_mldf.info()"
   ]
  },
  {
   "cell_type": "code",
   "execution_count": 104,
   "id": "4f874d12",
   "metadata": {},
   "outputs": [],
   "source": [
    "# Chose to focus the model on average rating, rating count and price\n",
    "\n",
    "focus_1 = black_prdts_mldf.loc[:,['avg_rating','ratingCount','price']]"
   ]
  },
  {
   "cell_type": "code",
   "execution_count": 105,
   "id": "1cf23d6d",
   "metadata": {
    "scrolled": false
   },
   "outputs": [
    {
     "data": {
      "text/html": [
       "<div>\n",
       "<style scoped>\n",
       "    .dataframe tbody tr th:only-of-type {\n",
       "        vertical-align: middle;\n",
       "    }\n",
       "\n",
       "    .dataframe tbody tr th {\n",
       "        vertical-align: top;\n",
       "    }\n",
       "\n",
       "    .dataframe thead th {\n",
       "        text-align: right;\n",
       "    }\n",
       "</style>\n",
       "<table border=\"1\" class=\"dataframe\">\n",
       "  <thead>\n",
       "    <tr style=\"text-align: right;\">\n",
       "      <th></th>\n",
       "      <th>avg_rating</th>\n",
       "      <th>ratingCount</th>\n",
       "      <th>price</th>\n",
       "    </tr>\n",
       "  </thead>\n",
       "  <tbody>\n",
       "    <tr>\n",
       "      <th>0</th>\n",
       "      <td>4.10</td>\n",
       "      <td>184</td>\n",
       "      <td>30000.0</td>\n",
       "    </tr>\n",
       "    <tr>\n",
       "      <th>1</th>\n",
       "      <td>4.10</td>\n",
       "      <td>184</td>\n",
       "      <td>22300.0</td>\n",
       "    </tr>\n",
       "    <tr>\n",
       "      <th>2</th>\n",
       "      <td>4.10</td>\n",
       "      <td>184</td>\n",
       "      <td>19999.0</td>\n",
       "    </tr>\n",
       "    <tr>\n",
       "      <th>3</th>\n",
       "      <td>4.10</td>\n",
       "      <td>184</td>\n",
       "      <td>19998.0</td>\n",
       "    </tr>\n",
       "    <tr>\n",
       "      <th>4</th>\n",
       "      <td>4.67</td>\n",
       "      <td>6</td>\n",
       "      <td>15998.0</td>\n",
       "    </tr>\n",
       "  </tbody>\n",
       "</table>\n",
       "</div>"
      ],
      "text/plain": [
       "   avg_rating  ratingCount    price\n",
       "0        4.10          184  30000.0\n",
       "1        4.10          184  22300.0\n",
       "2        4.10          184  19999.0\n",
       "3        4.10          184  19998.0\n",
       "4        4.67            6  15998.0"
      ]
     },
     "execution_count": 105,
     "metadata": {},
     "output_type": "execute_result"
    }
   ],
   "source": [
    "focus_1.head()"
   ]
  },
  {
   "cell_type": "code",
   "execution_count": 106,
   "id": "79d64a7a",
   "metadata": {},
   "outputs": [],
   "source": [
    "# Imported Normalizer in order to preprocess the focused data and bring them to scale\n",
    "\n",
    "from sklearn.preprocessing import Normalizer\n",
    "\n",
    "normalizer = Normalizer(norm='max')"
   ]
  },
  {
   "cell_type": "code",
   "execution_count": 107,
   "id": "efe46798",
   "metadata": {},
   "outputs": [],
   "source": [
    "focus_1[['avg_rating', 'ratingCount', 'price']]  = normalizer.fit_transform(focus_1[['avg_rating', 'ratingCount', 'price']])"
   ]
  },
  {
   "cell_type": "code",
   "execution_count": 108,
   "id": "a11445d7",
   "metadata": {
    "scrolled": false
   },
   "outputs": [
    {
     "data": {
      "text/html": [
       "<div>\n",
       "<style scoped>\n",
       "    .dataframe tbody tr th:only-of-type {\n",
       "        vertical-align: middle;\n",
       "    }\n",
       "\n",
       "    .dataframe tbody tr th {\n",
       "        vertical-align: top;\n",
       "    }\n",
       "\n",
       "    .dataframe thead th {\n",
       "        text-align: right;\n",
       "    }\n",
       "</style>\n",
       "<table border=\"1\" class=\"dataframe\">\n",
       "  <thead>\n",
       "    <tr style=\"text-align: right;\">\n",
       "      <th></th>\n",
       "      <th>avg_rating</th>\n",
       "      <th>ratingCount</th>\n",
       "      <th>price</th>\n",
       "    </tr>\n",
       "  </thead>\n",
       "  <tbody>\n",
       "    <tr>\n",
       "      <th>0</th>\n",
       "      <td>0.000137</td>\n",
       "      <td>0.006133</td>\n",
       "      <td>1.0</td>\n",
       "    </tr>\n",
       "    <tr>\n",
       "      <th>1</th>\n",
       "      <td>0.000184</td>\n",
       "      <td>0.008251</td>\n",
       "      <td>1.0</td>\n",
       "    </tr>\n",
       "    <tr>\n",
       "      <th>2</th>\n",
       "      <td>0.000205</td>\n",
       "      <td>0.009200</td>\n",
       "      <td>1.0</td>\n",
       "    </tr>\n",
       "    <tr>\n",
       "      <th>3</th>\n",
       "      <td>0.000205</td>\n",
       "      <td>0.009201</td>\n",
       "      <td>1.0</td>\n",
       "    </tr>\n",
       "    <tr>\n",
       "      <th>4</th>\n",
       "      <td>0.000292</td>\n",
       "      <td>0.000375</td>\n",
       "      <td>1.0</td>\n",
       "    </tr>\n",
       "  </tbody>\n",
       "</table>\n",
       "</div>"
      ],
      "text/plain": [
       "   avg_rating  ratingCount  price\n",
       "0    0.000137     0.006133    1.0\n",
       "1    0.000184     0.008251    1.0\n",
       "2    0.000205     0.009200    1.0\n",
       "3    0.000205     0.009201    1.0\n",
       "4    0.000292     0.000375    1.0"
      ]
     },
     "execution_count": 108,
     "metadata": {},
     "output_type": "execute_result"
    }
   ],
   "source": [
    "focus_1.head()"
   ]
  },
  {
   "cell_type": "markdown",
   "id": "be52cf92",
   "metadata": {},
   "source": [
    "> Using linear regression"
   ]
  },
  {
   "cell_type": "code",
   "execution_count": 109,
   "id": "cc9c72b6",
   "metadata": {},
   "outputs": [],
   "source": [
    "# Created the X and y dataframes\n",
    "\n",
    "X = pd.DataFrame(focus_1['avg_rating'])\n",
    "y = pd.DataFrame(focus_1['price'])"
   ]
  },
  {
   "cell_type": "code",
   "execution_count": 110,
   "id": "d4315c7a",
   "metadata": {},
   "outputs": [],
   "source": [
    "#Trained the model on X for avg_rating and y for price\n",
    "\n",
    "X_train, X_test, y_train, y_test = train_test_split(X, y, test_size=0.2, random_state=2)"
   ]
  },
  {
   "cell_type": "code",
   "execution_count": 111,
   "id": "eb39a67f",
   "metadata": {
    "collapsed": true
   },
   "outputs": [
    {
     "data": {
      "text/html": [
       "<div>\n",
       "<style scoped>\n",
       "    .dataframe tbody tr th:only-of-type {\n",
       "        vertical-align: middle;\n",
       "    }\n",
       "\n",
       "    .dataframe tbody tr th {\n",
       "        vertical-align: top;\n",
       "    }\n",
       "\n",
       "    .dataframe thead th {\n",
       "        text-align: right;\n",
       "    }\n",
       "</style>\n",
       "<table border=\"1\" class=\"dataframe\">\n",
       "  <thead>\n",
       "    <tr style=\"text-align: right;\">\n",
       "      <th></th>\n",
       "      <th>avg_rating</th>\n",
       "    </tr>\n",
       "  </thead>\n",
       "  <tbody>\n",
       "    <tr>\n",
       "      <th>796</th>\n",
       "      <td>0.002735</td>\n",
       "    </tr>\n",
       "    <tr>\n",
       "      <th>142</th>\n",
       "      <td>0.000750</td>\n",
       "    </tr>\n",
       "    <tr>\n",
       "      <th>550</th>\n",
       "      <td>0.002051</td>\n",
       "    </tr>\n",
       "    <tr>\n",
       "      <th>451</th>\n",
       "      <td>0.001822</td>\n",
       "    </tr>\n",
       "    <tr>\n",
       "      <th>209</th>\n",
       "      <td>0.001243</td>\n",
       "    </tr>\n",
       "    <tr>\n",
       "      <th>...</th>\n",
       "      <td>...</td>\n",
       "    </tr>\n",
       "    <tr>\n",
       "      <th>360</th>\n",
       "      <td>0.001641</td>\n",
       "    </tr>\n",
       "    <tr>\n",
       "      <th>466</th>\n",
       "      <td>0.001864</td>\n",
       "    </tr>\n",
       "    <tr>\n",
       "      <th>299</th>\n",
       "      <td>0.001465</td>\n",
       "    </tr>\n",
       "    <tr>\n",
       "      <th>493</th>\n",
       "      <td>0.001787</td>\n",
       "    </tr>\n",
       "    <tr>\n",
       "      <th>527</th>\n",
       "      <td>0.002051</td>\n",
       "    </tr>\n",
       "  </tbody>\n",
       "</table>\n",
       "<p>839 rows × 1 columns</p>\n",
       "</div>"
      ],
      "text/plain": [
       "     avg_rating\n",
       "796    0.002735\n",
       "142    0.000750\n",
       "550    0.002051\n",
       "451    0.001822\n",
       "209    0.001243\n",
       "..          ...\n",
       "360    0.001641\n",
       "466    0.001864\n",
       "299    0.001465\n",
       "493    0.001787\n",
       "527    0.002051\n",
       "\n",
       "[839 rows x 1 columns]"
      ]
     },
     "execution_count": 111,
     "metadata": {},
     "output_type": "execute_result"
    }
   ],
   "source": [
    "X_train"
   ]
  },
  {
   "cell_type": "code",
   "execution_count": 112,
   "id": "b2c54fd2",
   "metadata": {},
   "outputs": [],
   "source": [
    "# Assigned the model\n",
    "\n",
    "model_LR = LinearRegression()"
   ]
  },
  {
   "cell_type": "code",
   "execution_count": 113,
   "id": "5a24b079",
   "metadata": {},
   "outputs": [
    {
     "data": {
      "text/plain": [
       "LinearRegression()"
      ]
     },
     "execution_count": 113,
     "metadata": {},
     "output_type": "execute_result"
    }
   ],
   "source": [
    "# Fitted the model to the training set\n",
    "\n",
    "model_LR.fit(X_train, y_train)"
   ]
  },
  {
   "cell_type": "code",
   "execution_count": 114,
   "id": "61201833",
   "metadata": {},
   "outputs": [],
   "source": [
    "# Predicted using the test set\n",
    "\n",
    "y_pred = model_LR.predict(X_test)"
   ]
  },
  {
   "cell_type": "code",
   "execution_count": 115,
   "id": "c139492a",
   "metadata": {
    "collapsed": true
   },
   "outputs": [
    {
     "data": {
      "text/html": [
       "<div>\n",
       "<style scoped>\n",
       "    .dataframe tbody tr th:only-of-type {\n",
       "        vertical-align: middle;\n",
       "    }\n",
       "\n",
       "    .dataframe tbody tr th {\n",
       "        vertical-align: top;\n",
       "    }\n",
       "\n",
       "    .dataframe thead th {\n",
       "        text-align: right;\n",
       "    }\n",
       "</style>\n",
       "<table border=\"1\" class=\"dataframe\">\n",
       "  <thead>\n",
       "    <tr style=\"text-align: right;\">\n",
       "      <th></th>\n",
       "      <th>avg_rating</th>\n",
       "    </tr>\n",
       "  </thead>\n",
       "  <tbody>\n",
       "    <tr>\n",
       "      <th>347</th>\n",
       "      <td>0.001689</td>\n",
       "    </tr>\n",
       "    <tr>\n",
       "      <th>614</th>\n",
       "      <td>0.002159</td>\n",
       "    </tr>\n",
       "    <tr>\n",
       "      <th>700</th>\n",
       "      <td>0.001995</td>\n",
       "    </tr>\n",
       "    <tr>\n",
       "      <th>947</th>\n",
       "      <td>0.003656</td>\n",
       "    </tr>\n",
       "    <tr>\n",
       "      <th>705</th>\n",
       "      <td>0.002572</td>\n",
       "    </tr>\n",
       "    <tr>\n",
       "      <th>...</th>\n",
       "      <td>...</td>\n",
       "    </tr>\n",
       "    <tr>\n",
       "      <th>903</th>\n",
       "      <td>0.003420</td>\n",
       "    </tr>\n",
       "    <tr>\n",
       "      <th>620</th>\n",
       "      <td>0.002169</td>\n",
       "    </tr>\n",
       "    <tr>\n",
       "      <th>1005</th>\n",
       "      <td>0.004127</td>\n",
       "    </tr>\n",
       "    <tr>\n",
       "      <th>924</th>\n",
       "      <td>0.003162</td>\n",
       "    </tr>\n",
       "    <tr>\n",
       "      <th>964</th>\n",
       "      <td>0.004104</td>\n",
       "    </tr>\n",
       "  </tbody>\n",
       "</table>\n",
       "<p>210 rows × 1 columns</p>\n",
       "</div>"
      ],
      "text/plain": [
       "      avg_rating\n",
       "347     0.001689\n",
       "614     0.002159\n",
       "700     0.001995\n",
       "947     0.003656\n",
       "705     0.002572\n",
       "...          ...\n",
       "903     0.003420\n",
       "620     0.002169\n",
       "1005    0.004127\n",
       "924     0.003162\n",
       "964     0.004104\n",
       "\n",
       "[210 rows x 1 columns]"
      ]
     },
     "execution_count": 115,
     "metadata": {},
     "output_type": "execute_result"
    }
   ],
   "source": [
    "#Taking a look into X_test with 20 percent test set and 80 percent train set\n",
    "\n",
    "X_test"
   ]
  },
  {
   "cell_type": "code",
   "execution_count": 116,
   "id": "febd05c1",
   "metadata": {},
   "outputs": [
    {
     "data": {
      "text/plain": [
       "array([[0.99252353],\n",
       "       [0.99271392],\n",
       "       [0.99264764],\n",
       "       [0.99332   ],\n",
       "       [0.99288113],\n",
       "       [0.9921499 ],\n",
       "       [0.99241951],\n",
       "       [0.99256186],\n",
       "       [0.99214501],\n",
       "       [0.9928168 ]])"
      ]
     },
     "execution_count": 116,
     "metadata": {},
     "output_type": "execute_result"
    }
   ],
   "source": [
    "# Prediction of first 10 results\n",
    "\n",
    "y_pred[0:10]"
   ]
  },
  {
   "cell_type": "code",
   "execution_count": 117,
   "id": "3037ba00",
   "metadata": {},
   "outputs": [
    {
     "data": {
      "text/plain": [
       "0.0005899455605113957"
      ]
     },
     "execution_count": 117,
     "metadata": {},
     "output_type": "execute_result"
    }
   ],
   "source": [
    "# Checked accuracy of the model\n",
    "\n",
    "model_LR.score(X_test, y_test)"
   ]
  },
  {
   "cell_type": "code",
   "execution_count": 118,
   "id": "7dbca074",
   "metadata": {},
   "outputs": [
    {
     "name": "stdout",
     "output_type": "stream",
     "text": [
      "Mean Absolute Error:  0.014983112465987432\n",
      "Mean Squared Error:  0.0037374819138062923\n",
      "Root Mean Squared Error:  0.06113494838311628\n"
     ]
    }
   ],
   "source": [
    "# Explored the errors\n",
    "\n",
    "print('Mean Absolute Error: ', mean_absolute_error(y_test, y_pred))\n",
    "print('Mean Squared Error: ', mean_squared_error(y_test, y_pred))\n",
    "print('Root Mean Squared Error: ', np.sqrt(mean_squared_error(y_test, y_pred)))"
   ]
  },
  {
   "cell_type": "code",
   "execution_count": null,
   "id": "91d3192e",
   "metadata": {},
   "outputs": [],
   "source": []
  },
  {
   "cell_type": "markdown",
   "id": "fba511af",
   "metadata": {},
   "source": [
    "> Using multiple regression"
   ]
  },
  {
   "cell_type": "code",
   "execution_count": 119,
   "id": "f1be5587",
   "metadata": {
    "collapsed": true
   },
   "outputs": [
    {
     "data": {
      "text/html": [
       "<div>\n",
       "<style scoped>\n",
       "    .dataframe tbody tr th:only-of-type {\n",
       "        vertical-align: middle;\n",
       "    }\n",
       "\n",
       "    .dataframe tbody tr th {\n",
       "        vertical-align: top;\n",
       "    }\n",
       "\n",
       "    .dataframe thead th {\n",
       "        text-align: right;\n",
       "    }\n",
       "</style>\n",
       "<table border=\"1\" class=\"dataframe\">\n",
       "  <thead>\n",
       "    <tr style=\"text-align: right;\">\n",
       "      <th></th>\n",
       "      <th>avg_rating</th>\n",
       "      <th>ratingCount</th>\n",
       "    </tr>\n",
       "  </thead>\n",
       "  <tbody>\n",
       "    <tr>\n",
       "      <th>0</th>\n",
       "      <td>0.000137</td>\n",
       "      <td>0.006133</td>\n",
       "    </tr>\n",
       "    <tr>\n",
       "      <th>1</th>\n",
       "      <td>0.000184</td>\n",
       "      <td>0.008251</td>\n",
       "    </tr>\n",
       "    <tr>\n",
       "      <th>2</th>\n",
       "      <td>0.000205</td>\n",
       "      <td>0.009200</td>\n",
       "    </tr>\n",
       "    <tr>\n",
       "      <th>3</th>\n",
       "      <td>0.000205</td>\n",
       "      <td>0.009201</td>\n",
       "    </tr>\n",
       "    <tr>\n",
       "      <th>4</th>\n",
       "      <td>0.000292</td>\n",
       "      <td>0.000375</td>\n",
       "    </tr>\n",
       "    <tr>\n",
       "      <th>...</th>\n",
       "      <td>...</td>\n",
       "      <td>...</td>\n",
       "    </tr>\n",
       "    <tr>\n",
       "      <th>1044</th>\n",
       "      <td>0.008233</td>\n",
       "      <td>0.369478</td>\n",
       "    </tr>\n",
       "    <tr>\n",
       "      <th>1045</th>\n",
       "      <td>0.008970</td>\n",
       "      <td>0.214141</td>\n",
       "    </tr>\n",
       "    <tr>\n",
       "      <th>1046</th>\n",
       "      <td>0.008577</td>\n",
       "      <td>1.000000</td>\n",
       "    </tr>\n",
       "    <tr>\n",
       "      <th>1047</th>\n",
       "      <td>0.010276</td>\n",
       "      <td>0.461153</td>\n",
       "    </tr>\n",
       "    <tr>\n",
       "      <th>1048</th>\n",
       "      <td>0.015254</td>\n",
       "      <td>0.396610</td>\n",
       "    </tr>\n",
       "  </tbody>\n",
       "</table>\n",
       "<p>1049 rows × 2 columns</p>\n",
       "</div>"
      ],
      "text/plain": [
       "      avg_rating  ratingCount\n",
       "0       0.000137     0.006133\n",
       "1       0.000184     0.008251\n",
       "2       0.000205     0.009200\n",
       "3       0.000205     0.009201\n",
       "4       0.000292     0.000375\n",
       "...          ...          ...\n",
       "1044    0.008233     0.369478\n",
       "1045    0.008970     0.214141\n",
       "1046    0.008577     1.000000\n",
       "1047    0.010276     0.461153\n",
       "1048    0.015254     0.396610\n",
       "\n",
       "[1049 rows x 2 columns]"
      ]
     },
     "execution_count": 119,
     "metadata": {},
     "output_type": "execute_result"
    }
   ],
   "source": [
    "# Used more independent variables for a multiple regression\n",
    "\n",
    "X1 = pd.DataFrame(focus_1[['avg_rating', 'ratingCount']])\n",
    "X1"
   ]
  },
  {
   "cell_type": "code",
   "execution_count": 120,
   "id": "d39a8345",
   "metadata": {},
   "outputs": [],
   "source": [
    "X1_train, X1_test, y1_train, y1_test = train_test_split(X1, y, test_size=0.2, random_state=2)"
   ]
  },
  {
   "cell_type": "code",
   "execution_count": 121,
   "id": "2c36e682",
   "metadata": {},
   "outputs": [
    {
     "data": {
      "text/plain": [
       "LinearRegression()"
      ]
     },
     "execution_count": 121,
     "metadata": {},
     "output_type": "execute_result"
    }
   ],
   "source": [
    "model_LR.fit(X1_train, y1_train)"
   ]
  },
  {
   "cell_type": "code",
   "execution_count": 122,
   "id": "d75db8d6",
   "metadata": {},
   "outputs": [],
   "source": [
    "y1_pred = model_LR.predict(X1_test)"
   ]
  },
  {
   "cell_type": "code",
   "execution_count": 123,
   "id": "4ea4bef3",
   "metadata": {
    "scrolled": false
   },
   "outputs": [
    {
     "data": {
      "text/plain": [
       "array([[0.98984365],\n",
       "       [0.99269703],\n",
       "       [0.99142294],\n",
       "       [1.02715041],\n",
       "       [0.86457251],\n",
       "       [0.9999197 ],\n",
       "       [1.0075999 ],\n",
       "       [0.99334251],\n",
       "       [1.00254201],\n",
       "       [0.99226031]])"
      ]
     },
     "execution_count": 123,
     "metadata": {},
     "output_type": "execute_result"
    }
   ],
   "source": [
    "# Results using multiple regression\n",
    "\n",
    "y1_pred[0:10]"
   ]
  },
  {
   "cell_type": "code",
   "execution_count": 124,
   "id": "6590341a",
   "metadata": {},
   "outputs": [],
   "source": [
    "# In order to see the graphical corretation between actual and predicted outputs,set plots imported to be embedded inline\n",
    "\n",
    "import matplotlib.pyplot as plt\n",
    "import seaborn as sb\n",
    "\n",
    "%matplotlib inline"
   ]
  },
  {
   "cell_type": "code",
   "execution_count": 125,
   "id": "bdeaab78",
   "metadata": {},
   "outputs": [
    {
     "data": {
      "image/png": "[encoded data removed]",
      "text/plain": [
       "<Figure size 1800x1000 with 1 Axes>"
      ]
     },
     "metadata": {},
     "output_type": "display_data"
    }
   ],
   "source": [
    "plt.figure(figsize=(18,10))\n",
    "x_axis=range(len(y1_test))\n",
    "plt.plot(x_axis, y1_test, label='Original')\n",
    "plt.plot(x_axis, y1_pred, label='Predicted')\n",
    "plt.title('Actual Price and Predicted Price')\n",
    "plt.legend()\n",
    "plt.show()"
   ]
  },
  {
   "cell_type": "code",
   "execution_count": 126,
   "id": "9d8f3ea8",
   "metadata": {},
   "outputs": [
    {
     "data": {
      "text/plain": [
       "0.4991957115238791"
      ]
     },
     "execution_count": 126,
     "metadata": {},
     "output_type": "execute_result"
    }
   ],
   "source": [
    "model_LR.score(X1_test, y1_test)"
   ]
  },
  {
   "cell_type": "code",
   "execution_count": 127,
   "id": "34c6dee1",
   "metadata": {},
   "outputs": [
    {
     "name": "stdout",
     "output_type": "stream",
     "text": [
      "Mean Absolute Error:  0.018288417068626876\n",
      "Mean Squared Error:  0.0018728518511712251\n",
      "Root Mean Squared Error:  0.04327645839450388\n"
     ]
    }
   ],
   "source": [
    "# Multiple regression errors\n",
    "\n",
    "print('Mean Absolute Error: ', mean_absolute_error(y1_test, y1_pred))\n",
    "print('Mean Squared Error: ', mean_squared_error(y1_test, y1_pred))\n",
    "print('Root Mean Squared Error: ', np.sqrt(mean_squared_error(y1_test, y1_pred)))"
   ]
  },
  {
   "cell_type": "code",
   "execution_count": null,
   "id": "ca76cd07",
   "metadata": {},
   "outputs": [],
   "source": []
  },
  {
   "cell_type": "markdown",
   "id": "a56aea41",
   "metadata": {},
   "source": [
    "> Using support vector regression"
   ]
  },
  {
   "cell_type": "code",
   "execution_count": 128,
   "id": "c45fc9f2",
   "metadata": {},
   "outputs": [],
   "source": [
    "# Used support vector regression to back up results\n",
    "\n",
    "from sklearn.svm import SVR"
   ]
  },
  {
   "cell_type": "code",
   "execution_count": 129,
   "id": "53e41059",
   "metadata": {},
   "outputs": [],
   "source": [
    "# Modelled using linear SVR\n",
    "\n",
    "model_SV = SVR(kernel = 'linear')"
   ]
  },
  {
   "cell_type": "code",
   "execution_count": 130,
   "id": "833342e7",
   "metadata": {},
   "outputs": [],
   "source": [
    "X2_train, X2_test, y2_train, y2_test = train_test_split(X1, y, test_size=0.2, random_state=2)"
   ]
  },
  {
   "cell_type": "code",
   "execution_count": 131,
   "id": "d6caf5a2",
   "metadata": {
    "collapsed": true
   },
   "outputs": [
    {
     "name": "stderr",
     "output_type": "stream",
     "text": [
      "C:\\Users\\IKENNA\\anaconda3\\lib\\site-packages\\sklearn\\utils\\validation.py:993: DataConversionWarning: A column-vector y was passed when a 1d array was expected. Please change the shape of y to (n_samples, ), for example using ravel().\n",
      "  y = column_or_1d(y, warn=True)\n"
     ]
    },
    {
     "data": {
      "text/plain": [
       "SVR(kernel='linear')"
      ]
     },
     "execution_count": 131,
     "metadata": {},
     "output_type": "execute_result"
    }
   ],
   "source": [
    "model_SV.fit(X2_train, y2_train)"
   ]
  },
  {
   "cell_type": "code",
   "execution_count": 132,
   "id": "c4daf4c6",
   "metadata": {},
   "outputs": [],
   "source": [
    "y2_pred = model_SV.predict(X2_test)"
   ]
  },
  {
   "cell_type": "code",
   "execution_count": 133,
   "id": "2908410b",
   "metadata": {
    "scrolled": true
   },
   "outputs": [
    {
     "data": {
      "text/plain": [
       "array([1.07108304, 1.06915003, 1.06945332, 1.09639587, 0.89548159,\n",
       "       1.09551287, 1.09756698, 1.07454359, 1.09911093, 1.06550088,\n",
       "       1.08505128, 1.0992009 , 1.06034692, 1.09679001, 1.0987164 ,\n",
       "       1.09944984, 1.07833846, 1.07028243, 1.07911771, 1.08962797,\n",
       "       1.09805191, 1.09888117, 1.09033654, 1.07070078, 1.09263501,\n",
       "       1.06742687, 1.09808921, 1.08332527, 1.09193376, 1.09890985,\n",
       "       1.09629324, 1.0805203 , 1.0780602 , 0.7799143 , 1.06333399,\n",
       "       1.08194874, 1.09497493, 0.86094055, 1.06744505, 0.99221978,\n",
       "       1.08542883, 1.03238778, 1.02747983, 1.07337915, 1.05955087,\n",
       "       1.0953917 , 1.0804729 , 1.0871578 , 1.07397431, 1.08542515,\n",
       "       1.0995442 , 1.0917386 , 1.07785102, 1.07070078, 1.08738744,\n",
       "       1.09575862, 0.77991085, 1.09820949, 1.06550088, 1.09769577,\n",
       "       1.02874378, 1.06742687, 1.08031213, 1.09918767, 1.07949407,\n",
       "       1.08394167, 1.09857018, 1.04217575, 0.98185657, 1.08283539,\n",
       "       0.86815753, 1.08542883, 1.06915003, 1.09931028, 1.09895835,\n",
       "       1.06333399, 1.07659288, 0.9821775 , 1.06550088, 1.08542883,\n",
       "       1.0967297 , 1.0738339 , 1.0773577 , 1.07830609, 1.09013359,\n",
       "       1.09963641, 1.09665531, 1.08996371, 1.08944429, 1.07210377,\n",
       "       1.07911771, 1.09919941, 1.04282513, 0.92507641, 1.04122256,\n",
       "       1.07070078, 1.07337915, 1.09401743, 1.09427361, 1.09924066,\n",
       "       1.08929743, 1.09116203, 1.09741066, 1.08332527, 1.08762174,\n",
       "       1.09557902, 1.09248762, 1.07833846, 1.08465385, 1.09830133,\n",
       "       1.0964237 , 1.08836413, 1.07337915, 1.06550088, 1.09432283,\n",
       "       1.04239859, 1.04658443, 1.07911771, 1.07070078, 1.07612175,\n",
       "       1.07070078, 1.07998703, 1.09944558, 1.06333399, 1.07183396,\n",
       "       1.0998328 , 1.06087798, 1.09978591, 1.07070078, 1.06087798,\n",
       "       1.06333399, 1.06550088, 1.08633412, 1.08332527, 1.09948694,\n",
       "       1.08052684, 1.09798051, 1.09922378, 1.08735212, 1.09891188,\n",
       "       1.08018749, 1.06915003, 1.09033654, 0.77994674, 1.08423494,\n",
       "       1.07948682, 1.09866001, 1.08230531, 1.09968922, 1.09342942,\n",
       "       1.04658443, 1.06087798, 1.05105191, 0.77992556, 1.06649141,\n",
       "       1.09562257, 1.05483155, 1.09729379, 1.04439265, 1.09835253,\n",
       "       1.09796065, 1.07210377, 1.09969964, 0.94512987, 1.09920708,\n",
       "       1.0990619 , 1.09551186, 0.95504319, 1.07070078, 1.07070078,\n",
       "       1.05807086, 1.09732745, 1.08121715, 1.0997784 , 1.06333399,\n",
       "       1.09410583, 1.08783075, 1.08808544, 1.06735396, 1.0805203 ,\n",
       "       1.09951722, 1.06742687, 1.09835559, 1.09875786, 1.09719913,\n",
       "       1.07911771, 0.99442736, 1.09674997, 1.09165078, 1.08328189,\n",
       "       1.09806185, 1.03716066, 1.09329963, 1.0727563 , 1.07337915,\n",
       "       1.09380746, 1.09979159, 0.98734195, 1.09864684, 1.06541911,\n",
       "       1.07984319, 1.09725156, 1.06649141, 1.06445028, 1.09889278,\n",
       "       1.05105191, 1.06900241, 0.87792025, 0.96525093, 1.04122256])"
      ]
     },
     "execution_count": 133,
     "metadata": {},
     "output_type": "execute_result"
    }
   ],
   "source": [
    "# Results using linear SVR\n",
    "\n",
    "y2_pred"
   ]
  },
  {
   "cell_type": "code",
   "execution_count": 134,
   "id": "6ff5662d",
   "metadata": {},
   "outputs": [
    {
     "data": {
      "image/png": "[encoded data removed]",
      "text/plain": [
       "<Figure size 1800x1000 with 1 Axes>"
      ]
     },
     "metadata": {},
     "output_type": "display_data"
    }
   ],
   "source": [
    "plt.figure(figsize=(18,10))\n",
    "x_axis=range(len(y2_test))\n",
    "plt.plot(x_axis, y2_test, label='Original')\n",
    "plt.plot(x_axis, y2_pred, label='Predicted')\n",
    "plt.title('Actual Price and Predicted Price')\n",
    "plt.legend()\n",
    "plt.show()"
   ]
  },
  {
   "cell_type": "code",
   "execution_count": 135,
   "id": "ab1f2a57",
   "metadata": {},
   "outputs": [
    {
     "data": {
      "text/plain": [
       "-1.118273164926109"
      ]
     },
     "execution_count": 135,
     "metadata": {},
     "output_type": "execute_result"
    }
   ],
   "source": [
    "model_SV.score(X2_test, y2_test)"
   ]
  },
  {
   "cell_type": "code",
   "execution_count": 136,
   "id": "c573bee1",
   "metadata": {},
   "outputs": [
    {
     "name": "stdout",
     "output_type": "stream",
     "text": [
      "Mean Absolute Error:  0.08230146899683417\n",
      "Mean Squared Error:  0.007921681002952026\n",
      "Root Mean Squared Error:  0.08900382577705312\n"
     ]
    }
   ],
   "source": [
    "# Errors using linear SVR\n",
    "\n",
    "print('Mean Absolute Error: ', mean_absolute_error(y2_test, y2_pred))\n",
    "print('Mean Squared Error: ', mean_squared_error(y2_test, y2_pred))\n",
    "print('Root Mean Squared Error: ', np.sqrt(mean_squared_error(y2_test, y2_pred)))"
   ]
  },
  {
   "cell_type": "markdown",
   "id": "16732854",
   "metadata": {},
   "source": [
    "> It was observed that the multiple linear regression errors and SVR errors had similar values"
   ]
  },
  {
   "cell_type": "code",
   "execution_count": null,
   "id": "ae3cabf9",
   "metadata": {},
   "outputs": [],
   "source": []
  },
  {
   "cell_type": "markdown",
   "id": "db15858a",
   "metadata": {},
   "source": [
    "> Using KMeans Clustering"
   ]
  },
  {
   "cell_type": "code",
   "execution_count": 137,
   "id": "81649746",
   "metadata": {},
   "outputs": [],
   "source": [
    "# Imported KMeans and MinMaxScaler from the sklearn library\n",
    "\n",
    "from sklearn.cluster import KMeans\n",
    "from sklearn.preprocessing import MinMaxScaler\n"
   ]
  },
  {
   "cell_type": "code",
   "execution_count": 138,
   "id": "0c5ab0f4",
   "metadata": {},
   "outputs": [],
   "source": [
    "# Filtered for the attributes to be analysed using KMeans\n",
    "\n",
    "focus_2 = black_prdts_mldf.loc[:,['avg_rating','price']]"
   ]
  },
  {
   "cell_type": "code",
   "execution_count": 139,
   "id": "1bb2a832",
   "metadata": {},
   "outputs": [],
   "source": [
    "# Reasserted attributes in focus\n",
    "\n",
    "rating = focus_2['avg_rating']\n",
    "pricing = focus_2['price']"
   ]
  },
  {
   "cell_type": "code",
   "execution_count": 140,
   "id": "9a867149",
   "metadata": {},
   "outputs": [
    {
     "data": {
      "image/png": "[encoded data removed]",
      "text/plain": [
       "<Figure size 640x480 with 1 Axes>"
      ]
     },
     "metadata": {},
     "output_type": "display_data"
    }
   ],
   "source": [
    "# Examined the data points\n",
    "\n",
    "plt.scatter(rating, pricing)\n",
    "plt.xlabel('Average rating')\n",
    "plt.ylabel('Price');"
   ]
  },
  {
   "cell_type": "code",
   "execution_count": 141,
   "id": "a4bf91f5",
   "metadata": {},
   "outputs": [
    {
     "name": "stderr",
     "output_type": "stream",
     "text": [
      "C:\\Users\\IKENNA\\anaconda3\\lib\\site-packages\\sklearn\\cluster\\_kmeans.py:1036: UserWarning: KMeans is known to have a memory leak on Windows with MKL, when there are less chunks than available threads. You can avoid it by setting the environment variable OMP_NUM_THREADS=5.\n",
      "  warnings.warn(\n"
     ]
    },
    {
     "data": {
      "text/plain": [
       "[5112037915.07396,\n",
       " 2281052220.373087,\n",
       " 1189361837.4235616,\n",
       " 706125223.3310348,\n",
       " 472795094.5967941,\n",
       " 323034080.88589936,\n",
       " 253512698.77917242,\n",
       " 189728891.35611627,\n",
       " 138311786.7314675]"
      ]
     },
     "execution_count": 141,
     "metadata": {},
     "output_type": "execute_result"
    }
   ],
   "source": [
    "# Calculated the elbow point for best number of clusters k using sum of squares error sse/ inertia\n",
    "\n",
    "k_range=range(1,10)\n",
    "sse=[]\n",
    "for k in k_range:\n",
    "    km = KMeans(n_clusters=k)\n",
    "    km.fit(focus_2[['avg_rating','price']])\n",
    "    sse.append(km.inertia_) \n",
    "\n",
    "sse"
   ]
  },
  {
   "cell_type": "code",
   "execution_count": 142,
   "id": "2e8d2dfb",
   "metadata": {},
   "outputs": [
    {
     "data": {
      "image/png": "[encoded data removed]",
      "text/plain": [
       "<Figure size 640x480 with 1 Axes>"
      ]
     },
     "metadata": {},
     "output_type": "display_data"
    }
   ],
   "source": [
    "# Plotted inertia vs number of clusters to better determine the elbow point\n",
    "\n",
    "plt.xlabel('Number of Clusters K')\n",
    "plt.ylabel('Inertia')\n",
    "plt.plot(k_range, sse, '-o');"
   ]
  },
  {
   "cell_type": "code",
   "execution_count": 143,
   "id": "c31bcd44",
   "metadata": {},
   "outputs": [],
   "source": [
    "# Set an instance of KMeans with number of clusters = 4\n",
    "# 4 was chosen as the elbow point as there was no significant decrease in inertia from that point\n",
    "\n",
    "km= KMeans(n_clusters=4, random_state=0)"
   ]
  },
  {
   "cell_type": "code",
   "execution_count": 144,
   "id": "e12fbb1b",
   "metadata": {},
   "outputs": [
    {
     "data": {
      "text/plain": [
       "array([2, 2, 2, ..., 1, 1, 1])"
      ]
     },
     "execution_count": 144,
     "metadata": {},
     "output_type": "execute_result"
    }
   ],
   "source": [
    "# Fitted the KMeans to focus_2 df to determine the cluster groupings\n",
    "\n",
    "y3_pred= km.fit_predict(focus_2)\n",
    "\n",
    "y3_pred"
   ]
  },
  {
   "cell_type": "code",
   "execution_count": 145,
   "id": "1372f647",
   "metadata": {},
   "outputs": [
    {
     "data": {
      "text/plain": [
       "{0, 1, 2, 3}"
      ]
     },
     "execution_count": 145,
     "metadata": {},
     "output_type": "execute_result"
    }
   ],
   "source": [
    "set(y3_pred) # To see the unnique values of y3_pred, \"set\" function was used"
   ]
  },
  {
   "cell_type": "code",
   "execution_count": 146,
   "id": "02846414",
   "metadata": {},
   "outputs": [
    {
     "data": {
      "text/plain": [
       "array([[4.09540650e+00, 3.52556098e+03],\n",
       "       [4.10180690e+00, 1.69437379e+03],\n",
       "       [4.18142857e+00, 1.95991429e+04],\n",
       "       [4.13915493e+00, 7.31459155e+03]])"
      ]
     },
     "execution_count": 146,
     "metadata": {},
     "output_type": "execute_result"
    }
   ],
   "source": [
    "km.cluster_centers_  # .cluster_centers_ attribute was used to determine the co-ordinates of the cluster centroids"
   ]
  },
  {
   "cell_type": "code",
   "execution_count": 147,
   "id": "a9eca502",
   "metadata": {},
   "outputs": [
    {
     "data": {
      "text/html": [
       "<div>\n",
       "<style scoped>\n",
       "    .dataframe tbody tr th:only-of-type {\n",
       "        vertical-align: middle;\n",
       "    }\n",
       "\n",
       "    .dataframe tbody tr th {\n",
       "        vertical-align: top;\n",
       "    }\n",
       "\n",
       "    .dataframe thead th {\n",
       "        text-align: right;\n",
       "    }\n",
       "</style>\n",
       "<table border=\"1\" class=\"dataframe\">\n",
       "  <thead>\n",
       "    <tr style=\"text-align: right;\">\n",
       "      <th></th>\n",
       "      <th>avg_rating</th>\n",
       "      <th>price</th>\n",
       "      <th>cluster</th>\n",
       "    </tr>\n",
       "  </thead>\n",
       "  <tbody>\n",
       "    <tr>\n",
       "      <th>0</th>\n",
       "      <td>4.10</td>\n",
       "      <td>30000.0</td>\n",
       "      <td>2</td>\n",
       "    </tr>\n",
       "    <tr>\n",
       "      <th>1</th>\n",
       "      <td>4.10</td>\n",
       "      <td>22300.0</td>\n",
       "      <td>2</td>\n",
       "    </tr>\n",
       "    <tr>\n",
       "      <th>2</th>\n",
       "      <td>4.10</td>\n",
       "      <td>19999.0</td>\n",
       "      <td>2</td>\n",
       "    </tr>\n",
       "    <tr>\n",
       "      <th>3</th>\n",
       "      <td>4.10</td>\n",
       "      <td>19998.0</td>\n",
       "      <td>2</td>\n",
       "    </tr>\n",
       "    <tr>\n",
       "      <th>4</th>\n",
       "      <td>4.67</td>\n",
       "      <td>15998.0</td>\n",
       "      <td>2</td>\n",
       "    </tr>\n",
       "    <tr>\n",
       "      <th>...</th>\n",
       "      <td>...</td>\n",
       "      <td>...</td>\n",
       "      <td>...</td>\n",
       "    </tr>\n",
       "    <tr>\n",
       "      <th>1044</th>\n",
       "      <td>4.10</td>\n",
       "      <td>498.0</td>\n",
       "      <td>1</td>\n",
       "    </tr>\n",
       "    <tr>\n",
       "      <th>1045</th>\n",
       "      <td>4.44</td>\n",
       "      <td>495.0</td>\n",
       "      <td>1</td>\n",
       "    </tr>\n",
       "    <tr>\n",
       "      <th>1046</th>\n",
       "      <td>4.28</td>\n",
       "      <td>489.0</td>\n",
       "      <td>1</td>\n",
       "    </tr>\n",
       "    <tr>\n",
       "      <th>1047</th>\n",
       "      <td>4.10</td>\n",
       "      <td>399.0</td>\n",
       "      <td>1</td>\n",
       "    </tr>\n",
       "    <tr>\n",
       "      <th>1048</th>\n",
       "      <td>4.50</td>\n",
       "      <td>295.0</td>\n",
       "      <td>1</td>\n",
       "    </tr>\n",
       "  </tbody>\n",
       "</table>\n",
       "<p>1049 rows × 3 columns</p>\n",
       "</div>"
      ],
      "text/plain": [
       "      avg_rating    price  cluster\n",
       "0           4.10  30000.0        2\n",
       "1           4.10  22300.0        2\n",
       "2           4.10  19999.0        2\n",
       "3           4.10  19998.0        2\n",
       "4           4.67  15998.0        2\n",
       "...          ...      ...      ...\n",
       "1044        4.10    498.0        1\n",
       "1045        4.44    495.0        1\n",
       "1046        4.28    489.0        1\n",
       "1047        4.10    399.0        1\n",
       "1048        4.50    295.0        1\n",
       "\n",
       "[1049 rows x 3 columns]"
      ]
     },
     "execution_count": 147,
     "metadata": {},
     "output_type": "execute_result"
    }
   ],
   "source": [
    "# Cluster column was created\n",
    "\n",
    "focus_2['cluster']=y3_pred\n",
    "focus_2"
   ]
  },
  {
   "cell_type": "code",
   "execution_count": 148,
   "id": "01376375",
   "metadata": {},
   "outputs": [
    {
     "data": {
      "image/png": "[encoded data removed]",
      "text/plain": [
       "<Figure size 640x480 with 1 Axes>"
      ]
     },
     "metadata": {},
     "output_type": "display_data"
    }
   ],
   "source": [
    "# Dataframes were created and plotted with regards to their cluster grouping of 0,1,2 or 3\n",
    "\n",
    "focus_2_c0= focus_2[focus_2.cluster==0]\n",
    "focus_2_c1= focus_2[focus_2.cluster==1]\n",
    "focus_2_c2= focus_2[focus_2.cluster==2]\n",
    "focus_2_c3= focus_2[focus_2.cluster==3]\n",
    "\n",
    "plt.scatter(focus_2_c0['avg_rating'], focus_2_c0['price'], label='Cluster 0', color='green')\n",
    "plt.scatter(focus_2_c1['avg_rating'], focus_2_c1['price'], label='Cluster 1',color='blue')\n",
    "plt.scatter(focus_2_c2['avg_rating'], focus_2_c2['price'], label='Cluster 2',color='red')\n",
    "plt.scatter(focus_2_c3['avg_rating'], focus_2_c3['price'], label='Cluster 3',color='yellow')\n",
    "plt.scatter(km.cluster_centers_[:,0], km.cluster_centers_[:,1],color='black', marker='*', label ='centroid')\n",
    "\n",
    "\n",
    "plt.xlabel('Average Rating')\n",
    "plt.ylabel('Price')\n",
    "plt.legend();"
   ]
  },
  {
   "cell_type": "code",
   "execution_count": 149,
   "id": "8048f254",
   "metadata": {
    "scrolled": true
   },
   "outputs": [
    {
     "data": {
      "text/html": [
       "<div>\n",
       "<style scoped>\n",
       "    .dataframe tbody tr th:only-of-type {\n",
       "        vertical-align: middle;\n",
       "    }\n",
       "\n",
       "    .dataframe tbody tr th {\n",
       "        vertical-align: top;\n",
       "    }\n",
       "\n",
       "    .dataframe thead th {\n",
       "        text-align: right;\n",
       "    }\n",
       "</style>\n",
       "<table border=\"1\" class=\"dataframe\">\n",
       "  <thead>\n",
       "    <tr style=\"text-align: right;\">\n",
       "      <th></th>\n",
       "      <th>avg_rating</th>\n",
       "      <th>price</th>\n",
       "      <th>cluster</th>\n",
       "    </tr>\n",
       "  </thead>\n",
       "  <tbody>\n",
       "    <tr>\n",
       "      <th>0</th>\n",
       "      <td>0.729730</td>\n",
       "      <td>1.000000</td>\n",
       "      <td>2</td>\n",
       "    </tr>\n",
       "    <tr>\n",
       "      <th>1</th>\n",
       "      <td>0.729730</td>\n",
       "      <td>0.740784</td>\n",
       "      <td>2</td>\n",
       "    </tr>\n",
       "    <tr>\n",
       "      <th>2</th>\n",
       "      <td>0.729730</td>\n",
       "      <td>0.663323</td>\n",
       "      <td>2</td>\n",
       "    </tr>\n",
       "    <tr>\n",
       "      <th>3</th>\n",
       "      <td>0.729730</td>\n",
       "      <td>0.663289</td>\n",
       "      <td>2</td>\n",
       "    </tr>\n",
       "    <tr>\n",
       "      <th>4</th>\n",
       "      <td>0.900901</td>\n",
       "      <td>0.528632</td>\n",
       "      <td>2</td>\n",
       "    </tr>\n",
       "    <tr>\n",
       "      <th>...</th>\n",
       "      <td>...</td>\n",
       "      <td>...</td>\n",
       "      <td>...</td>\n",
       "    </tr>\n",
       "    <tr>\n",
       "      <th>1044</th>\n",
       "      <td>0.729730</td>\n",
       "      <td>0.006834</td>\n",
       "      <td>1</td>\n",
       "    </tr>\n",
       "    <tr>\n",
       "      <th>1045</th>\n",
       "      <td>0.831832</td>\n",
       "      <td>0.006733</td>\n",
       "      <td>1</td>\n",
       "    </tr>\n",
       "    <tr>\n",
       "      <th>1046</th>\n",
       "      <td>0.783784</td>\n",
       "      <td>0.006531</td>\n",
       "      <td>1</td>\n",
       "    </tr>\n",
       "    <tr>\n",
       "      <th>1047</th>\n",
       "      <td>0.729730</td>\n",
       "      <td>0.003501</td>\n",
       "      <td>1</td>\n",
       "    </tr>\n",
       "    <tr>\n",
       "      <th>1048</th>\n",
       "      <td>0.849850</td>\n",
       "      <td>0.000000</td>\n",
       "      <td>1</td>\n",
       "    </tr>\n",
       "  </tbody>\n",
       "</table>\n",
       "<p>1049 rows × 3 columns</p>\n",
       "</div>"
      ],
      "text/plain": [
       "      avg_rating     price  cluster\n",
       "0       0.729730  1.000000        2\n",
       "1       0.729730  0.740784        2\n",
       "2       0.729730  0.663323        2\n",
       "3       0.729730  0.663289        2\n",
       "4       0.900901  0.528632        2\n",
       "...          ...       ...      ...\n",
       "1044    0.729730  0.006834        1\n",
       "1045    0.831832  0.006733        1\n",
       "1046    0.783784  0.006531        1\n",
       "1047    0.729730  0.003501        1\n",
       "1048    0.849850  0.000000        1\n",
       "\n",
       "[1049 rows x 3 columns]"
      ]
     },
     "execution_count": 149,
     "metadata": {},
     "output_type": "execute_result"
    }
   ],
   "source": [
    "# MinMaxScaler was used to preprocess the price and average rating entries to a range scale for more accurate output\n",
    "\n",
    "scaler=MinMaxScaler()\n",
    "scaler.fit(focus_2[['price']])\n",
    "focus_2[['price']]= scaler.transform(focus_2[['price']])\n",
    "\n",
    "scaler.fit(focus_2[['avg_rating']])\n",
    "focus_2[['avg_rating']]= scaler.transform(focus_2[['avg_rating']])\n",
    "\n",
    "focus_2"
   ]
  },
  {
   "cell_type": "code",
   "execution_count": 150,
   "id": "640652a2",
   "metadata": {
    "scrolled": true
   },
   "outputs": [
    {
     "data": {
      "text/html": [
       "<div>\n",
       "<style scoped>\n",
       "    .dataframe tbody tr th:only-of-type {\n",
       "        vertical-align: middle;\n",
       "    }\n",
       "\n",
       "    .dataframe tbody tr th {\n",
       "        vertical-align: top;\n",
       "    }\n",
       "\n",
       "    .dataframe thead th {\n",
       "        text-align: right;\n",
       "    }\n",
       "</style>\n",
       "<table border=\"1\" class=\"dataframe\">\n",
       "  <thead>\n",
       "    <tr style=\"text-align: right;\">\n",
       "      <th></th>\n",
       "      <th>avg_rating</th>\n",
       "      <th>price</th>\n",
       "    </tr>\n",
       "  </thead>\n",
       "  <tbody>\n",
       "    <tr>\n",
       "      <th>0</th>\n",
       "      <td>0.729730</td>\n",
       "      <td>1.000000</td>\n",
       "    </tr>\n",
       "    <tr>\n",
       "      <th>1</th>\n",
       "      <td>0.729730</td>\n",
       "      <td>0.740784</td>\n",
       "    </tr>\n",
       "    <tr>\n",
       "      <th>2</th>\n",
       "      <td>0.729730</td>\n",
       "      <td>0.663323</td>\n",
       "    </tr>\n",
       "    <tr>\n",
       "      <th>3</th>\n",
       "      <td>0.729730</td>\n",
       "      <td>0.663289</td>\n",
       "    </tr>\n",
       "    <tr>\n",
       "      <th>4</th>\n",
       "      <td>0.900901</td>\n",
       "      <td>0.528632</td>\n",
       "    </tr>\n",
       "    <tr>\n",
       "      <th>...</th>\n",
       "      <td>...</td>\n",
       "      <td>...</td>\n",
       "    </tr>\n",
       "    <tr>\n",
       "      <th>1044</th>\n",
       "      <td>0.729730</td>\n",
       "      <td>0.006834</td>\n",
       "    </tr>\n",
       "    <tr>\n",
       "      <th>1045</th>\n",
       "      <td>0.831832</td>\n",
       "      <td>0.006733</td>\n",
       "    </tr>\n",
       "    <tr>\n",
       "      <th>1046</th>\n",
       "      <td>0.783784</td>\n",
       "      <td>0.006531</td>\n",
       "    </tr>\n",
       "    <tr>\n",
       "      <th>1047</th>\n",
       "      <td>0.729730</td>\n",
       "      <td>0.003501</td>\n",
       "    </tr>\n",
       "    <tr>\n",
       "      <th>1048</th>\n",
       "      <td>0.849850</td>\n",
       "      <td>0.000000</td>\n",
       "    </tr>\n",
       "  </tbody>\n",
       "</table>\n",
       "<p>1049 rows × 2 columns</p>\n",
       "</div>"
      ],
      "text/plain": [
       "      avg_rating     price\n",
       "0       0.729730  1.000000\n",
       "1       0.729730  0.740784\n",
       "2       0.729730  0.663323\n",
       "3       0.729730  0.663289\n",
       "4       0.900901  0.528632\n",
       "...          ...       ...\n",
       "1044    0.729730  0.006834\n",
       "1045    0.831832  0.006733\n",
       "1046    0.783784  0.006531\n",
       "1047    0.729730  0.003501\n",
       "1048    0.849850  0.000000\n",
       "\n",
       "[1049 rows x 2 columns]"
      ]
     },
     "execution_count": 150,
     "metadata": {},
     "output_type": "execute_result"
    }
   ],
   "source": [
    "# focus_2 df was sliced for needed columns and instanced as kfocus_2\n",
    "\n",
    "kfocus_2 = focus_2[['avg_rating','price']]\n",
    "kfocus_2"
   ]
  },
  {
   "cell_type": "code",
   "execution_count": 151,
   "id": "8dfd754a",
   "metadata": {},
   "outputs": [
    {
     "data": {
      "text/plain": [
       "array([0, 0, 0, ..., 3, 2, 3])"
      ]
     },
     "execution_count": 151,
     "metadata": {},
     "output_type": "execute_result"
    }
   ],
   "source": [
    "# kfocus_2 was fitted to KMeans\n",
    "\n",
    "y3_pred = km.fit_predict(kfocus_2)\n",
    "y3_pred"
   ]
  },
  {
   "cell_type": "code",
   "execution_count": 152,
   "id": "bfaf4500",
   "metadata": {},
   "outputs": [
    {
     "data": {
      "text/plain": [
       "array([[0.74328382, 0.2781682 ],\n",
       "       [0.47637779, 0.06030948],\n",
       "       [0.71959569, 0.06452473],\n",
       "       [0.84439485, 0.0601119 ]])"
      ]
     },
     "execution_count": 152,
     "metadata": {},
     "output_type": "execute_result"
    }
   ],
   "source": [
    "# The updated centroids after scaling are generated\n",
    "\n",
    "km.cluster_centers_"
   ]
  },
  {
   "cell_type": "code",
   "execution_count": 153,
   "id": "f6fc73b5",
   "metadata": {},
   "outputs": [
    {
     "data": {
      "text/html": [
       "<div>\n",
       "<style scoped>\n",
       "    .dataframe tbody tr th:only-of-type {\n",
       "        vertical-align: middle;\n",
       "    }\n",
       "\n",
       "    .dataframe tbody tr th {\n",
       "        vertical-align: top;\n",
       "    }\n",
       "\n",
       "    .dataframe thead th {\n",
       "        text-align: right;\n",
       "    }\n",
       "</style>\n",
       "<table border=\"1\" class=\"dataframe\">\n",
       "  <thead>\n",
       "    <tr style=\"text-align: right;\">\n",
       "      <th></th>\n",
       "      <th>avg_rating</th>\n",
       "      <th>price</th>\n",
       "      <th>cluster</th>\n",
       "      <th>New_cluster</th>\n",
       "    </tr>\n",
       "  </thead>\n",
       "  <tbody>\n",
       "    <tr>\n",
       "      <th>0</th>\n",
       "      <td>0.729730</td>\n",
       "      <td>1.000000</td>\n",
       "      <td>2</td>\n",
       "      <td>0</td>\n",
       "    </tr>\n",
       "    <tr>\n",
       "      <th>1</th>\n",
       "      <td>0.729730</td>\n",
       "      <td>0.740784</td>\n",
       "      <td>2</td>\n",
       "      <td>0</td>\n",
       "    </tr>\n",
       "    <tr>\n",
       "      <th>2</th>\n",
       "      <td>0.729730</td>\n",
       "      <td>0.663323</td>\n",
       "      <td>2</td>\n",
       "      <td>0</td>\n",
       "    </tr>\n",
       "    <tr>\n",
       "      <th>3</th>\n",
       "      <td>0.729730</td>\n",
       "      <td>0.663289</td>\n",
       "      <td>2</td>\n",
       "      <td>0</td>\n",
       "    </tr>\n",
       "    <tr>\n",
       "      <th>4</th>\n",
       "      <td>0.900901</td>\n",
       "      <td>0.528632</td>\n",
       "      <td>2</td>\n",
       "      <td>0</td>\n",
       "    </tr>\n",
       "    <tr>\n",
       "      <th>...</th>\n",
       "      <td>...</td>\n",
       "      <td>...</td>\n",
       "      <td>...</td>\n",
       "      <td>...</td>\n",
       "    </tr>\n",
       "    <tr>\n",
       "      <th>1044</th>\n",
       "      <td>0.729730</td>\n",
       "      <td>0.006834</td>\n",
       "      <td>1</td>\n",
       "      <td>2</td>\n",
       "    </tr>\n",
       "    <tr>\n",
       "      <th>1045</th>\n",
       "      <td>0.831832</td>\n",
       "      <td>0.006733</td>\n",
       "      <td>1</td>\n",
       "      <td>3</td>\n",
       "    </tr>\n",
       "    <tr>\n",
       "      <th>1046</th>\n",
       "      <td>0.783784</td>\n",
       "      <td>0.006531</td>\n",
       "      <td>1</td>\n",
       "      <td>3</td>\n",
       "    </tr>\n",
       "    <tr>\n",
       "      <th>1047</th>\n",
       "      <td>0.729730</td>\n",
       "      <td>0.003501</td>\n",
       "      <td>1</td>\n",
       "      <td>2</td>\n",
       "    </tr>\n",
       "    <tr>\n",
       "      <th>1048</th>\n",
       "      <td>0.849850</td>\n",
       "      <td>0.000000</td>\n",
       "      <td>1</td>\n",
       "      <td>3</td>\n",
       "    </tr>\n",
       "  </tbody>\n",
       "</table>\n",
       "<p>1049 rows × 4 columns</p>\n",
       "</div>"
      ],
      "text/plain": [
       "      avg_rating     price  cluster  New_cluster\n",
       "0       0.729730  1.000000        2            0\n",
       "1       0.729730  0.740784        2            0\n",
       "2       0.729730  0.663323        2            0\n",
       "3       0.729730  0.663289        2            0\n",
       "4       0.900901  0.528632        2            0\n",
       "...          ...       ...      ...          ...\n",
       "1044    0.729730  0.006834        1            2\n",
       "1045    0.831832  0.006733        1            3\n",
       "1046    0.783784  0.006531        1            3\n",
       "1047    0.729730  0.003501        1            2\n",
       "1048    0.849850  0.000000        1            3\n",
       "\n",
       "[1049 rows x 4 columns]"
      ]
     },
     "execution_count": 153,
     "metadata": {},
     "output_type": "execute_result"
    }
   ],
   "source": [
    "# New_cluster column is generated to show the updated cluster groupings after scaling\n",
    "\n",
    "focus_2['New_cluster']=y3_pred\n",
    "focus_2"
   ]
  },
  {
   "cell_type": "code",
   "execution_count": 154,
   "id": "199cc15c",
   "metadata": {
    "scrolled": false
   },
   "outputs": [
    {
     "data": {
      "image/png": "[encoded data removed]",
      "text/plain": [
       "<Figure size 640x480 with 1 Axes>"
      ]
     },
     "metadata": {},
     "output_type": "display_data"
    }
   ],
   "source": [
    "# Dataframe was sliced and plotted with regards to the updated cluster groupings \n",
    "\n",
    "focus_2_c0= focus_2[focus_2.New_cluster==0]\n",
    "focus_2_c1= focus_2[focus_2.New_cluster==1]\n",
    "focus_2_c2= focus_2[focus_2.New_cluster==2]\n",
    "focus_2_c3= focus_2[focus_2.New_cluster==3]\n",
    "\n",
    "plt.scatter(focus_2_c0['avg_rating'], focus_2_c0['price'], label='Cluster 0', color='green')\n",
    "plt.scatter(focus_2_c1['avg_rating'], focus_2_c1['price'], label='Cluster 1',color='blue')\n",
    "plt.scatter(focus_2_c2['avg_rating'], focus_2_c2['price'], label='Cluster 2',color='red')\n",
    "plt.scatter(focus_2_c3['avg_rating'], focus_2_c3['price'], label='Cluster 3',color='yellow')\n",
    "plt.scatter(km.cluster_centers_[:,0], km.cluster_centers_[:,1],color='black', marker='*', label ='centroid')\n",
    "\n",
    "\n",
    "plt.xlabel('Average Rating')\n",
    "plt.ylabel('Price')\n",
    "plt.legend();\n"
   ]
  },
  {
   "cell_type": "markdown",
   "id": "ab8130d0",
   "metadata": {},
   "source": [
    "> Based on the KMeans cluster analysis, it was observed that most products were above average and had an affordable price, both of which are good for the ever-growing fashion industry. The clusters were largely divided into those with medium average rating and low price, above medium average rating and low price, high average rating and low price and above medium to high average rating and a higher price. Based on the cluster a product fell into, fashion brands could determine the changes required to meet the needs of their shareholders and consumers."
   ]
  },
  {
   "cell_type": "code",
   "execution_count": null,
   "id": "ab972cac",
   "metadata": {},
   "outputs": [],
   "source": []
  },
  {
   "cell_type": "markdown",
   "id": "be7b06c6",
   "metadata": {},
   "source": [
    "## Visualizations"
   ]
  },
  {
   "cell_type": "code",
   "execution_count": 155,
   "id": "c40eda4b",
   "metadata": {},
   "outputs": [],
   "source": [
    "# Imported set plots to be embedded inline\n",
    "\n",
    "import matplotlib.pyplot as plt\n",
    "import seaborn as sb\n",
    "\n",
    "%matplotlib inline"
   ]
  },
  {
   "cell_type": "code",
   "execution_count": 156,
   "id": "49ca6b51",
   "metadata": {},
   "outputs": [
    {
     "data": {
      "text/html": [
       "<div>\n",
       "<style scoped>\n",
       "    .dataframe tbody tr th:only-of-type {\n",
       "        vertical-align: middle;\n",
       "    }\n",
       "\n",
       "    .dataframe tbody tr th {\n",
       "        vertical-align: top;\n",
       "    }\n",
       "\n",
       "    .dataframe thead th {\n",
       "        text-align: right;\n",
       "    }\n",
       "</style>\n",
       "<table border=\"1\" class=\"dataframe\">\n",
       "  <thead>\n",
       "    <tr style=\"text-align: right;\">\n",
       "      <th></th>\n",
       "      <th>p_id</th>\n",
       "      <th>name</th>\n",
       "      <th>price</th>\n",
       "      <th>colour</th>\n",
       "      <th>brand</th>\n",
       "      <th>ratingCount</th>\n",
       "      <th>avg_rating</th>\n",
       "      <th>description</th>\n",
       "      <th>p_attributes</th>\n",
       "      <th>brand_id</th>\n",
       "      <th>brand_name</th>\n",
       "    </tr>\n",
       "  </thead>\n",
       "  <tbody>\n",
       "    <tr>\n",
       "      <th>0</th>\n",
       "      <td>1411010</td>\n",
       "      <td>Dupatta Bazaar Beige Striped Chanderi Cotton S...</td>\n",
       "      <td>449.0</td>\n",
       "      <td>Beige</td>\n",
       "      <td>Dupatta Bazaar</td>\n",
       "      <td>6</td>\n",
       "      <td>2.83</td>\n",
       "      <td>Beige striped dupatta,&amp;nbsp;has a zari border ...</td>\n",
       "      <td>{'Ornamentation': 'Zari', 'Print or Pattern Ty...</td>\n",
       "      <td>242</td>\n",
       "      <td>Dupatta Bazaar</td>\n",
       "    </tr>\n",
       "    <tr>\n",
       "      <th>1</th>\n",
       "      <td>14745736</td>\n",
       "      <td>Baby Lakshmi Girls Orange &amp; Off White Ready to...</td>\n",
       "      <td>698.0</td>\n",
       "      <td>Orange</td>\n",
       "      <td>Baby Lakshmi</td>\n",
       "      <td>1</td>\n",
       "      <td>2.00</td>\n",
       "      <td>Orange and off white solid lehenga choli,&lt;br&gt;O...</td>\n",
       "      <td>{'Blouse Closure': 'Button', 'Blouse Fabric': ...</td>\n",
       "      <td>108</td>\n",
       "      <td>Baby Lakshmi</td>\n",
       "    </tr>\n",
       "    <tr>\n",
       "      <th>2</th>\n",
       "      <td>13278842</td>\n",
       "      <td>Bronz Women Off-White Printed Tunic</td>\n",
       "      <td>699.0</td>\n",
       "      <td>Off White</td>\n",
       "      <td>Bronz</td>\n",
       "      <td>12</td>\n",
       "      <td>2.83</td>\n",
       "      <td>Off-White printed Tunic, has a round neck, and...</td>\n",
       "      <td>{'Body or Garment Size': 'To-Fit Denotes Body ...</td>\n",
       "      <td>152</td>\n",
       "      <td>Bronz</td>\n",
       "    </tr>\n",
       "    <tr>\n",
       "      <th>3</th>\n",
       "      <td>18290008</td>\n",
       "      <td>Go Colors Women Black Tapered Fit Trousers</td>\n",
       "      <td>799.0</td>\n",
       "      <td>Black</td>\n",
       "      <td>Go Colors</td>\n",
       "      <td>2</td>\n",
       "      <td>3.00</td>\n",
       "      <td>&lt;ul&gt; &lt;li&gt; Black woven trousers &lt;/li&gt; &lt;li&gt; Tape...</td>\n",
       "      <td>{'Add-Ons': 'NA', 'Body Shape ID': '443,333,42...</td>\n",
       "      <td>338</td>\n",
       "      <td>Go Colors</td>\n",
       "    </tr>\n",
       "    <tr>\n",
       "      <th>4</th>\n",
       "      <td>11524932</td>\n",
       "      <td>Vishudh Women's Mustard &amp; Pink Striped Tunic</td>\n",
       "      <td>849.0</td>\n",
       "      <td>Mustard</td>\n",
       "      <td>Vishudh</td>\n",
       "      <td>13</td>\n",
       "      <td>2.31</td>\n",
       "      <td>Mustard and Pink striped Tunic, has a mandarin...</td>\n",
       "      <td>{'Body or Garment Size': 'Garment Measurements...</td>\n",
       "      <td>962</td>\n",
       "      <td>Vishudh</td>\n",
       "    </tr>\n",
       "  </tbody>\n",
       "</table>\n",
       "</div>"
      ],
      "text/plain": [
       "       p_id                                               name  price  \\\n",
       "0   1411010  Dupatta Bazaar Beige Striped Chanderi Cotton S...  449.0   \n",
       "1  14745736  Baby Lakshmi Girls Orange & Off White Ready to...  698.0   \n",
       "2  13278842                Bronz Women Off-White Printed Tunic  699.0   \n",
       "3  18290008         Go Colors Women Black Tapered Fit Trousers  799.0   \n",
       "4  11524932       Vishudh Women's Mustard & Pink Striped Tunic  849.0   \n",
       "\n",
       "      colour           brand  ratingCount  avg_rating  \\\n",
       "0      Beige  Dupatta Bazaar            6        2.83   \n",
       "1     Orange    Baby Lakshmi            1        2.00   \n",
       "2  Off White           Bronz           12        2.83   \n",
       "3      Black       Go Colors            2        3.00   \n",
       "4    Mustard         Vishudh           13        2.31   \n",
       "\n",
       "                                         description  \\\n",
       "0  Beige striped dupatta,&nbsp;has a zari border ...   \n",
       "1  Orange and off white solid lehenga choli,<br>O...   \n",
       "2  Off-White printed Tunic, has a round neck, and...   \n",
       "3  <ul> <li> Black woven trousers </li> <li> Tape...   \n",
       "4  Mustard and Pink striped Tunic, has a mandarin...   \n",
       "\n",
       "                                        p_attributes  brand_id      brand_name  \n",
       "0  {'Ornamentation': 'Zari', 'Print or Pattern Ty...       242  Dupatta Bazaar  \n",
       "1  {'Blouse Closure': 'Button', 'Blouse Fabric': ...       108    Baby Lakshmi  \n",
       "2  {'Body or Garment Size': 'To-Fit Denotes Body ...       152           Bronz  \n",
       "3  {'Add-Ons': 'NA', 'Body Shape ID': '443,333,42...       338       Go Colors  \n",
       "4  {'Body or Garment Size': 'Garment Measurements...       962         Vishudh  "
      ]
     },
     "execution_count": 156,
     "metadata": {},
     "output_type": "execute_result"
    }
   ],
   "source": [
    "# Adopted the products reviewed with low ratings for the visualizations\n",
    "\n",
    "review_prdts_df.head()"
   ]
  },
  {
   "cell_type": "code",
   "execution_count": 157,
   "id": "26b07079",
   "metadata": {
    "scrolled": true
   },
   "outputs": [
    {
     "name": "stdout",
     "output_type": "stream",
     "text": [
      "<class 'pandas.core.frame.DataFrame'>\n",
      "RangeIndex: 134 entries, 0 to 133\n",
      "Data columns (total 11 columns):\n",
      " #   Column        Non-Null Count  Dtype  \n",
      "---  ------        --------------  -----  \n",
      " 0   p_id          134 non-null    object \n",
      " 1   name          134 non-null    object \n",
      " 2   price         134 non-null    float64\n",
      " 3   colour        134 non-null    object \n",
      " 4   brand         134 non-null    object \n",
      " 5   ratingCount   134 non-null    int64  \n",
      " 6   avg_rating    134 non-null    float64\n",
      " 7   description   134 non-null    object \n",
      " 8   p_attributes  134 non-null    object \n",
      " 9   brand_id      134 non-null    int64  \n",
      " 10  brand_name    134 non-null    object \n",
      "dtypes: float64(2), int64(2), object(7)\n",
      "memory usage: 11.6+ KB\n"
     ]
    }
   ],
   "source": [
    "review_prdts_df.info()"
   ]
  },
  {
   "cell_type": "code",
   "execution_count": 158,
   "id": "f93b45ad",
   "metadata": {},
   "outputs": [
    {
     "data": {
      "text/plain": [
       "['Beige',\n",
       " 'Orange',\n",
       " 'Off White',\n",
       " 'Black',\n",
       " 'Mustard',\n",
       " 'Green',\n",
       " 'Blue',\n",
       " 'Maroon',\n",
       " 'Magenta',\n",
       " 'White',\n",
       " 'Red',\n",
       " 'Navy Blue',\n",
       " 'Grey',\n",
       " 'Brown',\n",
       " 'Multi',\n",
       " 'Turquoise Blue',\n",
       " 'Fluorescent Green',\n",
       " 'Pink',\n",
       " 'Rust',\n",
       " 'Lime Green',\n",
       " 'Gold',\n",
       " 'Coral',\n",
       " 'Silver',\n",
       " 'Rose',\n",
       " 'Peach',\n",
       " 'Purple',\n",
       " 'Sea Green',\n",
       " 'Yellow',\n",
       " 'Burgundy',\n",
       " 'Teal']"
      ]
     },
     "execution_count": 158,
     "metadata": {},
     "output_type": "execute_result"
    }
   ],
   "source": [
    "# The colour column was adopted for the hue parameter for the seaborn scatterplot\n",
    "\n",
    "list(review_prdts_df['colour'].unique())"
   ]
  },
  {
   "cell_type": "code",
   "execution_count": 160,
   "id": "ea49243a",
   "metadata": {
    "scrolled": false
   },
   "outputs": [
    {
     "data": {
      "image/png": "[encoded data removed]",
      "text/plain": [
       "<Figure size 5500x3000 with 1 Axes>"
      ]
     },
     "metadata": {},
     "output_type": "display_data"
    }
   ],
   "source": [
    "# Scatter plot done with price against average rating\n",
    "\n",
    "sb.scatterplot(data=review_prdts_df, x=\"avg_rating\", y=\"price\", hue=review_prdts_df['colour'], s=500)\n",
    "\n",
    "plt.ylabel('Price(£)', fontsize=30)\n",
    "plt.xlabel('Average Rating', fontsize=30)\n",
    "plt.legend(fontsize=23);\n",
    "\n",
    "plt.xticks(fontsize=22, rotation = 0);\n",
    "plt.yticks(fontsize=22);\n",
    "\n",
    "plt.title('Price Vs Average Rating for Low Reviewd Products', fontsize=32)\n",
    "\n",
    "from matplotlib import rcParams\n",
    "rcParams['figure.figsize'] = 55,30"
   ]
  },
  {
   "cell_type": "markdown",
   "id": "bfc2b766",
   "metadata": {},
   "source": [
    ">  Fashion brands could use this visual presentation to easily determine which colours have poor ratings and the relationship between average rating and price of the poorly reviewed products. They could also determine the products in most need of improvement and see where discounts can be given in order to improve the appeal of given products."
   ]
  },
  {
   "cell_type": "code",
   "execution_count": 161,
   "id": "a29bab2f",
   "metadata": {},
   "outputs": [],
   "source": [
    "# Created the reviewprdts csv file for further analysis on Power BI\n",
    "\n",
    "review_prdts_df.to_csv('reviewprdts.csv', index=False)"
   ]
  }
 ],
 "metadata": {
  "kernelspec": {
   "display_name": "Python 3 (ipykernel)",
   "language": "python",
   "name": "python3"
  },
  "language_info": {
   "codemirror_mode": {
    "name": "ipython",
    "version": 3
   },
   "file_extension": ".py",
   "mimetype": "text/x-python",
   "name": "python",
   "nbconvert_exporter": "python",
   "pygments_lexer": "ipython3",
   "version": "3.9.13"
  }
 },
 "nbformat": 4,
 "nbformat_minor": 5
}
